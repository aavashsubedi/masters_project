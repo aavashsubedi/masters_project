{
 "cells": [
  {
   "cell_type": "markdown",
   "id": "ee119256",
   "metadata": {},
   "source": [
    "# SKA Mid and Low Array Layout Simulations\n",
    "\n",
    "The `ska_ost_array_config` Python package allows astronomers to define custom subarray configurations and perform some simple simulations with them. This notebook provides an overview of all the features provided by this package. The notebook is organized in the following way:\n",
    "\n",
    "* [Define subarrays](#define_subarrays)\n",
    "\n",
    "    * [Exclude stations](#exclude_stations)\n",
    "    * [Distance-based filtering of subarrays](#station_filtering)\n",
    "\n",
    "* [Plot array layout](#plot_layout)\n",
    "* [Plot collecting area vs baseline length](#area_per_bl)\n",
    "* [Plot snapshot uv coverage](#plot_snapshot_uv)\n",
    "* [Plot uv coverage for a generic observation](#plot_uv)\n",
    "* [Compute PSF size](#compute_psf)\n",
    "\n",
    "    * [Plot 1D profiles of the fitted PSF](#psf_profile)\n",
    "    \n",
    "* [Export CASA-compatible antenna list](#export_casa)\n",
    "* [Specifying non-SKAO facilities](#external_telescopes)\n",
    "* [Plots included in the memo](#memo_plots)"
   ]
  },
  {
   "cell_type": "markdown",
   "id": "4e8e8f47",
   "metadata": {},
   "source": [
    "## Define subarrays <a class=\"anchor\" id=\"define_subarrays\"></a>\n",
    "\n",
    "The LowSubArray and MidSubArray classes allow you to define Low and Mid subarrays respectively. "
   ]
  },
  {
   "cell_type": "code",
   "execution_count": null,
   "id": "1c5a2a3a",
   "metadata": {},
   "outputs": [
    {
     "ename": "",
     "evalue": "",
     "output_type": "error",
     "traceback": [
      "\u001b[1;31mFailed to start the Kernel. \n",
      "\u001b[1;31mNameError: name 'version' is not defined. \n",
      "\u001b[1;31mView Jupyter <a href='command:jupyter.viewOutput'>log</a> for further details."
     ]
    }
   ],
   "source": [
    "from ska_ost_array_config.array_config import LowSubArray, MidSubArray"
   ]
  },
  {
   "cell_type": "markdown",
   "id": "0c0c513e",
   "metadata": {},
   "source": [
    "`ska_ost_array_config` currently supports three subarray types: `AA4` (or the design baseline), `AA*`, `AA2`, `AA1`, `AA0.5`, and `custom`. The subarray types with the `AA` prefix correspond to the different array assemblies. See the SKA staged delivery and array assemblies memo for more information.\n",
    "\n",
    "Below are a few examples of how these subarray types can be instantiated:"
   ]
  },
  {
   "cell_type": "code",
   "execution_count": 2,
   "id": "a4939ad2",
   "metadata": {},
   "outputs": [],
   "source": [
    "low_aastar = LowSubArray(subarray_type=\"AA*\")\n",
    "low_aa4 = LowSubArray(subarray_type=\"AA4\")\n",
    "low_custom = LowSubArray(\n",
    "    subarray_type=\"custom\", custom_stations=\"C*,E1-*\"\n",
    ")  # selects all core stations and 6 stations in the E1 cluster\n",
    "\n",
    "mid_aastar = MidSubArray(subarray_type=\"AA*\")\n",
    "mid_aa4 = MidSubArray(subarray_type=\"AA4\")\n",
    "mid_custom = MidSubArray(\n",
    "    subarray_type=\"custom\", custom_stations=\"M*,SKA017\"\n",
    ")  # selects all MeerKAT dishes and one of the MK+ dishes"
   ]
  },
  {
   "cell_type": "markdown",
   "id": "26a2c506",
   "metadata": {},
   "source": [
    "Both LowSubArray and MidSubArray classes store the defined array configurations in the class member `array_config`, which is an object of type `ska_sdp_datamodels.configuration.config_model.Configuration`. It contains various information about the array layout including the station/dish names ( `low_aastar.array_config.names`) and the station/dish coordinates (`low_aastar.array_config`) in a local ENU frame. \n",
    "\n",
    "For example, in the case of `low_aastar`, you can access the array configuration as `low_aastar.array_config`."
   ]
  },
  {
   "cell_type": "code",
   "execution_count": 3,
   "id": "7f457450",
   "metadata": {},
   "outputs": [
    {
     "data": {
      "text/html": [
       "<div><svg style=\"position: absolute; width: 0; height: 0; overflow: hidden\">\n",
       "<defs>\n",
       "<symbol id=\"icon-database\" viewBox=\"0 0 32 32\">\n",
       "<path d=\"M16 0c-8.837 0-16 2.239-16 5v4c0 2.761 7.163 5 16 5s16-2.239 16-5v-4c0-2.761-7.163-5-16-5z\"></path>\n",
       "<path d=\"M16 17c-8.837 0-16-2.239-16-5v6c0 2.761 7.163 5 16 5s16-2.239 16-5v-6c0 2.761-7.163 5-16 5z\"></path>\n",
       "<path d=\"M16 26c-8.837 0-16-2.239-16-5v6c0 2.761 7.163 5 16 5s16-2.239 16-5v-6c0 2.761-7.163 5-16 5z\"></path>\n",
       "</symbol>\n",
       "<symbol id=\"icon-file-text2\" viewBox=\"0 0 32 32\">\n",
       "<path d=\"M28.681 7.159c-0.694-0.947-1.662-2.053-2.724-3.116s-2.169-2.030-3.116-2.724c-1.612-1.182-2.393-1.319-2.841-1.319h-15.5c-1.378 0-2.5 1.121-2.5 2.5v27c0 1.378 1.122 2.5 2.5 2.5h23c1.378 0 2.5-1.122 2.5-2.5v-19.5c0-0.448-0.137-1.23-1.319-2.841zM24.543 5.457c0.959 0.959 1.712 1.825 2.268 2.543h-4.811v-4.811c0.718 0.556 1.584 1.309 2.543 2.268zM28 29.5c0 0.271-0.229 0.5-0.5 0.5h-23c-0.271 0-0.5-0.229-0.5-0.5v-27c0-0.271 0.229-0.5 0.5-0.5 0 0 15.499-0 15.5 0v7c0 0.552 0.448 1 1 1h7v19.5z\"></path>\n",
       "<path d=\"M23 26h-14c-0.552 0-1-0.448-1-1s0.448-1 1-1h14c0.552 0 1 0.448 1 1s-0.448 1-1 1z\"></path>\n",
       "<path d=\"M23 22h-14c-0.552 0-1-0.448-1-1s0.448-1 1-1h14c0.552 0 1 0.448 1 1s-0.448 1-1 1z\"></path>\n",
       "<path d=\"M23 18h-14c-0.552 0-1-0.448-1-1s0.448-1 1-1h14c0.552 0 1 0.448 1 1s-0.448 1-1 1z\"></path>\n",
       "</symbol>\n",
       "</defs>\n",
       "</svg>\n",
       "<style>/* CSS stylesheet for displaying xarray objects in jupyterlab.\n",
       " *\n",
       " */\n",
       "\n",
       ":root {\n",
       "  --xr-font-color0: var(--jp-content-font-color0, rgba(0, 0, 0, 1));\n",
       "  --xr-font-color2: var(--jp-content-font-color2, rgba(0, 0, 0, 0.54));\n",
       "  --xr-font-color3: var(--jp-content-font-color3, rgba(0, 0, 0, 0.38));\n",
       "  --xr-border-color: var(--jp-border-color2, #e0e0e0);\n",
       "  --xr-disabled-color: var(--jp-layout-color3, #bdbdbd);\n",
       "  --xr-background-color: var(--jp-layout-color0, white);\n",
       "  --xr-background-color-row-even: var(--jp-layout-color1, white);\n",
       "  --xr-background-color-row-odd: var(--jp-layout-color2, #eeeeee);\n",
       "}\n",
       "\n",
       "html[theme=dark],\n",
       "body[data-theme=dark],\n",
       "body.vscode-dark {\n",
       "  --xr-font-color0: rgba(255, 255, 255, 1);\n",
       "  --xr-font-color2: rgba(255, 255, 255, 0.54);\n",
       "  --xr-font-color3: rgba(255, 255, 255, 0.38);\n",
       "  --xr-border-color: #1F1F1F;\n",
       "  --xr-disabled-color: #515151;\n",
       "  --xr-background-color: #111111;\n",
       "  --xr-background-color-row-even: #111111;\n",
       "  --xr-background-color-row-odd: #313131;\n",
       "}\n",
       "\n",
       ".xr-wrap {\n",
       "  display: block !important;\n",
       "  min-width: 300px;\n",
       "  max-width: 700px;\n",
       "}\n",
       "\n",
       ".xr-text-repr-fallback {\n",
       "  /* fallback to plain text repr when CSS is not injected (untrusted notebook) */\n",
       "  display: none;\n",
       "}\n",
       "\n",
       ".xr-header {\n",
       "  padding-top: 6px;\n",
       "  padding-bottom: 6px;\n",
       "  margin-bottom: 4px;\n",
       "  border-bottom: solid 1px var(--xr-border-color);\n",
       "}\n",
       "\n",
       ".xr-header > div,\n",
       ".xr-header > ul {\n",
       "  display: inline;\n",
       "  margin-top: 0;\n",
       "  margin-bottom: 0;\n",
       "}\n",
       "\n",
       ".xr-obj-type,\n",
       ".xr-array-name {\n",
       "  margin-left: 2px;\n",
       "  margin-right: 10px;\n",
       "}\n",
       "\n",
       ".xr-obj-type {\n",
       "  color: var(--xr-font-color2);\n",
       "}\n",
       "\n",
       ".xr-sections {\n",
       "  padding-left: 0 !important;\n",
       "  display: grid;\n",
       "  grid-template-columns: 150px auto auto 1fr 20px 20px;\n",
       "}\n",
       "\n",
       ".xr-section-item {\n",
       "  display: contents;\n",
       "}\n",
       "\n",
       ".xr-section-item input {\n",
       "  display: none;\n",
       "}\n",
       "\n",
       ".xr-section-item input + label {\n",
       "  color: var(--xr-disabled-color);\n",
       "}\n",
       "\n",
       ".xr-section-item input:enabled + label {\n",
       "  cursor: pointer;\n",
       "  color: var(--xr-font-color2);\n",
       "}\n",
       "\n",
       ".xr-section-item input:enabled + label:hover {\n",
       "  color: var(--xr-font-color0);\n",
       "}\n",
       "\n",
       ".xr-section-summary {\n",
       "  grid-column: 1;\n",
       "  color: var(--xr-font-color2);\n",
       "  font-weight: 500;\n",
       "}\n",
       "\n",
       ".xr-section-summary > span {\n",
       "  display: inline-block;\n",
       "  padding-left: 0.5em;\n",
       "}\n",
       "\n",
       ".xr-section-summary-in:disabled + label {\n",
       "  color: var(--xr-font-color2);\n",
       "}\n",
       "\n",
       ".xr-section-summary-in + label:before {\n",
       "  display: inline-block;\n",
       "  content: '►';\n",
       "  font-size: 11px;\n",
       "  width: 15px;\n",
       "  text-align: center;\n",
       "}\n",
       "\n",
       ".xr-section-summary-in:disabled + label:before {\n",
       "  color: var(--xr-disabled-color);\n",
       "}\n",
       "\n",
       ".xr-section-summary-in:checked + label:before {\n",
       "  content: '▼';\n",
       "}\n",
       "\n",
       ".xr-section-summary-in:checked + label > span {\n",
       "  display: none;\n",
       "}\n",
       "\n",
       ".xr-section-summary,\n",
       ".xr-section-inline-details {\n",
       "  padding-top: 4px;\n",
       "  padding-bottom: 4px;\n",
       "}\n",
       "\n",
       ".xr-section-inline-details {\n",
       "  grid-column: 2 / -1;\n",
       "}\n",
       "\n",
       ".xr-section-details {\n",
       "  display: none;\n",
       "  grid-column: 1 / -1;\n",
       "  margin-bottom: 5px;\n",
       "}\n",
       "\n",
       ".xr-section-summary-in:checked ~ .xr-section-details {\n",
       "  display: contents;\n",
       "}\n",
       "\n",
       ".xr-array-wrap {\n",
       "  grid-column: 1 / -1;\n",
       "  display: grid;\n",
       "  grid-template-columns: 20px auto;\n",
       "}\n",
       "\n",
       ".xr-array-wrap > label {\n",
       "  grid-column: 1;\n",
       "  vertical-align: top;\n",
       "}\n",
       "\n",
       ".xr-preview {\n",
       "  color: var(--xr-font-color3);\n",
       "}\n",
       "\n",
       ".xr-array-preview,\n",
       ".xr-array-data {\n",
       "  padding: 0 5px !important;\n",
       "  grid-column: 2;\n",
       "}\n",
       "\n",
       ".xr-array-data,\n",
       ".xr-array-in:checked ~ .xr-array-preview {\n",
       "  display: none;\n",
       "}\n",
       "\n",
       ".xr-array-in:checked ~ .xr-array-data,\n",
       ".xr-array-preview {\n",
       "  display: inline-block;\n",
       "}\n",
       "\n",
       ".xr-dim-list {\n",
       "  display: inline-block !important;\n",
       "  list-style: none;\n",
       "  padding: 0 !important;\n",
       "  margin: 0;\n",
       "}\n",
       "\n",
       ".xr-dim-list li {\n",
       "  display: inline-block;\n",
       "  padding: 0;\n",
       "  margin: 0;\n",
       "}\n",
       "\n",
       ".xr-dim-list:before {\n",
       "  content: '(';\n",
       "}\n",
       "\n",
       ".xr-dim-list:after {\n",
       "  content: ')';\n",
       "}\n",
       "\n",
       ".xr-dim-list li:not(:last-child):after {\n",
       "  content: ',';\n",
       "  padding-right: 5px;\n",
       "}\n",
       "\n",
       ".xr-has-index {\n",
       "  font-weight: bold;\n",
       "}\n",
       "\n",
       ".xr-var-list,\n",
       ".xr-var-item {\n",
       "  display: contents;\n",
       "}\n",
       "\n",
       ".xr-var-item > div,\n",
       ".xr-var-item label,\n",
       ".xr-var-item > .xr-var-name span {\n",
       "  background-color: var(--xr-background-color-row-even);\n",
       "  margin-bottom: 0;\n",
       "}\n",
       "\n",
       ".xr-var-item > .xr-var-name:hover span {\n",
       "  padding-right: 5px;\n",
       "}\n",
       "\n",
       ".xr-var-list > li:nth-child(odd) > div,\n",
       ".xr-var-list > li:nth-child(odd) > label,\n",
       ".xr-var-list > li:nth-child(odd) > .xr-var-name span {\n",
       "  background-color: var(--xr-background-color-row-odd);\n",
       "}\n",
       "\n",
       ".xr-var-name {\n",
       "  grid-column: 1;\n",
       "}\n",
       "\n",
       ".xr-var-dims {\n",
       "  grid-column: 2;\n",
       "}\n",
       "\n",
       ".xr-var-dtype {\n",
       "  grid-column: 3;\n",
       "  text-align: right;\n",
       "  color: var(--xr-font-color2);\n",
       "}\n",
       "\n",
       ".xr-var-preview {\n",
       "  grid-column: 4;\n",
       "}\n",
       "\n",
       ".xr-index-preview {\n",
       "  grid-column: 2 / 5;\n",
       "  color: var(--xr-font-color2);\n",
       "}\n",
       "\n",
       ".xr-var-name,\n",
       ".xr-var-dims,\n",
       ".xr-var-dtype,\n",
       ".xr-preview,\n",
       ".xr-attrs dt {\n",
       "  white-space: nowrap;\n",
       "  overflow: hidden;\n",
       "  text-overflow: ellipsis;\n",
       "  padding-right: 10px;\n",
       "}\n",
       "\n",
       ".xr-var-name:hover,\n",
       ".xr-var-dims:hover,\n",
       ".xr-var-dtype:hover,\n",
       ".xr-attrs dt:hover {\n",
       "  overflow: visible;\n",
       "  width: auto;\n",
       "  z-index: 1;\n",
       "}\n",
       "\n",
       ".xr-var-attrs,\n",
       ".xr-var-data,\n",
       ".xr-index-data {\n",
       "  display: none;\n",
       "  background-color: var(--xr-background-color) !important;\n",
       "  padding-bottom: 5px !important;\n",
       "}\n",
       "\n",
       ".xr-var-attrs-in:checked ~ .xr-var-attrs,\n",
       ".xr-var-data-in:checked ~ .xr-var-data,\n",
       ".xr-index-data-in:checked ~ .xr-index-data {\n",
       "  display: block;\n",
       "}\n",
       "\n",
       ".xr-var-data > table {\n",
       "  float: right;\n",
       "}\n",
       "\n",
       ".xr-var-name span,\n",
       ".xr-var-data,\n",
       ".xr-index-name div,\n",
       ".xr-index-data,\n",
       ".xr-attrs {\n",
       "  padding-left: 25px !important;\n",
       "}\n",
       "\n",
       ".xr-attrs,\n",
       ".xr-var-attrs,\n",
       ".xr-var-data,\n",
       ".xr-index-data {\n",
       "  grid-column: 1 / -1;\n",
       "}\n",
       "\n",
       "dl.xr-attrs {\n",
       "  padding: 0;\n",
       "  margin: 0;\n",
       "  display: grid;\n",
       "  grid-template-columns: 125px auto;\n",
       "}\n",
       "\n",
       ".xr-attrs dt,\n",
       ".xr-attrs dd {\n",
       "  padding: 0;\n",
       "  margin: 0;\n",
       "  float: left;\n",
       "  padding-right: 10px;\n",
       "  width: auto;\n",
       "}\n",
       "\n",
       ".xr-attrs dt {\n",
       "  font-weight: normal;\n",
       "  grid-column: 1;\n",
       "}\n",
       "\n",
       ".xr-attrs dt:hover span {\n",
       "  display: inline-block;\n",
       "  background: var(--xr-background-color);\n",
       "  padding-right: 10px;\n",
       "}\n",
       "\n",
       ".xr-attrs dd {\n",
       "  grid-column: 2;\n",
       "  white-space: pre-wrap;\n",
       "  word-break: break-all;\n",
       "}\n",
       "\n",
       ".xr-icon-database,\n",
       ".xr-icon-file-text2,\n",
       ".xr-no-icon {\n",
       "  display: inline-block;\n",
       "  vertical-align: middle;\n",
       "  width: 1em;\n",
       "  height: 1.5em !important;\n",
       "  stroke-width: 0;\n",
       "  stroke: currentColor;\n",
       "  fill: currentColor;\n",
       "}\n",
       "</style><pre class='xr-text-repr-fallback'>&lt;xarray.Configuration&gt;\n",
       "Dimensions:   (id: 307, spatial: 3)\n",
       "Coordinates:\n",
       "  * id        (id) int64 0 1 2 3 4 5 6 7 8 ... 299 300 301 302 303 304 305 306\n",
       "  * spatial   (spatial) &lt;U1 &#x27;X&#x27; &#x27;Y&#x27; &#x27;Z&#x27;\n",
       "Data variables:\n",
       "    names     (id) &lt;U5 &#x27;C1&#x27; &#x27;C10&#x27; &#x27;C100&#x27; &#x27;C101&#x27; ... &#x27;S9-3&#x27; &#x27;S9-4&#x27; &#x27;S9-5&#x27; &#x27;S9-6&#x27;\n",
       "    xyz       (id, spatial) float64 124.0 -159.5 -377.8 ... -6.112e+03 -381.0\n",
       "    diameter  (id) float64 38.0 38.0 38.0 38.0 38.0 ... 38.0 38.0 38.0 38.0 38.0\n",
       "    mount     (id) &lt;U2 &#x27;XY&#x27; &#x27;XY&#x27; &#x27;XY&#x27; &#x27;XY&#x27; &#x27;XY&#x27; ... &#x27;XY&#x27; &#x27;XY&#x27; &#x27;XY&#x27; &#x27;XY&#x27; &#x27;XY&#x27;\n",
       "    vp_type   (id) &lt;U3 &#x27;LOW&#x27; &#x27;LOW&#x27; &#x27;LOW&#x27; &#x27;LOW&#x27; &#x27;LOW&#x27; ... &#x27;LOW&#x27; &#x27;LOW&#x27; &#x27;LOW&#x27; &#x27;LOW&#x27;\n",
       "    offset    (id, spatial) float64 0.0 0.0 0.0 0.0 0.0 ... 0.0 0.0 0.0 0.0 0.0\n",
       "    stations  (id) &lt;U3 &#x27;0&#x27; &#x27;1&#x27; &#x27;2&#x27; &#x27;3&#x27; &#x27;4&#x27; &#x27;5&#x27; ... &#x27;302&#x27; &#x27;303&#x27; &#x27;304&#x27; &#x27;305&#x27; &#x27;306&#x27;\n",
       "Attributes:\n",
       "    data_model:      Configuration\n",
       "    name:            \n",
       "    location:        (-2565049.57365839, 5085773.89559407, -2861068.21571796) m\n",
       "    receptor_frame:  &lt;ska_sdp_datamodels.science_data_model.polarisation_mode...\n",
       "    frame:           </pre><div class='xr-wrap' style='display:none'><div class='xr-header'><div class='xr-obj-type'>xarray.Configuration</div></div><ul class='xr-sections'><li class='xr-section-item'><input id='section-e62afc87-23d9-4bd1-9a51-1551eb2a2adb' class='xr-section-summary-in' type='checkbox' disabled ><label for='section-e62afc87-23d9-4bd1-9a51-1551eb2a2adb' class='xr-section-summary'  title='Expand/collapse section'>Dimensions:</label><div class='xr-section-inline-details'><ul class='xr-dim-list'><li><span class='xr-has-index'>id</span>: 307</li><li><span class='xr-has-index'>spatial</span>: 3</li></ul></div><div class='xr-section-details'></div></li><li class='xr-section-item'><input id='section-c5a3ea98-369b-4c7b-82cd-bf521118c53d' class='xr-section-summary-in' type='checkbox'  checked><label for='section-c5a3ea98-369b-4c7b-82cd-bf521118c53d' class='xr-section-summary' >Coordinates: <span>(2)</span></label><div class='xr-section-inline-details'></div><div class='xr-section-details'><ul class='xr-var-list'><li class='xr-var-item'><div class='xr-var-name'><span class='xr-has-index'>id</span></div><div class='xr-var-dims'>(id)</div><div class='xr-var-dtype'>int64</div><div class='xr-var-preview xr-preview'>0 1 2 3 4 5 ... 302 303 304 305 306</div><input id='attrs-e3096ef7-a4a6-46ae-aae9-2508a923686c' class='xr-var-attrs-in' type='checkbox' disabled><label for='attrs-e3096ef7-a4a6-46ae-aae9-2508a923686c' title='Show/Hide attributes'><svg class='icon xr-icon-file-text2'><use xlink:href='#icon-file-text2'></use></svg></label><input id='data-752217dd-359b-4aee-b864-b6a15c1fb53a' class='xr-var-data-in' type='checkbox'><label for='data-752217dd-359b-4aee-b864-b6a15c1fb53a' title='Show/Hide data repr'><svg class='icon xr-icon-database'><use xlink:href='#icon-database'></use></svg></label><div class='xr-var-attrs'><dl class='xr-attrs'></dl></div><div class='xr-var-data'><pre>array([  0,   1,   2, ..., 304, 305, 306])</pre></div></li><li class='xr-var-item'><div class='xr-var-name'><span class='xr-has-index'>spatial</span></div><div class='xr-var-dims'>(spatial)</div><div class='xr-var-dtype'>&lt;U1</div><div class='xr-var-preview xr-preview'>&#x27;X&#x27; &#x27;Y&#x27; &#x27;Z&#x27;</div><input id='attrs-d3afb432-ecdb-4c23-8eba-dcc1b0e52019' class='xr-var-attrs-in' type='checkbox' disabled><label for='attrs-d3afb432-ecdb-4c23-8eba-dcc1b0e52019' title='Show/Hide attributes'><svg class='icon xr-icon-file-text2'><use xlink:href='#icon-file-text2'></use></svg></label><input id='data-9d4ed29d-3505-4d7e-93dc-7cf73b15a919' class='xr-var-data-in' type='checkbox'><label for='data-9d4ed29d-3505-4d7e-93dc-7cf73b15a919' title='Show/Hide data repr'><svg class='icon xr-icon-database'><use xlink:href='#icon-database'></use></svg></label><div class='xr-var-attrs'><dl class='xr-attrs'></dl></div><div class='xr-var-data'><pre>array([&#x27;X&#x27;, &#x27;Y&#x27;, &#x27;Z&#x27;], dtype=&#x27;&lt;U1&#x27;)</pre></div></li></ul></div></li><li class='xr-section-item'><input id='section-2f41306e-62d2-4170-9546-0421f18b07c9' class='xr-section-summary-in' type='checkbox'  checked><label for='section-2f41306e-62d2-4170-9546-0421f18b07c9' class='xr-section-summary' >Data variables: <span>(7)</span></label><div class='xr-section-inline-details'></div><div class='xr-section-details'><ul class='xr-var-list'><li class='xr-var-item'><div class='xr-var-name'><span>names</span></div><div class='xr-var-dims'>(id)</div><div class='xr-var-dtype'>&lt;U5</div><div class='xr-var-preview xr-preview'>&#x27;C1&#x27; &#x27;C10&#x27; &#x27;C100&#x27; ... &#x27;S9-5&#x27; &#x27;S9-6&#x27;</div><input id='attrs-dd7b53e2-b83c-4374-b783-871df06590ec' class='xr-var-attrs-in' type='checkbox' disabled><label for='attrs-dd7b53e2-b83c-4374-b783-871df06590ec' title='Show/Hide attributes'><svg class='icon xr-icon-file-text2'><use xlink:href='#icon-file-text2'></use></svg></label><input id='data-9bdff6a8-5fb8-49ee-a214-6f020a92d0b4' class='xr-var-data-in' type='checkbox'><label for='data-9bdff6a8-5fb8-49ee-a214-6f020a92d0b4' title='Show/Hide data repr'><svg class='icon xr-icon-database'><use xlink:href='#icon-database'></use></svg></label><div class='xr-var-attrs'><dl class='xr-attrs'></dl></div><div class='xr-var-data'><pre>array([&#x27;C1&#x27;, &#x27;C10&#x27;, &#x27;C100&#x27;, &#x27;C101&#x27;, &#x27;C102&#x27;, &#x27;C103&#x27;, &#x27;C104&#x27;, &#x27;C105&#x27;,\n",
       "       &#x27;C106&#x27;, &#x27;C107&#x27;, &#x27;C108&#x27;, &#x27;C109&#x27;, &#x27;C11&#x27;, &#x27;C110&#x27;, &#x27;C111&#x27;, &#x27;C112&#x27;,\n",
       "       &#x27;C113&#x27;, &#x27;C114&#x27;, &#x27;C115&#x27;, &#x27;C117&#x27;, &#x27;C119&#x27;, &#x27;C12&#x27;, &#x27;C120&#x27;, &#x27;C121&#x27;,\n",
       "       &#x27;C123&#x27;, &#x27;C124&#x27;, &#x27;C125&#x27;, &#x27;C126&#x27;, &#x27;C128&#x27;, &#x27;C129&#x27;, &#x27;C13&#x27;, &#x27;C130&#x27;,\n",
       "       &#x27;C132&#x27;, &#x27;C133&#x27;, &#x27;C135&#x27;, &#x27;C137&#x27;, &#x27;C138&#x27;, &#x27;C139&#x27;, &#x27;C14&#x27;, &#x27;C140&#x27;,\n",
       "       &#x27;C141&#x27;, &#x27;C142&#x27;, &#x27;C143&#x27;, &#x27;C144&#x27;, &#x27;C145&#x27;, &#x27;C146&#x27;, &#x27;C147&#x27;, &#x27;C148&#x27;,\n",
       "       &#x27;C149&#x27;, &#x27;C15&#x27;, &#x27;C150&#x27;, &#x27;C151&#x27;, &#x27;C153&#x27;, &#x27;C154&#x27;, &#x27;C155&#x27;, &#x27;C156&#x27;,\n",
       "       &#x27;C158&#x27;, &#x27;C16&#x27;, &#x27;C160&#x27;, &#x27;C161&#x27;, &#x27;C162&#x27;, &#x27;C163&#x27;, &#x27;C164&#x27;, &#x27;C165&#x27;,\n",
       "       &#x27;C166&#x27;, &#x27;C167&#x27;, &#x27;C168&#x27;, &#x27;C17&#x27;, &#x27;C170&#x27;, &#x27;C171&#x27;, &#x27;C172&#x27;, &#x27;C173&#x27;,\n",
       "       &#x27;C175&#x27;, &#x27;C176&#x27;, &#x27;C177&#x27;, &#x27;C179&#x27;, &#x27;C18&#x27;, &#x27;C180&#x27;, &#x27;C181&#x27;, &#x27;C183&#x27;,\n",
       "       &#x27;C184&#x27;, &#x27;C185&#x27;, &#x27;C186&#x27;, &#x27;C187&#x27;, &#x27;C19&#x27;, &#x27;C190&#x27;, &#x27;C191&#x27;, &#x27;C192&#x27;,\n",
       "       &#x27;C193&#x27;, &#x27;C194&#x27;, &#x27;C195&#x27;, &#x27;C197&#x27;, &#x27;C198&#x27;, &#x27;C199&#x27;, &#x27;C2&#x27;, &#x27;C20&#x27;,\n",
       "       &#x27;C200&#x27;, &#x27;C201&#x27;, &#x27;C202&#x27;, &#x27;C203&#x27;, &#x27;C204&#x27;, &#x27;C205&#x27;, &#x27;C206&#x27;, &#x27;C207&#x27;,\n",
       "       &#x27;C208&#x27;, &#x27;C21&#x27;, &#x27;C212&#x27;, &#x27;C213&#x27;, &#x27;C214&#x27;, &#x27;C216&#x27;, &#x27;C217&#x27;, &#x27;C219&#x27;,\n",
       "       &#x27;C22&#x27;, &#x27;C222&#x27;, &#x27;C223&#x27;, &#x27;C224&#x27;, &#x27;C23&#x27;, &#x27;C24&#x27;, &#x27;C25&#x27;, &#x27;C26&#x27;, &#x27;C27&#x27;,\n",
       "       &#x27;C28&#x27;, &#x27;C29&#x27;, &#x27;C3&#x27;, &#x27;C30&#x27;, &#x27;C31&#x27;, &#x27;C32&#x27;, &#x27;C33&#x27;, &#x27;C34&#x27;, &#x27;C35&#x27;,\n",
       "       &#x27;C36&#x27;, &#x27;C37&#x27;, &#x27;C38&#x27;, &#x27;C39&#x27;, &#x27;C4&#x27;, &#x27;C40&#x27;, &#x27;C41&#x27;, &#x27;C42&#x27;, &#x27;C43&#x27;,\n",
       "       &#x27;C44&#x27;, &#x27;C45&#x27;, &#x27;C46&#x27;, &#x27;C47&#x27;, &#x27;C48&#x27;, &#x27;C49&#x27;, &#x27;C5&#x27;, &#x27;C50&#x27;, &#x27;C51&#x27;,\n",
       "       &#x27;C52&#x27;, &#x27;C53&#x27;, &#x27;C54&#x27;, &#x27;C55&#x27;, &#x27;C56&#x27;, &#x27;C57&#x27;, &#x27;C58&#x27;, &#x27;C59&#x27;, &#x27;C6&#x27;,\n",
       "       &#x27;C60&#x27;, &#x27;C61&#x27;, &#x27;C62&#x27;, &#x27;C63&#x27;, &#x27;C64&#x27;, &#x27;C65&#x27;, &#x27;C66&#x27;, &#x27;C67&#x27;, &#x27;C68&#x27;,\n",
       "       &#x27;C69&#x27;, &#x27;C7&#x27;, &#x27;C70&#x27;, &#x27;C71&#x27;, &#x27;C72&#x27;, &#x27;C73&#x27;, &#x27;C74&#x27;, &#x27;C75&#x27;, &#x27;C76&#x27;,\n",
       "       &#x27;C77&#x27;, &#x27;C78&#x27;, &#x27;C79&#x27;, &#x27;C8&#x27;, &#x27;C80&#x27;, &#x27;C81&#x27;, &#x27;C82&#x27;, &#x27;C83&#x27;, &#x27;C84&#x27;,\n",
       "       &#x27;C85&#x27;, &#x27;C86&#x27;, &#x27;C87&#x27;, &#x27;C88&#x27;, &#x27;C89&#x27;, &#x27;C9&#x27;, &#x27;C90&#x27;, &#x27;C91&#x27;, &#x27;C92&#x27;,\n",
       "       &#x27;C93&#x27;, &#x27;C95&#x27;, &#x27;C96&#x27;, &#x27;C97&#x27;, &#x27;C98&#x27;, &#x27;C99&#x27;, &#x27;E10-1&#x27;, &#x27;E10-2&#x27;,\n",
       "       &#x27;E10-3&#x27;, &#x27;E10-4&#x27;, &#x27;E10-5&#x27;, &#x27;E10-6&#x27;, &#x27;E12-1&#x27;, &#x27;E12-2&#x27;, &#x27;E12-3&#x27;,\n",
       "       &#x27;E12-4&#x27;, &#x27;E12-5&#x27;, &#x27;E12-6&#x27;, &#x27;E14-1&#x27;, &#x27;E14-2&#x27;, &#x27;E14-3&#x27;, &#x27;E14-4&#x27;,\n",
       "       &#x27;E14-5&#x27;, &#x27;E14-6&#x27;, &#x27;E16-1&#x27;, &#x27;E16-2&#x27;, &#x27;E16-3&#x27;, &#x27;E16-4&#x27;, &#x27;E16-5&#x27;,\n",
       "       &#x27;E16-6&#x27;, &#x27;E8-1&#x27;, &#x27;E8-2&#x27;, &#x27;E8-3&#x27;, &#x27;E8-4&#x27;, &#x27;E8-5&#x27;, &#x27;E8-6&#x27;, &#x27;E9-1&#x27;,\n",
       "       &#x27;E9-2&#x27;, &#x27;E9-3&#x27;, &#x27;E9-4&#x27;, &#x27;E9-5&#x27;, &#x27;E9-6&#x27;, &#x27;N10-1&#x27;, &#x27;N10-2&#x27;, &#x27;N10-3&#x27;,\n",
       "       &#x27;N10-4&#x27;, &#x27;N10-5&#x27;, &#x27;N10-6&#x27;, &#x27;N11-1&#x27;, &#x27;N11-2&#x27;, &#x27;N11-3&#x27;, &#x27;N11-4&#x27;,\n",
       "       &#x27;N11-5&#x27;, &#x27;N11-6&#x27;, &#x27;N14-1&#x27;, &#x27;N14-2&#x27;, &#x27;N14-3&#x27;, &#x27;N14-4&#x27;, &#x27;N14-5&#x27;,\n",
       "       &#x27;N14-6&#x27;, &#x27;N16-1&#x27;, &#x27;N16-2&#x27;, &#x27;N16-3&#x27;, &#x27;N16-4&#x27;, &#x27;N16-5&#x27;, &#x27;N16-6&#x27;,\n",
       "       &#x27;N8-1&#x27;, &#x27;N8-2&#x27;, &#x27;N8-3&#x27;, &#x27;N8-4&#x27;, &#x27;N8-5&#x27;, &#x27;N8-6&#x27;, &#x27;N9-1&#x27;, &#x27;N9-2&#x27;,\n",
       "       &#x27;N9-3&#x27;, &#x27;N9-4&#x27;, &#x27;N9-5&#x27;, &#x27;N9-6&#x27;, &#x27;S10-1&#x27;, &#x27;S10-2&#x27;, &#x27;S10-3&#x27;, &#x27;S10-4&#x27;,\n",
       "       &#x27;S10-5&#x27;, &#x27;S10-6&#x27;, &#x27;S12-1&#x27;, &#x27;S12-2&#x27;, &#x27;S12-3&#x27;, &#x27;S12-4&#x27;, &#x27;S12-5&#x27;,\n",
       "       &#x27;S12-6&#x27;, &#x27;S14-1&#x27;, &#x27;S14-2&#x27;, &#x27;S14-3&#x27;, &#x27;S14-4&#x27;, &#x27;S14-5&#x27;, &#x27;S14-6&#x27;,\n",
       "       &#x27;S16-1&#x27;, &#x27;S16-2&#x27;, &#x27;S16-3&#x27;, &#x27;S16-4&#x27;, &#x27;S16-5&#x27;, &#x27;S16-6&#x27;, &#x27;S8-1&#x27;,\n",
       "       &#x27;S8-2&#x27;, &#x27;S8-3&#x27;, &#x27;S8-4&#x27;, &#x27;S8-5&#x27;, &#x27;S8-6&#x27;, &#x27;S9-1&#x27;, &#x27;S9-2&#x27;, &#x27;S9-3&#x27;,\n",
       "       &#x27;S9-4&#x27;, &#x27;S9-5&#x27;, &#x27;S9-6&#x27;], dtype=&#x27;&lt;U5&#x27;)</pre></div></li><li class='xr-var-item'><div class='xr-var-name'><span>xyz</span></div><div class='xr-var-dims'>(id, spatial)</div><div class='xr-var-dtype'>float64</div><div class='xr-var-preview xr-preview'>124.0 -159.5 ... -6.112e+03 -381.0</div><input id='attrs-ee506ec7-7a35-4512-a500-91061686e4bf' class='xr-var-attrs-in' type='checkbox' disabled><label for='attrs-ee506ec7-7a35-4512-a500-91061686e4bf' title='Show/Hide attributes'><svg class='icon xr-icon-file-text2'><use xlink:href='#icon-file-text2'></use></svg></label><input id='data-9dd61db9-90ac-4bdd-9baa-678e7396e482' class='xr-var-data-in' type='checkbox'><label for='data-9dd61db9-90ac-4bdd-9baa-678e7396e482' title='Show/Hide data repr'><svg class='icon xr-icon-database'><use xlink:href='#icon-database'></use></svg></label><div class='xr-var-attrs'><dl class='xr-attrs'></dl></div><div class='xr-var-data'><pre>array([[ 1.24040126e+02, -1.59544869e+02, -3.77803210e+02],\n",
       "       [-1.83429036e+02,  5.60727183e+01, -3.77802883e+02],\n",
       "       [ 1.26127251e+02, -2.01981594e+02, -3.77804459e+02],\n",
       "       [-7.28880065e+01,  3.17009589e+02, -3.77808331e+02],\n",
       "       [-1.16926357e+02,  2.48091205e+02, -3.77805919e+02],\n",
       "       [ 2.77923188e+02, -1.16999817e+02, -3.77807129e+02],\n",
       "       [ 1.91941748e+02,  2.74571662e+02, -3.77808824e+02],\n",
       "       [-4.88303862e+01,  2.64268559e+02, -3.77805687e+02],\n",
       "       [-2.64351244e+02,  2.22272407e+02, -3.77809366e+02],\n",
       "       [ 2.76735260e+02,  1.09255381e+02, -3.77806940e+02],\n",
       "       [-2.47843982e+02, -4.20978627e+01, -3.77804952e+02],\n",
       "       [ 1.52575430e+02,  2.93629925e+02, -3.77808614e+02],\n",
       "       [-1.36706847e+02,  4.92036636e+01, -3.77801655e+02],\n",
       "       [ 6.17141431e+01,  2.98949131e+02, -3.77807337e+02],\n",
       "       [-2.06090666e+02, -1.62315962e+02, -3.77805402e+02],\n",
       "       [ 1.20082562e+01, -2.81868348e+02, -3.77806269e+02],\n",
       "       [-1.22885516e+02, -3.12449965e+02, -3.77808872e+02],\n",
       "       [-2.50233899e+02,  1.65985918e+02, -3.77807075e+02],\n",
       "       [-3.15737342e+02, -1.33731625e+02, -3.77809218e+02],\n",
       "       [ 1.78514799e+02, -1.87467322e+02, -3.77805264e+02],\n",
       "...\n",
       "       [-6.68871638e+03, -2.07044624e+04, -4.15066937e+02],\n",
       "       [-6.63206804e+03, -2.06659837e+04, -4.14882447e+02],\n",
       "       [-2.82582679e+04, -2.60857439e+04, -4.93949432e+02],\n",
       "       [-2.83132637e+04, -2.60689144e+04, -4.94124033e+02],\n",
       "       [-2.82137899e+04, -2.60576108e+04, -4.93637124e+02],\n",
       "       [-2.82614740e+04, -2.60279115e+04, -4.93726258e+02],\n",
       "       [-2.83287311e+04, -2.60287274e+04, -4.94027772e+02],\n",
       "       [-2.82852621e+04, -2.59930617e+04, -4.93688852e+02],\n",
       "       [-3.45936838e+03, -3.48305188e+03, -3.79692989e+02],\n",
       "       [-3.41574091e+03, -3.48038076e+03, -3.79668026e+02],\n",
       "       [-3.37361347e+03, -3.44280780e+03, -3.79625133e+02],\n",
       "       [-3.41178211e+03, -3.41966061e+03, -3.79632911e+02],\n",
       "       [-3.45521559e+03, -3.40571147e+03, -3.79648778e+02],\n",
       "       [-3.42113815e+03, -3.36736496e+03, -3.79609965e+02],\n",
       "       [-1.64570835e+03, -6.21416165e+03, -3.81053536e+02],\n",
       "       [-1.70055743e+03, -6.19389224e+03, -3.81048106e+02],\n",
       "       [-1.64700660e+03, -6.16385790e+03, -3.81004831e+02],\n",
       "       [-1.71079758e+03, -6.14879737e+03, -3.81007006e+02],\n",
       "       [-1.59623899e+03, -6.12274399e+03, -3.80952146e+02],\n",
       "       [-1.68496895e+03, -6.11200777e+03, -3.80964609e+02]])</pre></div></li><li class='xr-var-item'><div class='xr-var-name'><span>diameter</span></div><div class='xr-var-dims'>(id)</div><div class='xr-var-dtype'>float64</div><div class='xr-var-preview xr-preview'>38.0 38.0 38.0 ... 38.0 38.0 38.0</div><input id='attrs-62194db4-03c8-4f75-b8a2-6406dbd427cd' class='xr-var-attrs-in' type='checkbox' disabled><label for='attrs-62194db4-03c8-4f75-b8a2-6406dbd427cd' title='Show/Hide attributes'><svg class='icon xr-icon-file-text2'><use xlink:href='#icon-file-text2'></use></svg></label><input id='data-288db0a5-484a-4a4b-a68e-7fc4422ca534' class='xr-var-data-in' type='checkbox'><label for='data-288db0a5-484a-4a4b-a68e-7fc4422ca534' title='Show/Hide data repr'><svg class='icon xr-icon-database'><use xlink:href='#icon-database'></use></svg></label><div class='xr-var-attrs'><dl class='xr-attrs'></dl></div><div class='xr-var-data'><pre>array([38., 38., 38., 38., 38., 38., 38., 38., 38., 38., 38., 38., 38.,\n",
       "       38., 38., 38., 38., 38., 38., 38., 38., 38., 38., 38., 38., 38.,\n",
       "       38., 38., 38., 38., 38., 38., 38., 38., 38., 38., 38., 38., 38.,\n",
       "       38., 38., 38., 38., 38., 38., 38., 38., 38., 38., 38., 38., 38.,\n",
       "       38., 38., 38., 38., 38., 38., 38., 38., 38., 38., 38., 38., 38.,\n",
       "       38., 38., 38., 38., 38., 38., 38., 38., 38., 38., 38., 38., 38.,\n",
       "       38., 38., 38., 38., 38., 38., 38., 38., 38., 38., 38., 38., 38.,\n",
       "       38., 38., 38., 38., 38., 38., 38., 38., 38., 38., 38., 38., 38.,\n",
       "       38., 38., 38., 38., 38., 38., 38., 38., 38., 38., 38., 38., 38.,\n",
       "       38., 38., 38., 38., 38., 38., 38., 38., 38., 38., 38., 38., 38.,\n",
       "       38., 38., 38., 38., 38., 38., 38., 38., 38., 38., 38., 38., 38.,\n",
       "       38., 38., 38., 38., 38., 38., 38., 38., 38., 38., 38., 38., 38.,\n",
       "       38., 38., 38., 38., 38., 38., 38., 38., 38., 38., 38., 38., 38.,\n",
       "       38., 38., 38., 38., 38., 38., 38., 38., 38., 38., 38., 38., 38.,\n",
       "       38., 38., 38., 38., 38., 38., 38., 38., 38., 38., 38., 38., 38.,\n",
       "       38., 38., 38., 38., 38., 38., 38., 38., 38., 38., 38., 38., 38.,\n",
       "       38., 38., 38., 38., 38., 38., 38., 38., 38., 38., 38., 38., 38.,\n",
       "       38., 38., 38., 38., 38., 38., 38., 38., 38., 38., 38., 38., 38.,\n",
       "       38., 38., 38., 38., 38., 38., 38., 38., 38., 38., 38., 38., 38.,\n",
       "       38., 38., 38., 38., 38., 38., 38., 38., 38., 38., 38., 38., 38.,\n",
       "       38., 38., 38., 38., 38., 38., 38., 38., 38., 38., 38., 38., 38.,\n",
       "       38., 38., 38., 38., 38., 38., 38., 38., 38., 38., 38., 38., 38.,\n",
       "       38., 38., 38., 38., 38., 38., 38., 38., 38., 38., 38., 38., 38.,\n",
       "       38., 38., 38., 38., 38., 38., 38., 38.])</pre></div></li><li class='xr-var-item'><div class='xr-var-name'><span>mount</span></div><div class='xr-var-dims'>(id)</div><div class='xr-var-dtype'>&lt;U2</div><div class='xr-var-preview xr-preview'>&#x27;XY&#x27; &#x27;XY&#x27; &#x27;XY&#x27; ... &#x27;XY&#x27; &#x27;XY&#x27; &#x27;XY&#x27;</div><input id='attrs-086b608b-1dee-42ea-bad2-e126f790d637' class='xr-var-attrs-in' type='checkbox' disabled><label for='attrs-086b608b-1dee-42ea-bad2-e126f790d637' title='Show/Hide attributes'><svg class='icon xr-icon-file-text2'><use xlink:href='#icon-file-text2'></use></svg></label><input id='data-05c67116-2ab6-4b32-a8c1-c78442cfcb01' class='xr-var-data-in' type='checkbox'><label for='data-05c67116-2ab6-4b32-a8c1-c78442cfcb01' title='Show/Hide data repr'><svg class='icon xr-icon-database'><use xlink:href='#icon-database'></use></svg></label><div class='xr-var-attrs'><dl class='xr-attrs'></dl></div><div class='xr-var-data'><pre>array([&#x27;XY&#x27;, &#x27;XY&#x27;, &#x27;XY&#x27;, &#x27;XY&#x27;, &#x27;XY&#x27;, &#x27;XY&#x27;, &#x27;XY&#x27;, &#x27;XY&#x27;, &#x27;XY&#x27;, &#x27;XY&#x27;, &#x27;XY&#x27;,\n",
       "       &#x27;XY&#x27;, &#x27;XY&#x27;, &#x27;XY&#x27;, &#x27;XY&#x27;, &#x27;XY&#x27;, &#x27;XY&#x27;, &#x27;XY&#x27;, &#x27;XY&#x27;, &#x27;XY&#x27;, &#x27;XY&#x27;, &#x27;XY&#x27;,\n",
       "       &#x27;XY&#x27;, &#x27;XY&#x27;, &#x27;XY&#x27;, &#x27;XY&#x27;, &#x27;XY&#x27;, &#x27;XY&#x27;, &#x27;XY&#x27;, &#x27;XY&#x27;, &#x27;XY&#x27;, &#x27;XY&#x27;, &#x27;XY&#x27;,\n",
       "       &#x27;XY&#x27;, &#x27;XY&#x27;, &#x27;XY&#x27;, &#x27;XY&#x27;, &#x27;XY&#x27;, &#x27;XY&#x27;, &#x27;XY&#x27;, &#x27;XY&#x27;, &#x27;XY&#x27;, &#x27;XY&#x27;, &#x27;XY&#x27;,\n",
       "       &#x27;XY&#x27;, &#x27;XY&#x27;, &#x27;XY&#x27;, &#x27;XY&#x27;, &#x27;XY&#x27;, &#x27;XY&#x27;, &#x27;XY&#x27;, &#x27;XY&#x27;, &#x27;XY&#x27;, &#x27;XY&#x27;, &#x27;XY&#x27;,\n",
       "       &#x27;XY&#x27;, &#x27;XY&#x27;, &#x27;XY&#x27;, &#x27;XY&#x27;, &#x27;XY&#x27;, &#x27;XY&#x27;, &#x27;XY&#x27;, &#x27;XY&#x27;, &#x27;XY&#x27;, &#x27;XY&#x27;, &#x27;XY&#x27;,\n",
       "       &#x27;XY&#x27;, &#x27;XY&#x27;, &#x27;XY&#x27;, &#x27;XY&#x27;, &#x27;XY&#x27;, &#x27;XY&#x27;, &#x27;XY&#x27;, &#x27;XY&#x27;, &#x27;XY&#x27;, &#x27;XY&#x27;, &#x27;XY&#x27;,\n",
       "       &#x27;XY&#x27;, &#x27;XY&#x27;, &#x27;XY&#x27;, &#x27;XY&#x27;, &#x27;XY&#x27;, &#x27;XY&#x27;, &#x27;XY&#x27;, &#x27;XY&#x27;, &#x27;XY&#x27;, &#x27;XY&#x27;, &#x27;XY&#x27;,\n",
       "       &#x27;XY&#x27;, &#x27;XY&#x27;, &#x27;XY&#x27;, &#x27;XY&#x27;, &#x27;XY&#x27;, &#x27;XY&#x27;, &#x27;XY&#x27;, &#x27;XY&#x27;, &#x27;XY&#x27;, &#x27;XY&#x27;, &#x27;XY&#x27;,\n",
       "       &#x27;XY&#x27;, &#x27;XY&#x27;, &#x27;XY&#x27;, &#x27;XY&#x27;, &#x27;XY&#x27;, &#x27;XY&#x27;, &#x27;XY&#x27;, &#x27;XY&#x27;, &#x27;XY&#x27;, &#x27;XY&#x27;, &#x27;XY&#x27;,\n",
       "       &#x27;XY&#x27;, &#x27;XY&#x27;, &#x27;XY&#x27;, &#x27;XY&#x27;, &#x27;XY&#x27;, &#x27;XY&#x27;, &#x27;XY&#x27;, &#x27;XY&#x27;, &#x27;XY&#x27;, &#x27;XY&#x27;, &#x27;XY&#x27;,\n",
       "       &#x27;XY&#x27;, &#x27;XY&#x27;, &#x27;XY&#x27;, &#x27;XY&#x27;, &#x27;XY&#x27;, &#x27;XY&#x27;, &#x27;XY&#x27;, &#x27;XY&#x27;, &#x27;XY&#x27;, &#x27;XY&#x27;, &#x27;XY&#x27;,\n",
       "       &#x27;XY&#x27;, &#x27;XY&#x27;, &#x27;XY&#x27;, &#x27;XY&#x27;, &#x27;XY&#x27;, &#x27;XY&#x27;, &#x27;XY&#x27;, &#x27;XY&#x27;, &#x27;XY&#x27;, &#x27;XY&#x27;, &#x27;XY&#x27;,\n",
       "       &#x27;XY&#x27;, &#x27;XY&#x27;, &#x27;XY&#x27;, &#x27;XY&#x27;, &#x27;XY&#x27;, &#x27;XY&#x27;, &#x27;XY&#x27;, &#x27;XY&#x27;, &#x27;XY&#x27;, &#x27;XY&#x27;, &#x27;XY&#x27;,\n",
       "       &#x27;XY&#x27;, &#x27;XY&#x27;, &#x27;XY&#x27;, &#x27;XY&#x27;, &#x27;XY&#x27;, &#x27;XY&#x27;, &#x27;XY&#x27;, &#x27;XY&#x27;, &#x27;XY&#x27;, &#x27;XY&#x27;, &#x27;XY&#x27;,\n",
       "       &#x27;XY&#x27;, &#x27;XY&#x27;, &#x27;XY&#x27;, &#x27;XY&#x27;, &#x27;XY&#x27;, &#x27;XY&#x27;, &#x27;XY&#x27;, &#x27;XY&#x27;, &#x27;XY&#x27;, &#x27;XY&#x27;, &#x27;XY&#x27;,\n",
       "       &#x27;XY&#x27;, &#x27;XY&#x27;, &#x27;XY&#x27;, &#x27;XY&#x27;, &#x27;XY&#x27;, &#x27;XY&#x27;, &#x27;XY&#x27;, &#x27;XY&#x27;, &#x27;XY&#x27;, &#x27;XY&#x27;, &#x27;XY&#x27;,\n",
       "       &#x27;XY&#x27;, &#x27;XY&#x27;, &#x27;XY&#x27;, &#x27;XY&#x27;, &#x27;XY&#x27;, &#x27;XY&#x27;, &#x27;XY&#x27;, &#x27;XY&#x27;, &#x27;XY&#x27;, &#x27;XY&#x27;, &#x27;XY&#x27;,\n",
       "       &#x27;XY&#x27;, &#x27;XY&#x27;, &#x27;XY&#x27;, &#x27;XY&#x27;, &#x27;XY&#x27;, &#x27;XY&#x27;, &#x27;XY&#x27;, &#x27;XY&#x27;, &#x27;XY&#x27;, &#x27;XY&#x27;, &#x27;XY&#x27;,\n",
       "       &#x27;XY&#x27;, &#x27;XY&#x27;, &#x27;XY&#x27;, &#x27;XY&#x27;, &#x27;XY&#x27;, &#x27;XY&#x27;, &#x27;XY&#x27;, &#x27;XY&#x27;, &#x27;XY&#x27;, &#x27;XY&#x27;, &#x27;XY&#x27;,\n",
       "       &#x27;XY&#x27;, &#x27;XY&#x27;, &#x27;XY&#x27;, &#x27;XY&#x27;, &#x27;XY&#x27;, &#x27;XY&#x27;, &#x27;XY&#x27;, &#x27;XY&#x27;, &#x27;XY&#x27;, &#x27;XY&#x27;, &#x27;XY&#x27;,\n",
       "       &#x27;XY&#x27;, &#x27;XY&#x27;, &#x27;XY&#x27;, &#x27;XY&#x27;, &#x27;XY&#x27;, &#x27;XY&#x27;, &#x27;XY&#x27;, &#x27;XY&#x27;, &#x27;XY&#x27;, &#x27;XY&#x27;, &#x27;XY&#x27;,\n",
       "       &#x27;XY&#x27;, &#x27;XY&#x27;, &#x27;XY&#x27;, &#x27;XY&#x27;, &#x27;XY&#x27;, &#x27;XY&#x27;, &#x27;XY&#x27;, &#x27;XY&#x27;, &#x27;XY&#x27;, &#x27;XY&#x27;, &#x27;XY&#x27;,\n",
       "       &#x27;XY&#x27;, &#x27;XY&#x27;, &#x27;XY&#x27;, &#x27;XY&#x27;, &#x27;XY&#x27;, &#x27;XY&#x27;, &#x27;XY&#x27;, &#x27;XY&#x27;, &#x27;XY&#x27;, &#x27;XY&#x27;, &#x27;XY&#x27;,\n",
       "       &#x27;XY&#x27;, &#x27;XY&#x27;, &#x27;XY&#x27;, &#x27;XY&#x27;, &#x27;XY&#x27;, &#x27;XY&#x27;, &#x27;XY&#x27;, &#x27;XY&#x27;, &#x27;XY&#x27;, &#x27;XY&#x27;, &#x27;XY&#x27;,\n",
       "       &#x27;XY&#x27;, &#x27;XY&#x27;, &#x27;XY&#x27;, &#x27;XY&#x27;, &#x27;XY&#x27;, &#x27;XY&#x27;, &#x27;XY&#x27;, &#x27;XY&#x27;, &#x27;XY&#x27;, &#x27;XY&#x27;, &#x27;XY&#x27;,\n",
       "       &#x27;XY&#x27;, &#x27;XY&#x27;, &#x27;XY&#x27;, &#x27;XY&#x27;, &#x27;XY&#x27;, &#x27;XY&#x27;, &#x27;XY&#x27;, &#x27;XY&#x27;, &#x27;XY&#x27;, &#x27;XY&#x27;, &#x27;XY&#x27;,\n",
       "       &#x27;XY&#x27;, &#x27;XY&#x27;, &#x27;XY&#x27;, &#x27;XY&#x27;, &#x27;XY&#x27;, &#x27;XY&#x27;, &#x27;XY&#x27;, &#x27;XY&#x27;, &#x27;XY&#x27;, &#x27;XY&#x27;],\n",
       "      dtype=&#x27;&lt;U2&#x27;)</pre></div></li><li class='xr-var-item'><div class='xr-var-name'><span>vp_type</span></div><div class='xr-var-dims'>(id)</div><div class='xr-var-dtype'>&lt;U3</div><div class='xr-var-preview xr-preview'>&#x27;LOW&#x27; &#x27;LOW&#x27; &#x27;LOW&#x27; ... &#x27;LOW&#x27; &#x27;LOW&#x27;</div><input id='attrs-ee581c3b-eafe-4de0-a01d-8e727e709b25' class='xr-var-attrs-in' type='checkbox' disabled><label for='attrs-ee581c3b-eafe-4de0-a01d-8e727e709b25' title='Show/Hide attributes'><svg class='icon xr-icon-file-text2'><use xlink:href='#icon-file-text2'></use></svg></label><input id='data-be0a78ef-9a6d-448e-8a8c-3ea9d4573449' class='xr-var-data-in' type='checkbox'><label for='data-be0a78ef-9a6d-448e-8a8c-3ea9d4573449' title='Show/Hide data repr'><svg class='icon xr-icon-database'><use xlink:href='#icon-database'></use></svg></label><div class='xr-var-attrs'><dl class='xr-attrs'></dl></div><div class='xr-var-data'><pre>array([&#x27;LOW&#x27;, &#x27;LOW&#x27;, &#x27;LOW&#x27;, &#x27;LOW&#x27;, &#x27;LOW&#x27;, &#x27;LOW&#x27;, &#x27;LOW&#x27;, &#x27;LOW&#x27;, &#x27;LOW&#x27;,\n",
       "       &#x27;LOW&#x27;, &#x27;LOW&#x27;, &#x27;LOW&#x27;, &#x27;LOW&#x27;, &#x27;LOW&#x27;, &#x27;LOW&#x27;, &#x27;LOW&#x27;, &#x27;LOW&#x27;, &#x27;LOW&#x27;,\n",
       "       &#x27;LOW&#x27;, &#x27;LOW&#x27;, &#x27;LOW&#x27;, &#x27;LOW&#x27;, &#x27;LOW&#x27;, &#x27;LOW&#x27;, &#x27;LOW&#x27;, &#x27;LOW&#x27;, &#x27;LOW&#x27;,\n",
       "       &#x27;LOW&#x27;, &#x27;LOW&#x27;, &#x27;LOW&#x27;, &#x27;LOW&#x27;, &#x27;LOW&#x27;, &#x27;LOW&#x27;, &#x27;LOW&#x27;, &#x27;LOW&#x27;, &#x27;LOW&#x27;,\n",
       "       &#x27;LOW&#x27;, &#x27;LOW&#x27;, &#x27;LOW&#x27;, &#x27;LOW&#x27;, &#x27;LOW&#x27;, &#x27;LOW&#x27;, &#x27;LOW&#x27;, &#x27;LOW&#x27;, &#x27;LOW&#x27;,\n",
       "       &#x27;LOW&#x27;, &#x27;LOW&#x27;, &#x27;LOW&#x27;, &#x27;LOW&#x27;, &#x27;LOW&#x27;, &#x27;LOW&#x27;, &#x27;LOW&#x27;, &#x27;LOW&#x27;, &#x27;LOW&#x27;,\n",
       "       &#x27;LOW&#x27;, &#x27;LOW&#x27;, &#x27;LOW&#x27;, &#x27;LOW&#x27;, &#x27;LOW&#x27;, &#x27;LOW&#x27;, &#x27;LOW&#x27;, &#x27;LOW&#x27;, &#x27;LOW&#x27;,\n",
       "       &#x27;LOW&#x27;, &#x27;LOW&#x27;, &#x27;LOW&#x27;, &#x27;LOW&#x27;, &#x27;LOW&#x27;, &#x27;LOW&#x27;, &#x27;LOW&#x27;, &#x27;LOW&#x27;, &#x27;LOW&#x27;,\n",
       "       &#x27;LOW&#x27;, &#x27;LOW&#x27;, &#x27;LOW&#x27;, &#x27;LOW&#x27;, &#x27;LOW&#x27;, &#x27;LOW&#x27;, &#x27;LOW&#x27;, &#x27;LOW&#x27;, &#x27;LOW&#x27;,\n",
       "       &#x27;LOW&#x27;, &#x27;LOW&#x27;, &#x27;LOW&#x27;, &#x27;LOW&#x27;, &#x27;LOW&#x27;, &#x27;LOW&#x27;, &#x27;LOW&#x27;, &#x27;LOW&#x27;, &#x27;LOW&#x27;,\n",
       "       &#x27;LOW&#x27;, &#x27;LOW&#x27;, &#x27;LOW&#x27;, &#x27;LOW&#x27;, &#x27;LOW&#x27;, &#x27;LOW&#x27;, &#x27;LOW&#x27;, &#x27;LOW&#x27;, &#x27;LOW&#x27;,\n",
       "       &#x27;LOW&#x27;, &#x27;LOW&#x27;, &#x27;LOW&#x27;, &#x27;LOW&#x27;, &#x27;LOW&#x27;, &#x27;LOW&#x27;, &#x27;LOW&#x27;, &#x27;LOW&#x27;, &#x27;LOW&#x27;,\n",
       "       &#x27;LOW&#x27;, &#x27;LOW&#x27;, &#x27;LOW&#x27;, &#x27;LOW&#x27;, &#x27;LOW&#x27;, &#x27;LOW&#x27;, &#x27;LOW&#x27;, &#x27;LOW&#x27;, &#x27;LOW&#x27;,\n",
       "       &#x27;LOW&#x27;, &#x27;LOW&#x27;, &#x27;LOW&#x27;, &#x27;LOW&#x27;, &#x27;LOW&#x27;, &#x27;LOW&#x27;, &#x27;LOW&#x27;, &#x27;LOW&#x27;, &#x27;LOW&#x27;,\n",
       "       &#x27;LOW&#x27;, &#x27;LOW&#x27;, &#x27;LOW&#x27;, &#x27;LOW&#x27;, &#x27;LOW&#x27;, &#x27;LOW&#x27;, &#x27;LOW&#x27;, &#x27;LOW&#x27;, &#x27;LOW&#x27;,\n",
       "       &#x27;LOW&#x27;, &#x27;LOW&#x27;, &#x27;LOW&#x27;, &#x27;LOW&#x27;, &#x27;LOW&#x27;, &#x27;LOW&#x27;, &#x27;LOW&#x27;, &#x27;LOW&#x27;, &#x27;LOW&#x27;,\n",
       "       &#x27;LOW&#x27;, &#x27;LOW&#x27;, &#x27;LOW&#x27;, &#x27;LOW&#x27;, &#x27;LOW&#x27;, &#x27;LOW&#x27;, &#x27;LOW&#x27;, &#x27;LOW&#x27;, &#x27;LOW&#x27;,\n",
       "       &#x27;LOW&#x27;, &#x27;LOW&#x27;, &#x27;LOW&#x27;, &#x27;LOW&#x27;, &#x27;LOW&#x27;, &#x27;LOW&#x27;, &#x27;LOW&#x27;, &#x27;LOW&#x27;, &#x27;LOW&#x27;,\n",
       "       &#x27;LOW&#x27;, &#x27;LOW&#x27;, &#x27;LOW&#x27;, &#x27;LOW&#x27;, &#x27;LOW&#x27;, &#x27;LOW&#x27;, &#x27;LOW&#x27;, &#x27;LOW&#x27;, &#x27;LOW&#x27;,\n",
       "       &#x27;LOW&#x27;, &#x27;LOW&#x27;, &#x27;LOW&#x27;, &#x27;LOW&#x27;, &#x27;LOW&#x27;, &#x27;LOW&#x27;, &#x27;LOW&#x27;, &#x27;LOW&#x27;, &#x27;LOW&#x27;,\n",
       "       &#x27;LOW&#x27;, &#x27;LOW&#x27;, &#x27;LOW&#x27;, &#x27;LOW&#x27;, &#x27;LOW&#x27;, &#x27;LOW&#x27;, &#x27;LOW&#x27;, &#x27;LOW&#x27;, &#x27;LOW&#x27;,\n",
       "       &#x27;LOW&#x27;, &#x27;LOW&#x27;, &#x27;LOW&#x27;, &#x27;LOW&#x27;, &#x27;LOW&#x27;, &#x27;LOW&#x27;, &#x27;LOW&#x27;, &#x27;LOW&#x27;, &#x27;LOW&#x27;,\n",
       "       &#x27;LOW&#x27;, &#x27;LOW&#x27;, &#x27;LOW&#x27;, &#x27;LOW&#x27;, &#x27;LOW&#x27;, &#x27;LOW&#x27;, &#x27;LOW&#x27;, &#x27;LOW&#x27;, &#x27;LOW&#x27;,\n",
       "       &#x27;LOW&#x27;, &#x27;LOW&#x27;, &#x27;LOW&#x27;, &#x27;LOW&#x27;, &#x27;LOW&#x27;, &#x27;LOW&#x27;, &#x27;LOW&#x27;, &#x27;LOW&#x27;, &#x27;LOW&#x27;,\n",
       "       &#x27;LOW&#x27;, &#x27;LOW&#x27;, &#x27;LOW&#x27;, &#x27;LOW&#x27;, &#x27;LOW&#x27;, &#x27;LOW&#x27;, &#x27;LOW&#x27;, &#x27;LOW&#x27;, &#x27;LOW&#x27;,\n",
       "       &#x27;LOW&#x27;, &#x27;LOW&#x27;, &#x27;LOW&#x27;, &#x27;LOW&#x27;, &#x27;LOW&#x27;, &#x27;LOW&#x27;, &#x27;LOW&#x27;, &#x27;LOW&#x27;, &#x27;LOW&#x27;,\n",
       "       &#x27;LOW&#x27;, &#x27;LOW&#x27;, &#x27;LOW&#x27;, &#x27;LOW&#x27;, &#x27;LOW&#x27;, &#x27;LOW&#x27;, &#x27;LOW&#x27;, &#x27;LOW&#x27;, &#x27;LOW&#x27;,\n",
       "       &#x27;LOW&#x27;, &#x27;LOW&#x27;, &#x27;LOW&#x27;, &#x27;LOW&#x27;, &#x27;LOW&#x27;, &#x27;LOW&#x27;, &#x27;LOW&#x27;, &#x27;LOW&#x27;, &#x27;LOW&#x27;,\n",
       "       &#x27;LOW&#x27;, &#x27;LOW&#x27;, &#x27;LOW&#x27;, &#x27;LOW&#x27;, &#x27;LOW&#x27;, &#x27;LOW&#x27;, &#x27;LOW&#x27;, &#x27;LOW&#x27;, &#x27;LOW&#x27;,\n",
       "       &#x27;LOW&#x27;, &#x27;LOW&#x27;, &#x27;LOW&#x27;, &#x27;LOW&#x27;, &#x27;LOW&#x27;, &#x27;LOW&#x27;, &#x27;LOW&#x27;, &#x27;LOW&#x27;, &#x27;LOW&#x27;,\n",
       "       &#x27;LOW&#x27;, &#x27;LOW&#x27;, &#x27;LOW&#x27;, &#x27;LOW&#x27;, &#x27;LOW&#x27;, &#x27;LOW&#x27;, &#x27;LOW&#x27;, &#x27;LOW&#x27;, &#x27;LOW&#x27;,\n",
       "       &#x27;LOW&#x27;, &#x27;LOW&#x27;, &#x27;LOW&#x27;, &#x27;LOW&#x27;, &#x27;LOW&#x27;, &#x27;LOW&#x27;, &#x27;LOW&#x27;, &#x27;LOW&#x27;, &#x27;LOW&#x27;,\n",
       "       &#x27;LOW&#x27;, &#x27;LOW&#x27;, &#x27;LOW&#x27;, &#x27;LOW&#x27;, &#x27;LOW&#x27;, &#x27;LOW&#x27;, &#x27;LOW&#x27;, &#x27;LOW&#x27;, &#x27;LOW&#x27;,\n",
       "       &#x27;LOW&#x27;, &#x27;LOW&#x27;, &#x27;LOW&#x27;, &#x27;LOW&#x27;, &#x27;LOW&#x27;, &#x27;LOW&#x27;, &#x27;LOW&#x27;, &#x27;LOW&#x27;, &#x27;LOW&#x27;,\n",
       "       &#x27;LOW&#x27;], dtype=&#x27;&lt;U3&#x27;)</pre></div></li><li class='xr-var-item'><div class='xr-var-name'><span>offset</span></div><div class='xr-var-dims'>(id, spatial)</div><div class='xr-var-dtype'>float64</div><div class='xr-var-preview xr-preview'>0.0 0.0 0.0 0.0 ... 0.0 0.0 0.0 0.0</div><input id='attrs-8766ea2e-2198-4bff-a7fc-50b545e1e1e4' class='xr-var-attrs-in' type='checkbox' disabled><label for='attrs-8766ea2e-2198-4bff-a7fc-50b545e1e1e4' title='Show/Hide attributes'><svg class='icon xr-icon-file-text2'><use xlink:href='#icon-file-text2'></use></svg></label><input id='data-907499bb-3c22-4b67-8d9f-943547ed4089' class='xr-var-data-in' type='checkbox'><label for='data-907499bb-3c22-4b67-8d9f-943547ed4089' title='Show/Hide data repr'><svg class='icon xr-icon-database'><use xlink:href='#icon-database'></use></svg></label><div class='xr-var-attrs'><dl class='xr-attrs'></dl></div><div class='xr-var-data'><pre>array([[0., 0., 0.],\n",
       "       [0., 0., 0.],\n",
       "       [0., 0., 0.],\n",
       "       [0., 0., 0.],\n",
       "       [0., 0., 0.],\n",
       "       [0., 0., 0.],\n",
       "       [0., 0., 0.],\n",
       "       [0., 0., 0.],\n",
       "       [0., 0., 0.],\n",
       "       [0., 0., 0.],\n",
       "       [0., 0., 0.],\n",
       "       [0., 0., 0.],\n",
       "       [0., 0., 0.],\n",
       "       [0., 0., 0.],\n",
       "       [0., 0., 0.],\n",
       "       [0., 0., 0.],\n",
       "       [0., 0., 0.],\n",
       "       [0., 0., 0.],\n",
       "       [0., 0., 0.],\n",
       "       [0., 0., 0.],\n",
       "...\n",
       "       [0., 0., 0.],\n",
       "       [0., 0., 0.],\n",
       "       [0., 0., 0.],\n",
       "       [0., 0., 0.],\n",
       "       [0., 0., 0.],\n",
       "       [0., 0., 0.],\n",
       "       [0., 0., 0.],\n",
       "       [0., 0., 0.],\n",
       "       [0., 0., 0.],\n",
       "       [0., 0., 0.],\n",
       "       [0., 0., 0.],\n",
       "       [0., 0., 0.],\n",
       "       [0., 0., 0.],\n",
       "       [0., 0., 0.],\n",
       "       [0., 0., 0.],\n",
       "       [0., 0., 0.],\n",
       "       [0., 0., 0.],\n",
       "       [0., 0., 0.],\n",
       "       [0., 0., 0.],\n",
       "       [0., 0., 0.]])</pre></div></li><li class='xr-var-item'><div class='xr-var-name'><span>stations</span></div><div class='xr-var-dims'>(id)</div><div class='xr-var-dtype'>&lt;U3</div><div class='xr-var-preview xr-preview'>&#x27;0&#x27; &#x27;1&#x27; &#x27;2&#x27; ... &#x27;304&#x27; &#x27;305&#x27; &#x27;306&#x27;</div><input id='attrs-a677086a-0850-4c3a-849c-fd53911c4979' class='xr-var-attrs-in' type='checkbox' disabled><label for='attrs-a677086a-0850-4c3a-849c-fd53911c4979' title='Show/Hide attributes'><svg class='icon xr-icon-file-text2'><use xlink:href='#icon-file-text2'></use></svg></label><input id='data-8fdff1cf-4e3e-49eb-81e4-5efeb4302195' class='xr-var-data-in' type='checkbox'><label for='data-8fdff1cf-4e3e-49eb-81e4-5efeb4302195' title='Show/Hide data repr'><svg class='icon xr-icon-database'><use xlink:href='#icon-database'></use></svg></label><div class='xr-var-attrs'><dl class='xr-attrs'></dl></div><div class='xr-var-data'><pre>array([&#x27;0&#x27;, &#x27;1&#x27;, &#x27;2&#x27;, &#x27;3&#x27;, &#x27;4&#x27;, &#x27;5&#x27;, &#x27;6&#x27;, &#x27;7&#x27;, &#x27;8&#x27;, &#x27;9&#x27;, &#x27;10&#x27;, &#x27;11&#x27;, &#x27;12&#x27;,\n",
       "       &#x27;13&#x27;, &#x27;14&#x27;, &#x27;15&#x27;, &#x27;16&#x27;, &#x27;17&#x27;, &#x27;18&#x27;, &#x27;19&#x27;, &#x27;20&#x27;, &#x27;21&#x27;, &#x27;22&#x27;, &#x27;23&#x27;,\n",
       "       &#x27;24&#x27;, &#x27;25&#x27;, &#x27;26&#x27;, &#x27;27&#x27;, &#x27;28&#x27;, &#x27;29&#x27;, &#x27;30&#x27;, &#x27;31&#x27;, &#x27;32&#x27;, &#x27;33&#x27;, &#x27;34&#x27;,\n",
       "       &#x27;35&#x27;, &#x27;36&#x27;, &#x27;37&#x27;, &#x27;38&#x27;, &#x27;39&#x27;, &#x27;40&#x27;, &#x27;41&#x27;, &#x27;42&#x27;, &#x27;43&#x27;, &#x27;44&#x27;, &#x27;45&#x27;,\n",
       "       &#x27;46&#x27;, &#x27;47&#x27;, &#x27;48&#x27;, &#x27;49&#x27;, &#x27;50&#x27;, &#x27;51&#x27;, &#x27;52&#x27;, &#x27;53&#x27;, &#x27;54&#x27;, &#x27;55&#x27;, &#x27;56&#x27;,\n",
       "       &#x27;57&#x27;, &#x27;58&#x27;, &#x27;59&#x27;, &#x27;60&#x27;, &#x27;61&#x27;, &#x27;62&#x27;, &#x27;63&#x27;, &#x27;64&#x27;, &#x27;65&#x27;, &#x27;66&#x27;, &#x27;67&#x27;,\n",
       "       &#x27;68&#x27;, &#x27;69&#x27;, &#x27;70&#x27;, &#x27;71&#x27;, &#x27;72&#x27;, &#x27;73&#x27;, &#x27;74&#x27;, &#x27;75&#x27;, &#x27;76&#x27;, &#x27;77&#x27;, &#x27;78&#x27;,\n",
       "       &#x27;79&#x27;, &#x27;80&#x27;, &#x27;81&#x27;, &#x27;82&#x27;, &#x27;83&#x27;, &#x27;84&#x27;, &#x27;85&#x27;, &#x27;86&#x27;, &#x27;87&#x27;, &#x27;88&#x27;, &#x27;89&#x27;,\n",
       "       &#x27;90&#x27;, &#x27;91&#x27;, &#x27;92&#x27;, &#x27;93&#x27;, &#x27;94&#x27;, &#x27;95&#x27;, &#x27;96&#x27;, &#x27;97&#x27;, &#x27;98&#x27;, &#x27;99&#x27;, &#x27;100&#x27;,\n",
       "       &#x27;101&#x27;, &#x27;102&#x27;, &#x27;103&#x27;, &#x27;104&#x27;, &#x27;105&#x27;, &#x27;106&#x27;, &#x27;107&#x27;, &#x27;108&#x27;, &#x27;109&#x27;,\n",
       "       &#x27;110&#x27;, &#x27;111&#x27;, &#x27;112&#x27;, &#x27;113&#x27;, &#x27;114&#x27;, &#x27;115&#x27;, &#x27;116&#x27;, &#x27;117&#x27;, &#x27;118&#x27;,\n",
       "       &#x27;119&#x27;, &#x27;120&#x27;, &#x27;121&#x27;, &#x27;122&#x27;, &#x27;123&#x27;, &#x27;124&#x27;, &#x27;125&#x27;, &#x27;126&#x27;, &#x27;127&#x27;,\n",
       "       &#x27;128&#x27;, &#x27;129&#x27;, &#x27;130&#x27;, &#x27;131&#x27;, &#x27;132&#x27;, &#x27;133&#x27;, &#x27;134&#x27;, &#x27;135&#x27;, &#x27;136&#x27;,\n",
       "       &#x27;137&#x27;, &#x27;138&#x27;, &#x27;139&#x27;, &#x27;140&#x27;, &#x27;141&#x27;, &#x27;142&#x27;, &#x27;143&#x27;, &#x27;144&#x27;, &#x27;145&#x27;,\n",
       "       &#x27;146&#x27;, &#x27;147&#x27;, &#x27;148&#x27;, &#x27;149&#x27;, &#x27;150&#x27;, &#x27;151&#x27;, &#x27;152&#x27;, &#x27;153&#x27;, &#x27;154&#x27;,\n",
       "       &#x27;155&#x27;, &#x27;156&#x27;, &#x27;157&#x27;, &#x27;158&#x27;, &#x27;159&#x27;, &#x27;160&#x27;, &#x27;161&#x27;, &#x27;162&#x27;, &#x27;163&#x27;,\n",
       "       &#x27;164&#x27;, &#x27;165&#x27;, &#x27;166&#x27;, &#x27;167&#x27;, &#x27;168&#x27;, &#x27;169&#x27;, &#x27;170&#x27;, &#x27;171&#x27;, &#x27;172&#x27;,\n",
       "       &#x27;173&#x27;, &#x27;174&#x27;, &#x27;175&#x27;, &#x27;176&#x27;, &#x27;177&#x27;, &#x27;178&#x27;, &#x27;179&#x27;, &#x27;180&#x27;, &#x27;181&#x27;,\n",
       "       &#x27;182&#x27;, &#x27;183&#x27;, &#x27;184&#x27;, &#x27;185&#x27;, &#x27;186&#x27;, &#x27;187&#x27;, &#x27;188&#x27;, &#x27;189&#x27;, &#x27;190&#x27;,\n",
       "       &#x27;191&#x27;, &#x27;192&#x27;, &#x27;193&#x27;, &#x27;194&#x27;, &#x27;195&#x27;, &#x27;196&#x27;, &#x27;197&#x27;, &#x27;198&#x27;, &#x27;199&#x27;,\n",
       "       &#x27;200&#x27;, &#x27;201&#x27;, &#x27;202&#x27;, &#x27;203&#x27;, &#x27;204&#x27;, &#x27;205&#x27;, &#x27;206&#x27;, &#x27;207&#x27;, &#x27;208&#x27;,\n",
       "       &#x27;209&#x27;, &#x27;210&#x27;, &#x27;211&#x27;, &#x27;212&#x27;, &#x27;213&#x27;, &#x27;214&#x27;, &#x27;215&#x27;, &#x27;216&#x27;, &#x27;217&#x27;,\n",
       "       &#x27;218&#x27;, &#x27;219&#x27;, &#x27;220&#x27;, &#x27;221&#x27;, &#x27;222&#x27;, &#x27;223&#x27;, &#x27;224&#x27;, &#x27;225&#x27;, &#x27;226&#x27;,\n",
       "       &#x27;227&#x27;, &#x27;228&#x27;, &#x27;229&#x27;, &#x27;230&#x27;, &#x27;231&#x27;, &#x27;232&#x27;, &#x27;233&#x27;, &#x27;234&#x27;, &#x27;235&#x27;,\n",
       "       &#x27;236&#x27;, &#x27;237&#x27;, &#x27;238&#x27;, &#x27;239&#x27;, &#x27;240&#x27;, &#x27;241&#x27;, &#x27;242&#x27;, &#x27;243&#x27;, &#x27;244&#x27;,\n",
       "       &#x27;245&#x27;, &#x27;246&#x27;, &#x27;247&#x27;, &#x27;248&#x27;, &#x27;249&#x27;, &#x27;250&#x27;, &#x27;251&#x27;, &#x27;252&#x27;, &#x27;253&#x27;,\n",
       "       &#x27;254&#x27;, &#x27;255&#x27;, &#x27;256&#x27;, &#x27;257&#x27;, &#x27;258&#x27;, &#x27;259&#x27;, &#x27;260&#x27;, &#x27;261&#x27;, &#x27;262&#x27;,\n",
       "       &#x27;263&#x27;, &#x27;264&#x27;, &#x27;265&#x27;, &#x27;266&#x27;, &#x27;267&#x27;, &#x27;268&#x27;, &#x27;269&#x27;, &#x27;270&#x27;, &#x27;271&#x27;,\n",
       "       &#x27;272&#x27;, &#x27;273&#x27;, &#x27;274&#x27;, &#x27;275&#x27;, &#x27;276&#x27;, &#x27;277&#x27;, &#x27;278&#x27;, &#x27;279&#x27;, &#x27;280&#x27;,\n",
       "       &#x27;281&#x27;, &#x27;282&#x27;, &#x27;283&#x27;, &#x27;284&#x27;, &#x27;285&#x27;, &#x27;286&#x27;, &#x27;287&#x27;, &#x27;288&#x27;, &#x27;289&#x27;,\n",
       "       &#x27;290&#x27;, &#x27;291&#x27;, &#x27;292&#x27;, &#x27;293&#x27;, &#x27;294&#x27;, &#x27;295&#x27;, &#x27;296&#x27;, &#x27;297&#x27;, &#x27;298&#x27;,\n",
       "       &#x27;299&#x27;, &#x27;300&#x27;, &#x27;301&#x27;, &#x27;302&#x27;, &#x27;303&#x27;, &#x27;304&#x27;, &#x27;305&#x27;, &#x27;306&#x27;],\n",
       "      dtype=&#x27;&lt;U3&#x27;)</pre></div></li></ul></div></li><li class='xr-section-item'><input id='section-4b9b4e96-d931-494a-b5f4-a6e6e81b1303' class='xr-section-summary-in' type='checkbox'  ><label for='section-4b9b4e96-d931-494a-b5f4-a6e6e81b1303' class='xr-section-summary' >Indexes: <span>(2)</span></label><div class='xr-section-inline-details'></div><div class='xr-section-details'><ul class='xr-var-list'><li class='xr-var-item'><div class='xr-index-name'><div>id</div></div><div class='xr-index-preview'>PandasIndex</div><div></div><input id='index-f9967161-52fd-477d-96d7-48a0c0de1060' class='xr-index-data-in' type='checkbox'/><label for='index-f9967161-52fd-477d-96d7-48a0c0de1060' title='Show/Hide index repr'><svg class='icon xr-icon-database'><use xlink:href='#icon-database'></use></svg></label><div class='xr-index-data'><pre>PandasIndex(Int64Index([  0,   1,   2,   3,   4,   5,   6,   7,   8,   9,\n",
       "            ...\n",
       "            297, 298, 299, 300, 301, 302, 303, 304, 305, 306],\n",
       "           dtype=&#x27;int64&#x27;, name=&#x27;id&#x27;, length=307))</pre></div></li><li class='xr-var-item'><div class='xr-index-name'><div>spatial</div></div><div class='xr-index-preview'>PandasIndex</div><div></div><input id='index-539b07b6-ae8e-4c5e-b41a-81757ee2bf7f' class='xr-index-data-in' type='checkbox'/><label for='index-539b07b6-ae8e-4c5e-b41a-81757ee2bf7f' title='Show/Hide index repr'><svg class='icon xr-icon-database'><use xlink:href='#icon-database'></use></svg></label><div class='xr-index-data'><pre>PandasIndex(Index([&#x27;X&#x27;, &#x27;Y&#x27;, &#x27;Z&#x27;], dtype=&#x27;object&#x27;, name=&#x27;spatial&#x27;))</pre></div></li></ul></div></li><li class='xr-section-item'><input id='section-be852c84-294b-47c4-b50a-3a184dde7d25' class='xr-section-summary-in' type='checkbox'  checked><label for='section-be852c84-294b-47c4-b50a-3a184dde7d25' class='xr-section-summary' >Attributes: <span>(5)</span></label><div class='xr-section-inline-details'></div><div class='xr-section-details'><dl class='xr-attrs'><dt><span>data_model :</span></dt><dd>Configuration</dd><dt><span>name :</span></dt><dd></dd><dt><span>location :</span></dt><dd>(-2565049.57365839, 5085773.89559407, -2861068.21571796) m</dd><dt><span>receptor_frame :</span></dt><dd>&lt;ska_sdp_datamodels.science_data_model.polarisation_model.ReceptorFrame object at 0x12d4a59f0&gt;</dd><dt><span>frame :</span></dt><dd></dd></dl></div></li></ul></div></div>"
      ],
      "text/plain": [
       "<xarray.Configuration>\n",
       "Dimensions:   (id: 307, spatial: 3)\n",
       "Coordinates:\n",
       "  * id        (id) int64 0 1 2 3 4 5 6 7 8 ... 299 300 301 302 303 304 305 306\n",
       "  * spatial   (spatial) <U1 'X' 'Y' 'Z'\n",
       "Data variables:\n",
       "    names     (id) <U5 'C1' 'C10' 'C100' 'C101' ... 'S9-3' 'S9-4' 'S9-5' 'S9-6'\n",
       "    xyz       (id, spatial) float64 124.0 -159.5 -377.8 ... -6.112e+03 -381.0\n",
       "    diameter  (id) float64 38.0 38.0 38.0 38.0 38.0 ... 38.0 38.0 38.0 38.0 38.0\n",
       "    mount     (id) <U2 'XY' 'XY' 'XY' 'XY' 'XY' ... 'XY' 'XY' 'XY' 'XY' 'XY'\n",
       "    vp_type   (id) <U3 'LOW' 'LOW' 'LOW' 'LOW' 'LOW' ... 'LOW' 'LOW' 'LOW' 'LOW'\n",
       "    offset    (id, spatial) float64 0.0 0.0 0.0 0.0 0.0 ... 0.0 0.0 0.0 0.0 0.0\n",
       "    stations  (id) <U3 '0' '1' '2' '3' '4' '5' ... '302' '303' '304' '305' '306'\n",
       "Attributes:\n",
       "    data_model:      Configuration\n",
       "    name:            \n",
       "    location:        (-2565049.57365839, 5085773.89559407, -2861068.21571796) m\n",
       "    receptor_frame:  <ska_sdp_datamodels.science_data_model.polarisation_mode...\n",
       "    frame:           "
      ]
     },
     "execution_count": 3,
     "metadata": {},
     "output_type": "execute_result"
    }
   ],
   "source": [
    "low_aastar.array_config"
   ]
  },
  {
   "cell_type": "markdown",
   "id": "801f736c",
   "metadata": {},
   "source": [
    "**Note** that the array configuration object is compatible with [Radio Astronomy Simulation, Calibration, and Imaging Library (RASCIL)](https://developer.skao.int/projects/rascil/en/latest/index.html) if you wish to run your own simulations.\n",
    "\n",
    "### Exclude stations <a class=\"anchor\" id=\"exclude_stations\"></a>\n",
    "\n",
    "You can create a Low subarray containing all core stations except stations C1 and C2 by using the `exclude_stations` parameter as"
   ]
  },
  {
   "cell_type": "code",
   "execution_count": 4,
   "id": "08e60b59",
   "metadata": {},
   "outputs": [],
   "source": [
    "low_custom = LowSubArray(\n",
    "    subarray_type=\"custom\", custom_stations=\"C*\", exclude_stations=\"C1,C2\"\n",
    ")"
   ]
  },
  {
   "cell_type": "code",
   "execution_count": 5,
   "id": "84ad45c8",
   "metadata": {},
   "outputs": [],
   "source": [
    "mid_custom = MidSubArray(\n",
    "    subarray_type=\"AA*\", exclude_stations=\"M*\"\n",
    ")"
   ]
  },
  {
   "cell_type": "markdown",
   "id": "001e2f81",
   "metadata": {},
   "source": [
    "### Distance-based filtering of subarrays <a class=\"anchor\" id=\"station_filtering\"></a>\n",
    "\n",
    "The `ska_ost_array_config.array_config.filter_array_by_distance()` function allows you to filter stations/dishes in a subarray based on distance. \n",
    "\n",
    "The example below defines a Low subarray that contains all stations within a distance of 10 km from the array centre. "
   ]
  },
  {
   "cell_type": "code",
   "execution_count": 6,
   "id": "9b24c03f",
   "metadata": {},
   "outputs": [],
   "source": [
    "from ska_ost_array_config.array_config import filter_array_by_distance\n",
    "from astropy import units as u\n",
    "\n",
    "low_all = LowSubArray(subarray_type=\"AA4\")\n",
    "low_inner_10k = filter_array_by_distance(low_all, distance=10000)\n",
    "low_inner_10k = filter_array_by_distance(low_all, distance=10000 * u.m)"
   ]
  },
  {
   "cell_type": "markdown",
   "id": "993ccf48",
   "metadata": {},
   "source": [
    "Note that distance can be specified either as an astropy quantity or without any units. In the absence of units, the specified distance will be assumed to be in metres.\n",
    "\n",
    "The parameter `invert` allows you to exclude stations/dishes within the specified distance from the array centre. The example below defines a Mid subarray that contains all the Mid dishes that are beyond a distance of 100 km from the array centre."
   ]
  },
  {
   "cell_type": "code",
   "execution_count": 7,
   "id": "639de5ee",
   "metadata": {},
   "outputs": [],
   "source": [
    "mid_all = MidSubArray(subarray_type=\"AA4\")\n",
    "mid_outer_100k = filter_array_by_distance(mid_all, distance=100.0 * u.km, invert=True)"
   ]
  },
  {
   "cell_type": "markdown",
   "id": "e5800845",
   "metadata": {},
   "source": [
    "## Plot array layout <a class=\"anchor\" id=\"plot_layout\"></a>\n",
    "\n",
    "Plots the layout of the array (in this case the `AA*` configuration created above). You can pass any valid `matplotlib.pyplot.scatter()` parameters to this function. Below are a few examples."
   ]
  },
  {
   "cell_type": "code",
   "execution_count": 8,
   "id": "e349a824",
   "metadata": {},
   "outputs": [
    {
     "data": {
      "text/plain": [
       "(<Figure size 640x480 with 1 Axes>, <Axes: xlabel='X (km)', ylabel='Y (km)'>)"
      ]
     },
     "execution_count": 8,
     "metadata": {},
     "output_type": "execute_result"
    },
    {
     "data": {
      "image/png": "[encoded data removed]",
      "text/plain": [
       "<Figure size 640x480 with 1 Axes>"
      ]
     },
     "metadata": {},
     "output_type": "display_data"
    }
   ],
   "source": [
    "low_aastar.plot_array_layout()"
   ]
  },
  {
   "cell_type": "code",
   "execution_count": 9,
   "id": "e3b7453b",
   "metadata": {},
   "outputs": [
    {
     "data": {
      "text/plain": [
       "Text(0.5, 1.0, 'LOW AA4')"
      ]
     },
     "execution_count": 9,
     "metadata": {},
     "output_type": "execute_result"
    },
    {
     "data": {
      "image/png": "[encoded data removed]",
      "text/plain": [
       "<Figure size 1200x500 with 2 Axes>"
      ]
     },
     "metadata": {},
     "output_type": "display_data"
    }
   ],
   "source": [
    "import matplotlib.pyplot as plt\n",
    "\n",
    "fig, axes = plt.subplots(1, 2, figsize=(12, 5), sharey=True)\n",
    "\n",
    "low_aastar.plot_array_layout(axes[0], s=10)\n",
    "axes[0].set_title(\"LOW AA*\")\n",
    "\n",
    "low_aa4.plot_array_layout(axes[1], s=10, c=\"green\", marker=\"^\")\n",
    "axes[1].set_title(\"LOW AA4\")"
   ]
  },
  {
   "cell_type": "markdown",
   "id": "4bb99514",
   "metadata": {},
   "source": [
    "## Plot collecting area as a function of baseline length <a class=\"anchor\" id=\"area_per_bl\"></a>\n",
    "\n",
    "Plots the collecting area as a function of baseline length. The number of baseline length bins can be controlled using the `n_bins` parameter (default: 50 bins).  You can pass any valid `matplotlib.pyplot.scatter()` parameters to this function. \n",
    "\n",
    "The example below plots the collecting area of the `AA*` configuration in 20 bins. "
   ]
  },
  {
   "cell_type": "code",
   "execution_count": 10,
   "id": "71f02133",
   "metadata": {},
   "outputs": [
    {
     "name": "stderr",
     "output_type": "stream",
     "text": [
      "/Users/s.sridhar/Library/Caches/pypoetry/virtualenvs/ska-ost-array-config-ffAgvIi0-py3.10/lib/python3.10/site-packages/ska_sdp_datamodels/visibility/vis_model.py:84: FutureWarning: the `pandas.MultiIndex` object(s) passed as 'baselines' coordinate(s) or data variable(s) will no longer be implicitly promoted and wrapped into multiple indexed coordinates in the future (i.e., one coordinate for each multi-index level + one dimension coordinate). If you want to keep this behavior, you need to first wrap it explicitly using `mindex_coords = xarray.Coordinates.from_pandas_multiindex(mindex_obj, 'dim')` and pass it as coordinates, e.g., `xarray.Dataset(coords=mindex_coords)`, `dataset.assign_coords(mindex_coords)` or `dataarray.assign_coords(mindex_coords)`.\n",
      "  super().__init__(data_vars, coords=coords, attrs=attrs)\n"
     ]
    },
    {
     "data": {
      "text/plain": [
       "(<Figure size 640x480 with 1 Axes>,\n",
       " <Axes: xlabel='Baseline length (km)', ylabel='Collecting area (sq. m)'>)"
      ]
     },
     "execution_count": 10,
     "metadata": {},
     "output_type": "execute_result"
    },
    {
     "data": {
      "image/png": "[encoded data removed]",
      "text/plain": [
       "<Figure size 640x480 with 1 Axes>"
      ]
     },
     "metadata": {},
     "output_type": "display_data"
    }
   ],
   "source": [
    "low_aastar.plot_collecting_area_vs_bl_length(n_bins=20)"
   ]
  },
  {
   "cell_type": "markdown",
   "id": "d5a3534e",
   "metadata": {},
   "source": [
    "You can normalize the y-axis by setting `normalization=True`."
   ]
  },
  {
   "cell_type": "code",
   "execution_count": 11,
   "id": "f12ded88",
   "metadata": {},
   "outputs": [
    {
     "name": "stderr",
     "output_type": "stream",
     "text": [
      "/Users/s.sridhar/Library/Caches/pypoetry/virtualenvs/ska-ost-array-config-ffAgvIi0-py3.10/lib/python3.10/site-packages/ska_sdp_datamodels/visibility/vis_model.py:84: FutureWarning: the `pandas.MultiIndex` object(s) passed as 'baselines' coordinate(s) or data variable(s) will no longer be implicitly promoted and wrapped into multiple indexed coordinates in the future (i.e., one coordinate for each multi-index level + one dimension coordinate). If you want to keep this behavior, you need to first wrap it explicitly using `mindex_coords = xarray.Coordinates.from_pandas_multiindex(mindex_obj, 'dim')` and pass it as coordinates, e.g., `xarray.Dataset(coords=mindex_coords)`, `dataset.assign_coords(mindex_coords)` or `dataarray.assign_coords(mindex_coords)`.\n",
      "  super().__init__(data_vars, coords=coords, attrs=attrs)\n"
     ]
    },
    {
     "data": {
      "text/plain": [
       "(<Figure size 640x480 with 1 Axes>,\n",
       " <Axes: xlabel='Baseline length (km)', ylabel='Normalized collecting area (%)'>)"
      ]
     },
     "execution_count": 11,
     "metadata": {},
     "output_type": "execute_result"
    },
    {
     "data": {
      "image/png": "[encoded data removed]",
      "text/plain": [
       "<Figure size 640x480 with 1 Axes>"
      ]
     },
     "metadata": {},
     "output_type": "display_data"
    }
   ],
   "source": [
    "low_aastar.plot_collecting_area_vs_bl_length(n_bins=20, normalization=True)"
   ]
  },
  {
   "cell_type": "markdown",
   "id": "559127f8",
   "metadata": {},
   "source": [
    "## Plot snapshot uv coverage <a class=\"anchor\" id=\"plot_snapshot_uv\"></a>\n",
    "\n",
    "Plots the snapshot uv coverage for a source at zenith. You can pass any valid `matplotlib.pyplot.scatter()` parameters to this function. Below are a few examples."
   ]
  },
  {
   "cell_type": "code",
   "execution_count": 12,
   "id": "66dba8d1",
   "metadata": {},
   "outputs": [
    {
     "name": "stderr",
     "output_type": "stream",
     "text": [
      "/Users/s.sridhar/Library/Caches/pypoetry/virtualenvs/ska-ost-array-config-ffAgvIi0-py3.10/lib/python3.10/site-packages/ska_sdp_datamodels/visibility/vis_model.py:84: FutureWarning: the `pandas.MultiIndex` object(s) passed as 'baselines' coordinate(s) or data variable(s) will no longer be implicitly promoted and wrapped into multiple indexed coordinates in the future (i.e., one coordinate for each multi-index level + one dimension coordinate). If you want to keep this behavior, you need to first wrap it explicitly using `mindex_coords = xarray.Coordinates.from_pandas_multiindex(mindex_obj, 'dim')` and pass it as coordinates, e.g., `xarray.Dataset(coords=mindex_coords)`, `dataset.assign_coords(mindex_coords)` or `dataarray.assign_coords(mindex_coords)`.\n",
      "  super().__init__(data_vars, coords=coords, attrs=attrs)\n"
     ]
    },
    {
     "data": {
      "text/plain": [
       "(<Figure size 640x480 with 1 Axes>,\n",
       " <Axes: xlabel='U (km)', ylabel='V (km)'>,\n",
       " <ska_ost_array_config.UVW.UVW at 0x143dea1a0>)"
      ]
     },
     "execution_count": 12,
     "metadata": {},
     "output_type": "execute_result"
    },
    {
     "data": {
      "image/png": "[encoded data removed]",
      "text/plain": [
       "<Figure size 640x480 with 1 Axes>"
      ]
     },
     "metadata": {},
     "output_type": "display_data"
    }
   ],
   "source": [
    "low_aastar.plot_snapshot_zenith_uvcov(\n",
    "    ref_freq=50e6,\n",
    "    chan_width=5.4e3,\n",
    "    n_chan=1,\n",
    "    freq_undersample=100,\n",
    "    method=\"metre\",\n",
    "    plot_conj=True,\n",
    ")"
   ]
  },
  {
   "cell_type": "markdown",
   "id": "ffda4b12",
   "metadata": {},
   "source": [
    "Same as above but this time plot the uv coverage in k$\\lambda$ units. **Note** here that when simulating with large numbers of frequency channels, you might be memory-limited. In that case, use the `freq_undersample`. The example below simulates every 100th channel within the full LOW continuum band."
   ]
  },
  {
   "cell_type": "code",
   "execution_count": 13,
   "id": "4528d63b",
   "metadata": {},
   "outputs": [
    {
     "name": "stderr",
     "output_type": "stream",
     "text": [
      "/Users/s.sridhar/Library/Caches/pypoetry/virtualenvs/ska-ost-array-config-ffAgvIi0-py3.10/lib/python3.10/site-packages/ska_sdp_datamodels/visibility/vis_model.py:84: FutureWarning: the `pandas.MultiIndex` object(s) passed as 'baselines' coordinate(s) or data variable(s) will no longer be implicitly promoted and wrapped into multiple indexed coordinates in the future (i.e., one coordinate for each multi-index level + one dimension coordinate). If you want to keep this behavior, you need to first wrap it explicitly using `mindex_coords = xarray.Coordinates.from_pandas_multiindex(mindex_obj, 'dim')` and pass it as coordinates, e.g., `xarray.Dataset(coords=mindex_coords)`, `dataset.assign_coords(mindex_coords)` or `dataarray.assign_coords(mindex_coords)`.\n",
      "  super().__init__(data_vars, coords=coords, attrs=attrs)\n"
     ]
    },
    {
     "data": {
      "text/plain": [
       "(<Figure size 640x480 with 1 Axes>,\n",
       " <Axes: xlabel='U (k$\\\\lambda$)', ylabel='V (k$\\\\lambda$)'>,\n",
       " <ska_ost_array_config.UVW.UVW at 0x14199ed70>)"
      ]
     },
     "execution_count": 13,
     "metadata": {},
     "output_type": "execute_result"
    },
    {
     "data": {
      "image/png": "[encoded data removed]",
      "text/plain": [
       "<Figure size 640x480 with 1 Axes>"
      ]
     },
     "metadata": {},
     "output_type": "display_data"
    }
   ],
   "source": [
    "low_aastar.plot_snapshot_zenith_uvcov(\n",
    "    ref_freq=50e6,\n",
    "    chan_width=5.4e3,\n",
    "    n_chan=55296,\n",
    "    freq_undersample=100,\n",
    "    method=\"lambda\",\n",
    "    scale=\"kilo\",\n",
    "    plot_conj=True,\n",
    ")"
   ]
  },
  {
   "cell_type": "markdown",
   "id": "741f51c5",
   "metadata": {},
   "source": [
    "If you want to plot the conjugates using a different colour and a different symbol, use the `c_conj` and `marker_conj` keys."
   ]
  },
  {
   "cell_type": "code",
   "execution_count": 14,
   "id": "82f2b3f2",
   "metadata": {},
   "outputs": [
    {
     "name": "stderr",
     "output_type": "stream",
     "text": [
      "/Users/s.sridhar/Library/Caches/pypoetry/virtualenvs/ska-ost-array-config-ffAgvIi0-py3.10/lib/python3.10/site-packages/ska_sdp_datamodels/visibility/vis_model.py:84: FutureWarning: the `pandas.MultiIndex` object(s) passed as 'baselines' coordinate(s) or data variable(s) will no longer be implicitly promoted and wrapped into multiple indexed coordinates in the future (i.e., one coordinate for each multi-index level + one dimension coordinate). If you want to keep this behavior, you need to first wrap it explicitly using `mindex_coords = xarray.Coordinates.from_pandas_multiindex(mindex_obj, 'dim')` and pass it as coordinates, e.g., `xarray.Dataset(coords=mindex_coords)`, `dataset.assign_coords(mindex_coords)` or `dataarray.assign_coords(mindex_coords)`.\n",
      "  super().__init__(data_vars, coords=coords, attrs=attrs)\n"
     ]
    },
    {
     "data": {
      "text/plain": [
       "(<Figure size 640x480 with 1 Axes>,\n",
       " <Axes: xlabel='U (k$\\\\lambda$)', ylabel='V (k$\\\\lambda$)'>,\n",
       " <ska_ost_array_config.UVW.UVW at 0x1408e3a60>)"
      ]
     },
     "execution_count": 14,
     "metadata": {},
     "output_type": "execute_result"
    },
    {
     "data": {
      "image/png": "[encoded data removed]",
      "text/plain": [
       "<Figure size 640x480 with 1 Axes>"
      ]
     },
     "metadata": {},
     "output_type": "display_data"
    }
   ],
   "source": [
    "low_aastar.plot_snapshot_zenith_uvcov(\n",
    "    ref_freq=50e6,\n",
    "    chan_width=5.4e3,\n",
    "    n_chan=55296,\n",
    "    freq_undersample=100,\n",
    "    method=\"lambda\",\n",
    "    scale=\"kilo\",\n",
    "    plot_conj=True,\n",
    "    c_conj=\"b\",\n",
    "    marker_conj=\"^\",\n",
    ")"
   ]
  },
  {
   "cell_type": "markdown",
   "id": "e2177a0c",
   "metadata": {},
   "source": [
    "## Plot uv coverage for a generic observation <a class=\"anchor\" id=\"plot_uv\"></a>\n",
    "\n",
    "`ska_ost_array_config.simulation_utils.simulate_observation()` allows you to simulate a generic observation with LOW and MID telescopes. Note that it only generates the meta data for the observation and not the visibilities themselves. Also note that there is no explicit warning if the specified source is below the horizon; when this happens, the corresponding row is flagged. \n",
    "\n",
    "The example below simulates a 1-hour MID AA* observation with 1000 channels with the frequency of the first channel being 1420 MHz."
   ]
  },
  {
   "cell_type": "code",
   "execution_count": 15,
   "id": "4587194a",
   "metadata": {},
   "outputs": [
    {
     "name": "stderr",
     "output_type": "stream",
     "text": [
      "/Users/s.sridhar/Library/Caches/pypoetry/virtualenvs/ska-ost-array-config-ffAgvIi0-py3.10/lib/python3.10/site-packages/ska_sdp_datamodels/visibility/vis_model.py:84: FutureWarning: the `pandas.MultiIndex` object(s) passed as 'baselines' coordinate(s) or data variable(s) will no longer be implicitly promoted and wrapped into multiple indexed coordinates in the future (i.e., one coordinate for each multi-index level + one dimension coordinate). If you want to keep this behavior, you need to first wrap it explicitly using `mindex_coords = xarray.Coordinates.from_pandas_multiindex(mindex_obj, 'dim')` and pass it as coordinates, e.g., `xarray.Dataset(coords=mindex_coords)`, `dataset.assign_coords(mindex_coords)` or `dataarray.assign_coords(mindex_coords)`.\n",
      "  super().__init__(data_vars, coords=coords, attrs=attrs)\n"
     ]
    }
   ],
   "source": [
    "from ska_ost_array_config.simulation_utils import simulate_observation\n",
    "from astropy.coordinates import SkyCoord\n",
    "from astropy import units\n",
    "from astropy.time import Time\n",
    "from ska_ost_array_config.UVW import UVW\n",
    "\n",
    "phase_centre = SkyCoord(\"08:00:00 -75:00:00\", unit=(units.hourangle, units.deg))\n",
    "\n",
    "observation = simulate_observation(\n",
    "    array_config=MidSubArray(subarray_type=\"AA*\").array_config,\n",
    "    phase_centre=phase_centre,\n",
    "    start_time=Time.now(),\n",
    "    duration=3600.0,\n",
    "    integration_time=1,\n",
    "    ref_freq=1420e6,\n",
    "    chan_width=13.4e3,\n",
    "    n_chan=1000,\n",
    "    horizon=20,\n",
    "    freq_undersample=100,\n",
    "    time_undersample=10,\n",
    ")\n",
    "\n",
    "uvw = UVW(observation, ignore_autocorr=True)"
   ]
  },
  {
   "cell_type": "markdown",
   "id": "76faf49c",
   "metadata": {},
   "source": [
    "You can then plot the uv-coverage of the simulated observation with `UVW.plot_uv_coverage()`. "
   ]
  },
  {
   "cell_type": "code",
   "execution_count": 16,
   "id": "4f6e96f7",
   "metadata": {},
   "outputs": [
    {
     "data": {
      "image/png": "[encoded data removed]",
      "text/plain": [
       "<Figure size 640x480 with 1 Axes>"
      ]
     },
     "metadata": {},
     "output_type": "display_data"
    }
   ],
   "source": [
    "from ska_ost_array_config.UVW import plot_uv_coverage\n",
    "\n",
    "fig, axes = plot_uv_coverage(uvw)"
   ]
  },
  {
   "cell_type": "markdown",
   "id": "b62dca2c",
   "metadata": {},
   "source": [
    "You can also plot histograms of the baseline distributions. The example below plots the histograms of baseline distribution in metres (left panel) and in lambda (right panel)."
   ]
  },
  {
   "cell_type": "code",
   "execution_count": 17,
   "id": "553d1bbc",
   "metadata": {},
   "outputs": [
    {
     "data": {
      "text/plain": [
       "<matplotlib.legend.Legend at 0x14414d840>"
      ]
     },
     "execution_count": 17,
     "metadata": {},
     "output_type": "execute_result"
    },
    {
     "data": {
      "image/png": "[encoded data removed]",
      "text/plain": [
       "<Figure size 1200x400 with 2 Axes>"
      ]
     },
     "metadata": {},
     "output_type": "display_data"
    }
   ],
   "source": [
    "from ska_ost_array_config.UVW import plot_baseline_distribution\n",
    "\n",
    "fig, axes = plt.subplots(1, 2, figsize=(12, 4), sharey=True)\n",
    "\n",
    "plot_baseline_distribution(uvw, axes[0], method=\"metre\", plot_type=\"u\", label=\"u\")\n",
    "plot_baseline_distribution(uvw, axes[0], method=\"metre\", plot_type=\"v\", label=\"v\")\n",
    "plot_baseline_distribution(\n",
    "    uvw, axes[0], method=\"metre\", plot_type=\"uv\", label=\"uv dist\"\n",
    ")\n",
    "axes[0].legend()\n",
    "\n",
    "plot_baseline_distribution(uvw, axes[1], method=\"lambda\", plot_type=\"u\", label=\"u\")\n",
    "plot_baseline_distribution(uvw, axes[1], method=\"lambda\", plot_type=\"v\", label=\"v\")\n",
    "plot_baseline_distribution(\n",
    "    uvw, axes[1], method=\"lambda\", plot_type=\"uv\", label=\"uv dist\"\n",
    ")\n",
    "axes[1].legend()"
   ]
  },
  {
   "cell_type": "markdown",
   "id": "32690cd9",
   "metadata": {},
   "source": [
    "## Compute PSF size <a class=\"anchor\" id=\"compute_psf\"></a>\n",
    "\n",
    "The `ska_ost_array_config.array_config.simulation_utils.generate_mfs_psf()` allows you to estimate the MFS PSF corresponding to a given set of uvw coordinates. The example below showcases how to extract the MFS PSF size corresponding to Briggs weighting with robust parameter set to -1. "
   ]
  },
  {
   "cell_type": "code",
   "execution_count": null,
   "id": "b58fe1c5",
   "metadata": {},
   "outputs": [],
   "source": [
    "from ska_ost_array_config.simulation_utils import generate_mfs_psf\n",
    "\n",
    "pixel_size = uvw.get_cellsize(over_sample=5)\n",
    "psf = generate_mfs_psf(\n",
    "    observation, pixel_size, npixel=1024, weighting=\"robust\", r_value=-1\n",
    ")"
   ]
  },
  {
   "cell_type": "markdown",
   "id": "6ad57445",
   "metadata": {},
   "source": [
    "`generate_mfs_psf()` returns the PSF an object of type `ska_sdp_datamodels.image.image_model.Image`. You can then use the function `ska_ost_array_config.simulation_utils.get_PSF_shape_and_profile()` to fit a Gaussian to the PSF and extract the values for BMAJ and BMIN as shown below:"
   ]
  },
  {
   "cell_type": "code",
   "execution_count": null,
   "id": "a563b030",
   "metadata": {},
   "outputs": [],
   "source": [
    "from ska_ost_array_config.simulation_utils import get_PSF_shape_and_profile\n",
    "\n",
    "psf_size = get_PSF_shape_and_profile(psf)\n",
    "print(\n",
    "    f\"PSF size (arcsec): {psf_size['bmaj']*3600.:0.2f} x {psf_size['bmin']*3600.:0.2f}\"\n",
    ")\n",
    "print(f\"BPA: {psf_size['bpa']:0.2f} deg\")"
   ]
  },
  {
   "cell_type": "markdown",
   "id": "638f682f",
   "metadata": {},
   "source": [
    "### Plot 1D profiles of the fitted PSF <a class=\"anchor\" id=\"psf_profile\"></a>\n",
    "\n",
    "In addition to getting the FWHM of the fitted PSF, `get_PSF_shape_and_profile()` can be used to extract a 1D profile of the PSF along its major and minor axes. "
   ]
  },
  {
   "cell_type": "code",
   "execution_count": null,
   "id": "c4c99ec9",
   "metadata": {},
   "outputs": [],
   "source": [
    "psf_size, (major_profile, minor_profile) = get_PSF_shape_and_profile(\n",
    "    psf, return_profile=True\n",
    ")\n",
    "\n",
    "# Plot the 1D profiles along the major and minor axes\n",
    "fig, (ax1, ax2) = plt.subplots(1, 2, figsize=(15, 5))\n",
    "ax1.plot(minor_profile[412:612])  # Plot the inner 200 pixels\n",
    "ax1.set_xlabel(\"Pixels along the minor axis\")\n",
    "ax1.set_ylabel(\"|PSF|\")\n",
    "ax2.plot(major_profile[412:612])  # Plot the inner 200 pixels\n",
    "ax2.set_xlabel(\"Pixels along the major axis\")\n",
    "fig.align_ylabels()\n",
    "plt.show()"
   ]
  },
  {
   "cell_type": "markdown",
   "id": "f8d27510",
   "metadata": {},
   "source": [
    "## Export CASA-compatible antenna list  <a class=\"anchor\" id=\"export_casa\"></a>\n",
    "\n",
    "If you wish to run simulations using CASA's simutil module, you can export the antenna list using generate_casa_antenna_list(). For example,"
   ]
  },
  {
   "cell_type": "code",
   "execution_count": null,
   "id": "03f4202f",
   "metadata": {},
   "outputs": [],
   "source": [
    "low_aastar.generate_casa_antenna_list(\"low.txt\")\n",
    "mid_aastar.generate_casa_antenna_list(\"mid.txt\")"
   ]
  },
  {
   "cell_type": "markdown",
   "id": "f572992d",
   "metadata": {},
   "source": [
    "## Specifying non-SKAO facilities <a class=\"anchor\" id=\"external_telescopes\"></a>\n",
    "\n",
    "Sometimes it might be useful to include non-SKAO facilities to simulate VLBI-type experiments. You can define external facilities as objects to class `ska_ost_array_config.simulation_utils.ExternalTelescope` and add them to the subarrays using the `external_telescopes` parameter while defining the `LowSubArray` and `MidSubArray` classes. **Note** that this is not a valid observing mode with SKAO telescopes. This functionality is provided in the code purely for running simulations.\n",
    "\n",
    "The example below defines a subarray that includes all SKA LOW stations in the core along with two non-existent stations located at ATCA and ASKAP."
   ]
  },
  {
   "cell_type": "code",
   "execution_count": null,
   "id": "1d75ec1e",
   "metadata": {},
   "outputs": [],
   "source": [
    "from astropy.coordinates import EarthLocation\n",
    "from ska_ost_array_config.simulation_utils import ExternalTelescope\n",
    "\n",
    "askap = ExternalTelescope(\n",
    "    label=\"askap\",\n",
    "    location=EarthLocation.from_geodetic(lon=116.637, lat=-26.696),\n",
    "    station_diameter=10.\n",
    ")\n",
    "\n",
    "atca_w196 = ExternalTelescope(\n",
    "    label=\"atca_w196\",\n",
    "    location=EarthLocation.from_geodetic(\n",
    "        lon=149.5489798, lat=-30.3144576, height=209.3\n",
    "    ),\n",
    "    station_diameter=10.\n",
    ")\n",
    "\n",
    "low_test = LowSubArray(\n",
    "    subarray_type=\"custom\", custom_stations=\"C*\", external_telescopes=[askap, atca_w196]\n",
    ")\n",
    "\n",
    "print(\"Stations in the subarray:\", \",\".join(low_test.array_config.names.data))"
   ]
  },
  {
   "cell_type": "markdown",
   "id": "ef12e7a7",
   "metadata": {},
   "source": [
    "You can then plot, for example, the array layout and snapshot uv coverage as follows"
   ]
  },
  {
   "cell_type": "code",
   "execution_count": null,
   "id": "a694f18a",
   "metadata": {},
   "outputs": [],
   "source": [
    "fig, axes = plt.subplots(2, 2, figsize=(10, 10))\n",
    "\n",
    "# Plot the array layout\n",
    "low_test.plot_array_layout(\n",
    "    axes=axes[0][0],\n",
    "    scale=\"kilo\",\n",
    "    s=4,\n",
    ")\n",
    "axes[0][0].set_title(\"Custom array layout\")\n",
    "\n",
    "# Plot snapshot uv coverage for a fiduccial source at zenith\n",
    "uvw = low_test.plot_snapshot_zenith_uvcov(\n",
    "    axes=axes[0][1],\n",
    "    ref_freq=200e6,\n",
    "    chan_width=5.4e3,\n",
    "    n_chan=1,\n",
    "    method=\"metre\",\n",
    "    plot_conj=True,\n",
    ")\n",
    "axes[0][1].set_title(\"Snapshot uv coverage\")\n",
    "\n",
    "# Make a histogram of the baseline distribution\n",
    "plot_baseline_distribution(\n",
    "    uvw,\n",
    "    axes=axes[1][0],\n",
    "    method=\"lambda\",\n",
    "    scale=\"kilo\",\n",
    "    plot_type=\"uv\",\n",
    "    label=\"uv distance\",\n",
    ")\n",
    "axes[1][0].set_title(\"Baseline distribution\")\n",
    "\n",
    "# Plot collecting area as a function of baseline length\n",
    "low_test.plot_collecting_area_vs_bl_length(\n",
    "    n_bins=20, axes=axes[1][1], normalization=True\n",
    ")\n",
    "axes[1][1].set_title(\"Collecting area\")"
   ]
  },
  {
   "cell_type": "markdown",
   "id": "7101f058",
   "metadata": {},
   "source": [
    "## Plots included in the memo <a class=\"anchor\" id=\"memo_plots\"></a>"
   ]
  },
  {
   "cell_type": "markdown",
   "id": "d6f1fe30-8b40-4b08-bdb1-0af735ff65a6",
   "metadata": {},
   "source": [
    "**Figure 1**"
   ]
  },
  {
   "cell_type": "code",
   "execution_count": null,
   "id": "bd5d2ec8-c097-4128-a2d9-06b2144cb54a",
   "metadata": {},
   "outputs": [],
   "source": [
    "import matplotlib.pyplot as plt\n",
    "from matplotlib.ticker import AutoMinorLocator\n",
    "\n",
    "font = 20\n",
    "plt.rcParams[\"font.size\"] = font\n",
    "plt.rcParams[\"axes.titlesize\"] = font\n",
    "plt.rcParams[\"axes.labelsize\"] = font\n",
    "plt.rcParams[\"xtick.labelsize\"] = font\n",
    "plt.rcParams[\"ytick.labelsize\"] = font\n",
    "\n",
    "from ska_ost_array_config.array_config import LowSubArray\n",
    "\n",
    "fig, axes = plt.subplots(1, 3, figsize=(15,5), sharex=True, sharey=True)\n",
    "\n",
    "# LOW AA2 configuration\n",
    "low_aa2 = LowSubArray(subarray_type=\"AA2\")\n",
    "low_aa2.plot_array_layout(\n",
    "    axes=axes[0], \n",
    "    scale=\"kilo\",\n",
    "    s=4,\n",
    ")\n",
    "axes[0].set_title(\"AA2 array layout\")\n",
    "axes[0].xaxis.set_minor_locator(AutoMinorLocator())\n",
    "axes[0].yaxis.set_minor_locator(AutoMinorLocator())\n",
    "\n",
    "# LOW AA* configuration\n",
    "low_aastar = LowSubArray(subarray_type=\"AA*\")\n",
    "low_aastar.plot_array_layout(\n",
    "    axes=axes[1], \n",
    "    scale=\"kilo\",\n",
    "    s=4,\n",
    ")\n",
    "axes[1].set_title(\"AA* array layout\")\n",
    "axes[1].set_ylabel(\"\")\n",
    "axes[1].xaxis.set_minor_locator(AutoMinorLocator())\n",
    "axes[1].yaxis.set_minor_locator(AutoMinorLocator())\n",
    "\n",
    "# LOW AA4 configuration\n",
    "low_aa4 = LowSubArray(subarray_type=\"AA4\")\n",
    "low_aa4.plot_array_layout(\n",
    "    axes=axes[2], \n",
    "    scale=\"kilo\",\n",
    "    s=4,\n",
    ")\n",
    "axes[2].set_title(\"AA4 array layout\")\n",
    "axes[2].set_ylabel(\"\")\n",
    "axes[2].xaxis.set_minor_locator(AutoMinorLocator())\n",
    "axes[2].yaxis.set_minor_locator(AutoMinorLocator())\n",
    "\n",
    "plt.tight_layout()\n",
    "plt.savefig('low_array_layout.png', dpi=300)"
   ]
  },
  {
   "cell_type": "markdown",
   "id": "eac30edc-bbb9-40e5-bcf3-b2389926479f",
   "metadata": {},
   "source": [
    "**Figure 2**"
   ]
  },
  {
   "cell_type": "code",
   "execution_count": null,
   "id": "304d828c-749b-421f-acc3-1a96cb937d94",
   "metadata": {
    "scrolled": true
   },
   "outputs": [],
   "source": [
    "from ska_ost_array_config.array_config import MidSubArray\n",
    "\n",
    "fig, axes = plt.subplots(1, 3, figsize=(15,5), sharex=True, sharey=True)\n",
    "\n",
    "# mid AA2 configuration\n",
    "mid_aa2 = MidSubArray(subarray_type=\"AA2\")\n",
    "mid_aa2.plot_array_layout(\n",
    "    axes=axes[0], \n",
    "    scale=\"kilo\",\n",
    "    s=4,\n",
    ")\n",
    "axes[0].set_title(\"AA2 array layout\")\n",
    "axes[0].xaxis.set_minor_locator(AutoMinorLocator())\n",
    "axes[0].yaxis.set_minor_locator(AutoMinorLocator())\n",
    "\n",
    "# mid AA* configuration\n",
    "mid_aastar = MidSubArray(subarray_type=\"AA*\")\n",
    "mid_aastar.plot_array_layout(\n",
    "    axes=axes[1], \n",
    "    scale=\"kilo\",\n",
    "    s=4,\n",
    ")\n",
    "axes[1].set_title(\"AA* array layout\")\n",
    "axes[1].set_ylabel(\"\")\n",
    "axes[1].xaxis.set_minor_locator(AutoMinorLocator())\n",
    "axes[1].yaxis.set_minor_locator(AutoMinorLocator())\n",
    "\n",
    "# mid AA4 configuration\n",
    "mid_aa4 = MidSubArray(subarray_type=\"AA4\")\n",
    "mid_aa4.plot_array_layout(\n",
    "    axes=axes[2], \n",
    "    scale=\"kilo\",\n",
    "    s=4,\n",
    ")\n",
    "axes[2].set_title(\"AA4 array layout\")\n",
    "axes[2].set_ylabel(\"\")\n",
    "axes[2].xaxis.set_minor_locator(AutoMinorLocator())\n",
    "axes[2].yaxis.set_minor_locator(AutoMinorLocator())\n",
    "\n",
    "plt.tight_layout()\n",
    "plt.savefig('mid_array_layout.png', dpi=300)"
   ]
  },
  {
   "cell_type": "markdown",
   "id": "d2bd83d3",
   "metadata": {},
   "source": [
    "**Memo section A.1**"
   ]
  },
  {
   "cell_type": "code",
   "execution_count": null,
   "id": "bc601b63",
   "metadata": {},
   "outputs": [],
   "source": [
    "from ska_ost_array_config.array_config import LowSubArray\n",
    "from ska_ost_array_config.UVW import plot_baseline_distribution\n",
    "import matplotlib.pyplot as plt\n",
    "\n",
    "font = 14\n",
    "plt.rcParams[\"font.size\"] = font\n",
    "plt.rcParams[\"axes.titlesize\"] = font\n",
    "plt.rcParams[\"axes.labelsize\"] = font\n",
    "plt.rcParams[\"xtick.labelsize\"] = font\n",
    "plt.rcParams[\"ytick.labelsize\"] = font\n",
    "\n",
    "# Create a subarray containing all Low stations in\n",
    "# AA* configuration\n",
    "low_aastar = LowSubArray(subarray_type=\"AA*\")\n",
    "\n",
    "fig, axes = plt.subplots(1, 3, figsize=(15, 4))\n",
    "\n",
    "# Plot the array layout\n",
    "low_aastar.plot_array_layout(\n",
    "    axes=axes[0],\n",
    "    scale=\"kilo\",\n",
    "    s=4,\n",
    ")\n",
    "axes[0].set_title(\"AA* array layout\")\n",
    "\n",
    "# Plot snapshot uv coverage for a fiduccial source at zenith\n",
    "uvw = low_aastar.plot_snapshot_zenith_uvcov(\n",
    "    axes=axes[1],\n",
    "    ref_freq=200e6,\n",
    "    chan_width=5.4e3,\n",
    "    n_chan=1,\n",
    "    method=\"lambda\",\n",
    "    plot_conj=True,\n",
    ")\n",
    "axes[1].set_title(\"AA* snapshot uv coverage\")\n",
    "\n",
    "# Make a histogram of the baseline distribution\n",
    "plot_baseline_distribution(\n",
    "    uvw,\n",
    "    axes=axes[2],\n",
    "    method=\"lambda\",\n",
    "    scale=\"kilo\",\n",
    "    plot_type=\"uv\",\n",
    "    label=\"uv distance\",\n",
    ")\n",
    "axes[2].set_title(\"Baseline distribution\")\n",
    "\n",
    "plt.tight_layout()\n",
    "plt.savefig('low_aastar.png', dpi=300)"
   ]
  },
  {
   "cell_type": "markdown",
   "id": "8bf87427",
   "metadata": {},
   "source": [
    "**Memo section A.2**"
   ]
  },
  {
   "cell_type": "code",
   "execution_count": null,
   "id": "55b0249b",
   "metadata": {},
   "outputs": [],
   "source": [
    "from ska_ost_array_config.array_config import MidSubArray, filter_array_by_distance\n",
    "from ska_ost_array_config.UVW import UVW, plot_baseline_distribution, plot_uv_coverage\n",
    "from ska_ost_array_config.simulation_utils import (\n",
    "    find_rise_set_times,\n",
    "    simulate_observation,\n",
    ")\n",
    "from astropy.coordinates import SkyCoord\n",
    "import matplotlib.pyplot as plt\n",
    "from astropy import units\n",
    "from astropy.time import Time, TimeDelta\n",
    "\n",
    "# Create a custom MID array using all dishes within 1 km from the array centre\n",
    "mid_aastar = MidSubArray(subarray_type=\"AA*\")\n",
    "custom_stations = filter_array_by_distance(mid_aastar, 1000.0 * units.m)\n",
    "mid_custom = MidSubArray(subarray_type=\"custom\", custom_stations=custom_stations)\n",
    "\n",
    "# Define the pointing centre\n",
    "lmc = SkyCoord(\"05:23:34 -69:45:00\", unit=(units.hourangle, units.deg))\n",
    "\n",
    "# Find the UTC time when the source transits\n",
    "_, transit_time, _ = find_rise_set_times(\n",
    "    location=mid_custom.array_config.location,\n",
    "    phase_centre=lmc,\n",
    "    date=Time.now(),\n",
    "    elevation_limit=20.0,\n",
    ")\n",
    "\n",
    "# Simulate the observation and get the uvw values\n",
    "duration = 7200.0  # in seconds\n",
    "observation = simulate_observation(\n",
    "    array_config=mid_custom.array_config,\n",
    "    phase_centre=lmc,\n",
    "    start_time=transit_time - TimeDelta(duration / 2, format=\"sec\"),\n",
    "    duration=duration,\n",
    "    integration_time=1,\n",
    "    ref_freq=950e6,\n",
    "    chan_width=13.44e3,\n",
    "    n_chan=1,  # 60628,\n",
    "    horizon=20,\n",
    "    freq_undersample=200,\n",
    "    time_undersample=20,\n",
    ")\n",
    "uvw = UVW(observation, ignore_autocorr=True)\n",
    "\n",
    "del observation"
   ]
  },
  {
   "cell_type": "code",
   "execution_count": null,
   "id": "22a14836",
   "metadata": {},
   "outputs": [],
   "source": [
    "fig, axes = plt.subplots(1, 3, figsize=(15, 4))\n",
    "\n",
    "# Plot the array layout\n",
    "mid_custom.plot_array_layout(\n",
    "    axes=axes[0],\n",
    "    scale=\"kilo\",\n",
    "    s=4,\n",
    ")\n",
    "axes[0].set_title(\"Custom array layout\")\n",
    "\n",
    "# Plot the UV coverage\n",
    "plot_uv_coverage(uvw, axes=axes[1], method=\"metre\", scale=\"kilo\", plot_conj=True)\n",
    "axes[1].set_title(\"uv coverage\")\n",
    "\n",
    "# Plot the baseline distribution\n",
    "plot_baseline_distribution(\n",
    "    uvw,\n",
    "    axes=axes[2],\n",
    "    method=\"lambda\",\n",
    "    scale=\"kilo\",\n",
    "    plot_type=\"uv\",\n",
    "    label=\"uv distance\",\n",
    ")\n",
    "axes[2].set_title(\"Baseline distribution\")\n",
    "\n",
    "plt.tight_layout()\n",
    "plt.savefig('mid_custom.png', dpi=300)"
   ]
  },
  {
   "cell_type": "markdown",
   "id": "cdf080a9",
   "metadata": {},
   "source": []
  }
 ],
 "metadata": {
  "kernelspec": {
   "display_name": "Python 3 (ipykernel)",
   "language": "python",
   "name": "python3"
  },
  "language_info": {
   "codemirror_mode": {
    "name": "ipython",
    "version": 3
   },
   "file_extension": ".py",
   "mimetype": "text/x-python",
   "name": "python",
   "nbconvert_exporter": "python",
   "pygments_lexer": "ipython3",
   "version": "3.9.6"
  }
 },
 "nbformat": 4,
 "nbformat_minor": 5
}
