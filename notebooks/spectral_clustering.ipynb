{
 "cells": [
  {
   "cell_type": "code",
   "execution_count": 46,
   "metadata": {},
   "outputs": [],
   "source": [
    "import torch\n",
    "import torch.nn.functional as F\n",
    "import pandas as pd\n",
    "import numpy as np"
   ]
  },
  {
   "cell_type": "code",
   "execution_count": 41,
   "metadata": {},
   "outputs": [],
   "source": [
    "def k_means(data, num_clusters, max_iters=100):\n",
    "    \"\"\"For data we'll use eigenvalues of the Laplacian of a graph\"\"\"\n",
    "    centroids = data[:num_clusters, :]\n",
    "    for _ in range(max_iters):\n",
    "        distances = torch.cdist(data, centroids, p=2)\n",
    "        cluster_assignments = torch.argmin(distances, dim=1)\n",
    "        new_centroids = torch.stack([data[cluster_assignments == i].mean(0) for i in range(num_clusters)])\n",
    "        if torch.equal(new_centroids, centroids):\n",
    "            break\n",
    "        centroids = new_centroids\n",
    "        \n",
    "    return centroids, cluster_assignments"
   ]
  },
  {
   "cell_type": "code",
   "execution_count": 43,
   "metadata": {},
   "outputs": [],
   "source": [
    "def spectral_clustering(adjacency_matrix, num_clusters=2):\n",
    "    # Laplacian:\n",
    "    degree_matrix = torch.diag(torch.sum(adjacency_matrix, dim=1))\n",
    "    laplacian_matrix = degree_matrix - adjacency_matrix\n",
    "\n",
    "    # Eigenvalue Decomposition\n",
    "    eigenvalues, eigenvectors = torch.linalg.eigh(laplacian_matrix)\n",
    "    eigenvectors = eigenvectors[:, 1:num_clusters+1]  # Use the first num_clusters eigenvectors\n",
    "    eigenvectors = F.normalize(eigenvectors, p=2, dim=1)\n",
    "\n",
    "    # K-Means for clustering\n",
    "    centroids, cluster_assignments = k_means(eigenvectors, num_clusters)\n",
    "\n",
    "    return cluster_assignments"
   ]
  },
  {
   "cell_type": "markdown",
   "metadata": {},
   "source": [
    "## Testing spectral clustering with sparse matrix"
   ]
  },
  {
   "cell_type": "code",
   "execution_count": 11,
   "metadata": {},
   "outputs": [
    {
     "name": "stdout",
     "output_type": "stream",
     "text": [
      "tensor([0, 1, 1, 1, 1, 0, 0, 0, 0, 0])\n"
     ]
    }
   ],
   "source": [
    "# Example usage:\n",
    "adjacency_matrix = torch.tensor([\n",
    "    [0., 1., 1., 0., 0., 0., 0., 0., 1., 1.],\n",
    "    [1., 0., 1., 0., 0., 0., 0., 0., 0., 0.],\n",
    "    [1., 1., 0., 0., 0., 0., 0., 0., 0., 0],\n",
    "    [0., 0., 0., 0., 1., 1., 0., 0., 0., 0],\n",
    "    [0., 0., 0., 1., 0., 1., 0., 0., 0., 0],\n",
    "    [0., 0., 0., 1., 1., 0., 1., 1., 0., 0],\n",
    "    [0., 0., 0., 0., 0., 1., 0., 1., 0., 0],\n",
    "    [0., 0., 0., 0., 0., 1., 1., 0., 0., 0],\n",
    "    [1., 0., 0., 0., 0., 0., 0., 0., 0., 1],\n",
    "    [1., 0., 0., 0., 0., 0., 0., 0., 1., 0]])\n",
    "cluster_assignments = spectral_clustering(adjacency_matrix, 2)\n",
    "\n",
    "print(cluster_assignments)"
   ]
  },
  {
   "cell_type": "code",
   "execution_count": 18,
   "metadata": {},
   "outputs": [
    {
     "name": "stdout",
     "output_type": "stream",
     "text": [
      "[0 0 0 1 1 1 1 1 0 0]\n"
     ]
    },
    {
     "name": "stderr",
     "output_type": "stream",
     "text": [
      "/home/duser/venv/lib/python3.9/site-packages/sklearn/manifold/_spectral_embedding.py:273: UserWarning: Graph is not fully connected, spectral embedding may not work as expected.\n",
      "  warnings.warn(\n"
     ]
    }
   ],
   "source": [
    "import numpy as np\n",
    "A = np.array([\n",
    "    [0, 1, 1, 0, 0, 0, 0, 0, 1, 1],\n",
    "    [1, 0, 1, 0, 0, 0, 0, 0, 0, 0],\n",
    "    [1, 1, 0, 0, 0, 0, 0, 0, 0, 0],\n",
    "    [0, 0, 0, 0, 1, 1, 0, 0, 0, 0],\n",
    "    [0, 0, 0, 1, 0, 1, 0, 0, 0, 0],\n",
    "    [0, 0, 0, 1, 1, 0, 1, 1, 0, 0],\n",
    "    [0, 0, 0, 0, 0, 1, 0, 1, 0, 0],\n",
    "    [0, 0, 0, 0, 0, 1, 1, 0, 0, 0],\n",
    "    [1, 0, 0, 0, 0, 0, 0, 0, 0, 1],\n",
    "    [1, 0, 0, 0, 0, 0, 0, 0, 1, 0]])\n",
    "\n",
    "D = np.diag(A.sum(axis=1))\n",
    "L = D-A\n",
    "vals, vecs = np.linalg.eig(A)\n",
    "\n",
    "from sklearn.cluster import SpectralClustering\n",
    "\n",
    "# Building the clustering model\n",
    "spectral_model_rbf = SpectralClustering(n_clusters = 2, affinity='precomputed')\n",
    " \n",
    "# Training the model and Storing the predicted cluster labels\n",
    "labels_rbf = spectral_model_rbf.fit_predict(A)\n",
    "print(labels_rbf)\n"
   ]
  },
  {
   "cell_type": "markdown",
   "metadata": {},
   "source": [
    "## Testing with fully connected matrix"
   ]
  },
  {
   "cell_type": "code",
   "execution_count": 77,
   "metadata": {},
   "outputs": [
    {
     "data": {
      "text/plain": [
       "tensor([[0.0000, 0.0033, 0.0011,  ..., 0.3451, 0.3455, 0.3455],\n",
       "        [0.0033, 0.0000, 0.0022,  ..., 0.3421, 0.3424, 0.3425],\n",
       "        [0.0011, 0.0022, 0.0000,  ..., 0.3440, 0.3443, 0.3444],\n",
       "        ...,\n",
       "        [0.3451, 0.3421, 0.3440,  ..., 0.0000, 0.0009, 0.0006],\n",
       "        [0.3455, 0.3424, 0.3443,  ..., 0.0009, 0.0000, 0.0005],\n",
       "        [0.3455, 0.3425, 0.3444,  ..., 0.0006, 0.0005, 0.0000]],\n",
       "       dtype=torch.float64)"
      ]
     },
     "execution_count": 77,
     "metadata": {},
     "output_type": "execute_result"
    }
   ],
   "source": [
    "ska_data_file = \"/home/duser/masters_project/data/ska_raw_dataset.txt\"\n",
    "\n",
    "#load the file into a numpy array\n",
    "df = pd.read_csv(ska_data_file, sep=\" \", header=None)\n",
    "#convert the pandas dataframe to a numpy array\n",
    "data = df.to_numpy()\n",
    "#the last two element of each row is the x and y coordinate of the point\n",
    "\n",
    "n = len(data)\n",
    "dist_matrix = np.zeros((n,n))\n",
    "for i in range(n):\n",
    "    for j in range(n):\n",
    "        x_i, y_i = data[i][-2], data[i][-1]\n",
    "        x_j, y_j = data[j][-2], data[j][-1]\n",
    "        euclidean_distance = (x_i - x_j)**2 + (y_i - y_j)**2\n",
    "        euclidean_distance = euclidean_distance**0.5\n",
    "        dist_matrix[i][j] = euclidean_distance\n",
    "\n",
    "dist_matrix = torch.tensor(dist_matrix)\n",
    "dist_matrix"
   ]
  },
  {
   "cell_type": "code",
   "execution_count": 88,
   "metadata": {},
   "outputs": [
    {
     "data": {
      "text/plain": [
       "tensor([1, 1, 0, 1, 0, 1, 1, 1, 1, 1, 1, 1, 1, 1, 1, 1, 1, 0, 1, 1, 0, 0, 1, 1,\n",
       "        1, 1, 1, 1, 1, 1, 0, 1, 1, 0, 1, 1, 1, 1, 1, 1, 1, 0, 1, 1, 1, 1, 0, 1,\n",
       "        1, 0, 1, 1, 1, 0, 0, 1, 1, 1, 0, 0, 1, 1, 1, 1, 1, 1, 1, 1, 1, 1, 0, 0,\n",
       "        1, 1, 0, 0, 0, 1, 1, 1, 1, 1, 0, 1, 0, 1, 1, 1, 1, 1, 1, 1, 1, 0, 1, 1,\n",
       "        1, 0, 1, 1, 1, 1, 0, 1, 1, 1, 0, 1, 1, 1, 1, 1, 1, 1, 1, 1, 0, 1, 0, 0,\n",
       "        1, 1, 0, 0, 1, 0, 1, 1, 1, 1, 0, 0, 0, 1, 1, 0, 1, 1, 1, 1, 0, 1, 0, 0,\n",
       "        0, 1, 0, 1, 0, 0, 1, 1, 0, 1, 1, 1, 1, 1, 0, 1, 1, 1, 0, 0, 0, 1, 1, 1,\n",
       "        0, 1, 0, 1, 1, 0, 1, 1, 1, 1, 1, 0, 0, 1, 0, 1, 1, 1, 0, 0, 0, 0, 1, 1,\n",
       "        1, 1, 1, 0, 1, 0, 1, 0, 1, 1, 1, 1, 1, 1, 1, 1, 1, 1, 1, 1, 1, 1, 1, 1,\n",
       "        1, 1, 0, 0, 0, 0, 0, 0, 1, 1, 1, 1, 1, 1, 1, 1, 1, 1, 1, 1, 1, 1, 1, 1,\n",
       "        1, 1, 1, 1, 1, 1, 1, 1, 1, 1, 1, 1, 1, 1, 1, 1, 1, 1, 1, 1, 0, 0, 0, 0,\n",
       "        0, 0, 0, 0, 0, 0, 0, 0, 0, 0, 0, 0, 0, 0, 0, 0, 0, 0, 0, 0, 0, 0, 0, 0,\n",
       "        0, 0, 1, 1, 1, 1, 1, 1, 1, 1, 1, 1, 1, 1, 0, 0, 0, 0, 0, 0, 0, 0, 0, 0,\n",
       "        0, 0, 0, 0, 0, 0, 0, 0, 0, 0, 0, 0, 0, 0, 1, 1, 1, 1, 1, 1, 1, 1, 1, 1,\n",
       "        1, 1, 1, 1, 1, 1, 1, 1, 1, 1, 1, 1, 1, 1, 1, 1, 1, 1, 1, 1, 0, 0, 0, 0,\n",
       "        0, 0, 0, 0, 0, 0, 0, 0, 0, 0, 0, 0, 0, 0, 1, 1, 1, 1, 1, 1, 1, 1, 1, 1,\n",
       "        1, 1, 0, 0, 0, 0, 0, 0, 0, 0, 0, 0, 0, 0, 0, 0, 0, 0, 0, 0, 0, 0, 0, 0,\n",
       "        0, 0, 0, 0, 0, 0, 0, 0, 0, 0, 0, 0, 0, 0, 0, 0, 0, 0, 0, 0, 1, 1, 1, 1,\n",
       "        1, 1, 1, 1, 1, 1, 1, 1, 1, 1, 1, 1, 1, 1, 1, 1, 1, 1, 1, 1, 1, 1, 1, 1,\n",
       "        1, 1, 1, 1, 1, 1, 1, 1, 1, 1, 1, 1, 1, 1, 1, 1, 1, 1, 1, 1, 0, 0, 0, 0,\n",
       "        0, 0, 1, 1, 1, 1, 1, 1, 1, 1, 1, 1, 1, 1, 1, 1, 1, 1, 1, 1, 1, 1, 1, 1,\n",
       "        1, 1, 1, 1, 1, 1, 1, 1])"
      ]
     },
     "execution_count": 88,
     "metadata": {},
     "output_type": "execute_result"
    }
   ],
   "source": [
    "spectral_clustering(dist_matrix, 2)"
   ]
  },
  {
   "cell_type": "code",
   "execution_count": 94,
   "metadata": {},
   "outputs": [
    {
     "name": "stdout",
     "output_type": "stream",
     "text": [
      "[1 1 0 1 1 0 0 0 0 0 0 1 0 0 0 0 1 0 1 0 0 1 1 0 0 0 0 1 0 1 0 1 1 0 0 1 1\n",
      " 1 0 1 0 0 1 1 1 0 0 1 1 0 1 1 1 0 0 1 0 0 0 0 0 0 0 1 0 0 1 0 0 1 0 0 0 0\n",
      " 1 1 1 0 1 0 0 1 0 0 1 1 1 1 0 0 0 0 1 0 0 1 0 1 1 0 1 0 1 0 0 1 0 1 0 0 0\n",
      " 0 0 0 0 1 1 0 1 1 1 0 0 0 1 0 0 0 0 1 0 0 0 0 0 0 1 0 0 0 0 1 0 0 1 0 0 1\n",
      " 1 0 0 0 0 0 1 1 0 1 0 0 0 0 0 0 0 0 0 0 0 1 0 0 0 0 0 0 1 1 1 1 0 1 0 1 1\n",
      " 0 0 1 1 0 1 0 1 1 0 0 0 0 0 0 0 0 0 0 0 0 1 1 1 1 1 0 1 1 1 0 0 1 0 1 1 0\n",
      " 1 1 1 0 1 1 1 1 1 1 0 1 1 0 1 0 0 1 0 1 1 0 0 1 1 0 1 0 1 1 1 0 0 0 0 0 1\n",
      " 0 0 1 0 0 0 1 0 0 0 1 0 0 0 1 1 0 0 0 0 1 1 0 1 0 1 0 1 0 0 1 1 1 0 1 0 1\n",
      " 1 1 0 0 0 0 0 0 0 0 0 1 0 0 0 0 1 0 0 0 0 1 1 0 0 1 0 0 0 0 0 0 1 1 1 1 0\n",
      " 1 0 0 1 1 1 0 0 1 0 0 1 1 0 1 1 0 1 0 0 1 0 0 0 0 0 0 1 1 1 0 1 1 1 1 0 1\n",
      " 0 1 1 1 1 1 0 1 1 0 0 1 1 1 1 0 0 1 0 0 0 0 0 0 1 0 1 0 0 1 0 0 0 0 0 1 0\n",
      " 0 1 1 0 0 0 0 0 0 1 1 0 0 1 1 0 0 1 0 1 1 1 0 0 0 1 1 1 0 0 0 0 0 0 1 1 0\n",
      " 0 0 0 1 1 0 0 1 0 0 1 0 0 0 0 0 1 1 0 0 0 0 0 1 1 0 1 1 1 0 1 1 1 1 0 1 1\n",
      " 0 1 1 1 1 1 0 0 0 1 0 1 0 1 1 0 0 1 0 0 0 1 1 0 0 0 0 0 1 0 1]\n"
     ]
    }
   ],
   "source": [
    "from sklearn.cluster import SpectralClustering\n",
    "\n",
    "# Building the clustering model\n",
    "spectral_model_rbf = SpectralClustering(n_clusters = 2, n_init=1, n_components=1, affinity='precomputed')\n",
    " \n",
    "# Training the model and Storing the predicted cluster labels\n",
    "labels_rbf = spectral_model_rbf.fit_predict(dist_matrix)\n",
    "print(labels_rbf)"
   ]
  },
  {
   "cell_type": "code",
   "execution_count": 24,
   "metadata": {},
   "outputs": [],
   "source": [
    "import networkx as nx\n",
    "\n",
    "# Create a graph\n",
    "G = nx.Graph()\n",
    "for i, weight in enumerate(graph.x):\n",
    "    G.add_node(i, weight=weight)\n",
    "\n",
    "# Add edges with attributes\n",
    "for (i, j), attr in zip(graph.edge_index.T, graph.edge_attr):\n",
    "    G.add_edge(i, j, weight=attr)\n"
   ]
  },
  {
   "cell_type": "code",
   "execution_count": 27,
   "metadata": {},
   "outputs": [
    {
     "name": "stderr",
     "output_type": "stream",
     "text": [
      "/home/duser/venv/lib/python3.9/site-packages/numpy/core/fromnumeric.py:3187: FutureWarning: The input object of type 'Tensor' is an array-like implementing one of the corresponding protocols (`__array__`, `__array_interface__` or `__array_struct__`); but not a sequence (or 0-D). In the future, this object will be coerced as if it was first converted using `np.array(obj)`. To retain the old behaviour, you have to either modify the type 'Tensor', or assign to an empty array created with `np.empty(correct_shape, dtype=object)`.\n",
      "  return asarray(a).ndim\n"
     ]
    },
    {
     "ename": "ValueError",
     "evalue": "setting an array element with a sequence. The requested array has an inhomogeneous shape after 1 dimensions. The detected shape was (261632,) + inhomogeneous part.",
     "output_type": "error",
     "traceback": [
      "\u001b[0;31m---------------------------------------------------------------------------\u001b[0m",
      "\u001b[0;31mAttributeError\u001b[0m                            Traceback (most recent call last)",
      "File \u001b[0;32m~/venv/lib/python3.9/site-packages/numpy/core/fromnumeric.py:3185\u001b[0m, in \u001b[0;36mndim\u001b[0;34m(a)\u001b[0m\n\u001b[1;32m   3184\u001b[0m \u001b[39mtry\u001b[39;00m:\n\u001b[0;32m-> 3185\u001b[0m     \u001b[39mreturn\u001b[39;00m a\u001b[39m.\u001b[39;49mndim\n\u001b[1;32m   3186\u001b[0m \u001b[39mexcept\u001b[39;00m \u001b[39mAttributeError\u001b[39;00m:\n",
      "\u001b[0;31mAttributeError\u001b[0m: 'tuple' object has no attribute 'ndim'",
      "\nDuring handling of the above exception, another exception occurred:\n",
      "\u001b[0;31mValueError\u001b[0m                                Traceback (most recent call last)",
      "\u001b[1;32m/home/duser/masters_project/notebooks/spectral_clustering.ipynb Cell 10\u001b[0m line \u001b[0;36m1\n\u001b[0;32m----> <a href='vscode-notebook-cell://attached-container%2B7b22636f6e7461696e65724e616d65223a222f6c616265656261685f677075222c2273657474696e6773223a7b22686f7374223a227373683a2f2f666c6169722d6e6f64652d30312e726f626f74732e6f782e61632e756b227d7d/home/duser/masters_project/notebooks/spectral_clustering.ipynb#X12sdnNjb2RlLXJlbW90ZQ%3D%3D?line=0'>1</a>\u001b[0m adjacency_matrix \u001b[39m=\u001b[39m nx\u001b[39m.\u001b[39;49madjacency_matrix(G, weight\u001b[39m=\u001b[39;49m\u001b[39m'\u001b[39;49m\u001b[39mweight\u001b[39;49m\u001b[39m'\u001b[39;49m)\u001b[39m.\u001b[39mtoarray()\n",
      "File \u001b[0;32m~/venv/lib/python3.9/site-packages/networkx/linalg/graphmatrix.py:157\u001b[0m, in \u001b[0;36madjacency_matrix\u001b[0;34m(G, nodelist, dtype, weight)\u001b[0m\n\u001b[1;32m     99\u001b[0m \u001b[39mdef\u001b[39;00m \u001b[39madjacency_matrix\u001b[39m(G, nodelist\u001b[39m=\u001b[39m\u001b[39mNone\u001b[39;00m, dtype\u001b[39m=\u001b[39m\u001b[39mNone\u001b[39;00m, weight\u001b[39m=\u001b[39m\u001b[39m\"\u001b[39m\u001b[39mweight\u001b[39m\u001b[39m\"\u001b[39m):\n\u001b[1;32m    100\u001b[0m \u001b[39m    \u001b[39m\u001b[39m\"\"\"Returns adjacency matrix of G.\u001b[39;00m\n\u001b[1;32m    101\u001b[0m \n\u001b[1;32m    102\u001b[0m \u001b[39m    Parameters\u001b[39;00m\n\u001b[0;32m   (...)\u001b[0m\n\u001b[1;32m    155\u001b[0m \u001b[39m    adjacency_spectrum\u001b[39;00m\n\u001b[1;32m    156\u001b[0m \u001b[39m    \"\"\"\u001b[39;00m\n\u001b[0;32m--> 157\u001b[0m     \u001b[39mreturn\u001b[39;00m nx\u001b[39m.\u001b[39;49mto_scipy_sparse_array(G, nodelist\u001b[39m=\u001b[39;49mnodelist, dtype\u001b[39m=\u001b[39;49mdtype, weight\u001b[39m=\u001b[39;49mweight)\n",
      "File \u001b[0;32m~/venv/lib/python3.9/site-packages/networkx/convert_matrix.py:593\u001b[0m, in \u001b[0;36mto_scipy_sparse_array\u001b[0;34m(G, nodelist, dtype, weight, format)\u001b[0m\n\u001b[1;32m    591\u001b[0m         r \u001b[39m+\u001b[39m\u001b[39m=\u001b[39m diag_index\n\u001b[1;32m    592\u001b[0m         c \u001b[39m+\u001b[39m\u001b[39m=\u001b[39m diag_index\n\u001b[0;32m--> 593\u001b[0m     A \u001b[39m=\u001b[39m sp\u001b[39m.\u001b[39;49msparse\u001b[39m.\u001b[39;49mcoo_array((d, (r, c)), shape\u001b[39m=\u001b[39;49m(nlen, nlen), dtype\u001b[39m=\u001b[39;49mdtype)\n\u001b[1;32m    594\u001b[0m \u001b[39mtry\u001b[39;00m:\n\u001b[1;32m    595\u001b[0m     \u001b[39mreturn\u001b[39;00m A\u001b[39m.\u001b[39masformat(\u001b[39mformat\u001b[39m)\n",
      "File \u001b[0;32m~/venv/lib/python3.9/site-packages/scipy/sparse/_coo.py:136\u001b[0m, in \u001b[0;36m_coo_base.__init__\u001b[0;34m(self, arg1, shape, dtype, copy)\u001b[0m\n\u001b[1;32m    133\u001b[0m _data_matrix\u001b[39m.\u001b[39m\u001b[39m__init__\u001b[39m(\u001b[39mself\u001b[39m)\n\u001b[1;32m    135\u001b[0m \u001b[39mif\u001b[39;00m \u001b[39misinstance\u001b[39m(arg1, \u001b[39mtuple\u001b[39m):\n\u001b[0;32m--> 136\u001b[0m     \u001b[39mif\u001b[39;00m isshape(arg1):\n\u001b[1;32m    137\u001b[0m         M, N \u001b[39m=\u001b[39m arg1\n\u001b[1;32m    138\u001b[0m         \u001b[39mself\u001b[39m\u001b[39m.\u001b[39m_shape \u001b[39m=\u001b[39m check_shape((M, N))\n",
      "File \u001b[0;32m~/venv/lib/python3.9/site-packages/scipy/sparse/_sputils.py:248\u001b[0m, in \u001b[0;36misshape\u001b[0;34m(x, nonneg, allow_ndim)\u001b[0m\n\u001b[1;32m    246\u001b[0m     \u001b[39mreturn\u001b[39;00m \u001b[39mFalse\u001b[39;00m\n\u001b[1;32m    247\u001b[0m \u001b[39mfor\u001b[39;00m d \u001b[39min\u001b[39;00m x:\n\u001b[0;32m--> 248\u001b[0m     \u001b[39mif\u001b[39;00m \u001b[39mnot\u001b[39;00m isintlike(d):\n\u001b[1;32m    249\u001b[0m         \u001b[39mreturn\u001b[39;00m \u001b[39mFalse\u001b[39;00m\n\u001b[1;32m    250\u001b[0m     \u001b[39mif\u001b[39;00m nonneg \u001b[39mand\u001b[39;00m d \u001b[39m<\u001b[39m \u001b[39m0\u001b[39m:\n",
      "File \u001b[0;32m~/venv/lib/python3.9/site-packages/scipy/sparse/_sputils.py:222\u001b[0m, in \u001b[0;36misintlike\u001b[0;34m(x)\u001b[0m\n\u001b[1;32m    217\u001b[0m \u001b[39m\u001b[39m\u001b[39m\"\"\"Is x appropriate as an index into a sparse matrix? Returns True\u001b[39;00m\n\u001b[1;32m    218\u001b[0m \u001b[39mif it can be cast safely to a machine int.\u001b[39;00m\n\u001b[1;32m    219\u001b[0m \u001b[39m\"\"\"\u001b[39;00m\n\u001b[1;32m    220\u001b[0m \u001b[39m# Fast-path check to eliminate non-scalar values. operator.index would\u001b[39;00m\n\u001b[1;32m    221\u001b[0m \u001b[39m# catch this case too, but the exception catching is slow.\u001b[39;00m\n\u001b[0;32m--> 222\u001b[0m \u001b[39mif\u001b[39;00m np\u001b[39m.\u001b[39;49mndim(x) \u001b[39m!=\u001b[39m \u001b[39m0\u001b[39m:\n\u001b[1;32m    223\u001b[0m     \u001b[39mreturn\u001b[39;00m \u001b[39mFalse\u001b[39;00m\n\u001b[1;32m    224\u001b[0m \u001b[39mtry\u001b[39;00m:\n",
      "File \u001b[0;32m<__array_function__ internals>:200\u001b[0m, in \u001b[0;36mndim\u001b[0;34m(*args, **kwargs)\u001b[0m\n",
      "File \u001b[0;32m~/venv/lib/python3.9/site-packages/numpy/core/fromnumeric.py:3187\u001b[0m, in \u001b[0;36mndim\u001b[0;34m(a)\u001b[0m\n\u001b[1;32m   3185\u001b[0m     \u001b[39mreturn\u001b[39;00m a\u001b[39m.\u001b[39mndim\n\u001b[1;32m   3186\u001b[0m \u001b[39mexcept\u001b[39;00m \u001b[39mAttributeError\u001b[39;00m:\n\u001b[0;32m-> 3187\u001b[0m     \u001b[39mreturn\u001b[39;00m asarray(a)\u001b[39m.\u001b[39mndim\n",
      "\u001b[0;31mValueError\u001b[0m: setting an array element with a sequence. The requested array has an inhomogeneous shape after 1 dimensions. The detected shape was (261632,) + inhomogeneous part."
     ]
    }
   ],
   "source": [
    "adjacency_matrix = nx.adjacency_matrix(G, weight='weight').toarray()"
   ]
  }
 ],
 "metadata": {
  "kernelspec": {
   "display_name": "venv",
   "language": "python",
   "name": "python3"
  },
  "language_info": {
   "codemirror_mode": {
    "name": "ipython",
    "version": 3
   },
   "file_extension": ".py",
   "mimetype": "text/x-python",
   "name": "python",
   "nbconvert_exporter": "python",
   "pygments_lexer": "ipython3",
   "version": "3.9.17"
  }
 },
 "nbformat": 4,
 "nbformat_minor": 2
}
