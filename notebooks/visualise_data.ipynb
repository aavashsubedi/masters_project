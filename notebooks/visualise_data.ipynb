{
 "cells": [
  {
   "cell_type": "code",
   "execution_count": null,
   "metadata": {},
   "outputs": [
    {
     "ename": "",
     "evalue": "",
     "output_type": "error",
     "traceback": [
      "\u001b[1;31mThe kernel failed to start due to the missing module '_sqlite3'. Consider installing this module.\n",
      "\u001b[1;31mClick <a href='https://aka.ms/kernelFailuresMissingModule'>here</a> for more info."
     ]
    }
   ],
   "source": [
    "import os\n",
    "import matplotlib.pyplot as plt\n",
    "import numpy as np"
   ]
  },
  {
   "cell_type": "code",
   "execution_count": null,
   "metadata": {},
   "outputs": [
    {
     "ename": "",
     "evalue": "",
     "output_type": "error",
     "traceback": [
      "\u001b[1;31mThe kernel failed to start due to the missing module '_sqlite3'. Consider installing this module.\n",
      "\u001b[1;31mClick <a href='https://aka.ms/kernelFailuresMissingModule'>here</a> for more info."
     ]
    }
   ],
   "source": [
    "data_dir = \"/workspaces/masters_project/data/warcraft_shortest_path_oneskin/12x12/\"\n",
    "data_suffix = \"maps\"\n",
    "train_prefix = \"train\"\n",
    "\n",
    "\n",
    "train_inputs = np.load(os.path.join(data_dir, train_prefix + \"_\" + data_suffix + \".npy\"))\n",
    "train_weights = np.load(os.path.join(data_dir, train_prefix + \"_vertex_weights.npy\"))\n",
    "train_labels = np.load(os.path.join(data_dir, train_prefix + \"_shortest_paths.npy\"))\n",
    "\n",
    "#images = train_inputs.transpose(0,2,3,1).astype(np.uint8)\n",
    "images = train_inputs\n",
    "\n",
    "print(\"Train images shape: \", train_inputs.shape)\n",
    "print(\"Train labels shape: \",  train_labels.shape)\n",
    "print(\"Weights shape:\", train_weights.shape)\n",
    "\n",
    "idx = 44\n",
    "im = images[idx]\n",
    "label = train_labels[idx]\n",
    "weights = train_weights[idx]\n",
    "\n",
    "\n",
    "fig, ax = plt.subplots(1,3, figsize=(12,12))\n",
    "\n",
    "ax[0].imshow(im.astype(np.uint8))\n",
    "ax[0].set_title(\"Map\")\n",
    "ax[1].imshow(label)\n",
    "ax[1].set_title(\"Shortest path\")\n",
    "ax[2].set_title(\"Vertex weights\")\n",
    "ax[2].imshow(weights.astype(np.float32))"
   ]
  },
  {
   "cell_type": "code",
   "execution_count": null,
   "metadata": {},
   "outputs": [
    {
     "ename": "",
     "evalue": "",
     "output_type": "error",
     "traceback": [
      "\u001b[1;31mThe kernel failed to start due to the missing module '_sqlite3'. Consider installing this module.\n",
      "\u001b[1;31mClick <a href='https://aka.ms/kernelFailuresMissingModule'>here</a> for more info."
     ]
    }
   ],
   "source": [
    "train_labels[0]"
   ]
  },
  {
   "cell_type": "code",
   "execution_count": null,
   "metadata": {},
   "outputs": [],
   "source": []
  }
 ],
 "metadata": {
  "kernelspec": {
   "display_name": "Python 3",
   "language": "python",
   "name": "python3"
  },
  "language_info": {
   "codemirror_mode": {
    "name": "ipython",
    "version": 3
   },
   "file_extension": ".py",
   "mimetype": "text/x-python",
   "name": "python",
   "nbconvert_exporter": "python",
   "pygments_lexer": "ipython3",
   "version": "3.9.6"
  },
  "orig_nbformat": 4
 },
 "nbformat": 4,
 "nbformat_minor": 2
}
