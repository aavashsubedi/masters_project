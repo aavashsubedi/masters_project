{
 "cells": [
  {
   "cell_type": "code",
   "execution_count": 24,
   "metadata": {},
   "outputs": [],
   "source": [
    "import numpy as np\n",
    "import matplotlib.pyplot as plt\n",
    "import pandas as pd\n",
    "import networkx as nx\n",
    "import torch\n",
    "import torch_geometric as pyg\n",
    "import torch.nn.functional as F"
   ]
  },
  {
   "cell_type": "code",
   "execution_count": 25,
   "metadata": {},
   "outputs": [],
   "source": [
    "ska_data_file = \"/workspaces/masters_project/data/ska/raw_dataset.txt\"\n",
    "#load the file into a numpy array\n",
    "df = pd.read_csv(ska_data_file, sep=\" \", header=None)\n",
    "#convert the pandas dataframe to a numpy array\n",
    "data = df.to_numpy()\n"
   ]
  },
  {
   "cell_type": "code",
   "execution_count": 26,
   "metadata": {},
   "outputs": [],
   "source": [
    "#create a square matrix corresponding to the number of nodes and fill it with the euclidean distance between each point. \n",
    "#the last two element of each row is the x and y coordinate of the point\n",
    "n = len(data)\n",
    "dist_matrix = np.zeros((n,n))\n",
    "for i in range(n):\n",
    "    for j in range(n):\n",
    "        x_i, y_i = data[i][-2], data[i][-1]\n",
    "        x_j, y_j = data[j][-2], data[j][-1]\n",
    "        euclidean_distance = (x_i - x_j)**2 + (y_i - y_j)**2\n",
    "        euclidean_distance = euclidean_distance**0.5\n",
    "        dist_matrix[i][j] = euclidean_distance\n",
    "dist_matrix = torch.tensor(dist_matrix)"
   ]
  },
  {
   "cell_type": "code",
   "execution_count": 27,
   "metadata": {},
   "outputs": [
    {
     "data": {
      "text/plain": [
       "Data(x=[512], edge_index=[2, 130816], pos=[512, 2], edge_attr=[130816, 1])"
      ]
     },
     "execution_count": 27,
     "metadata": {},
     "output_type": "execute_result"
    }
   ],
   "source": [
    "dist_matrix.shape\n",
    "graph = torch.load(\"/workspaces/masters_project/data/graph_dataset.pt\")\n",
    "graph\n"
   ]
  },
  {
   "cell_type": "code",
   "execution_count": 28,
   "metadata": {},
   "outputs": [
    {
     "data": {
      "text/plain": [
       "torch.Size([512])"
      ]
     },
     "execution_count": 28,
     "metadata": {},
     "output_type": "execute_result"
    }
   ],
   "source": [
    "graph.x.shape"
   ]
  },
  {
   "cell_type": "code",
   "execution_count": 29,
   "metadata": {},
   "outputs": [
    {
     "data": {
      "text/plain": [
       "tensor([[0.0000, 0.0033, 0.0011,  ..., 0.3451, 0.3455, 0.3455],\n",
       "        [0.0033, 0.0000, 0.0022,  ..., 0.3421, 0.3424, 0.3425],\n",
       "        [0.0011, 0.0022, 0.0000,  ..., 0.3440, 0.3443, 0.3444],\n",
       "        ...,\n",
       "        [0.3451, 0.3421, 0.3440,  ..., 0.0000, 0.0009, 0.0006],\n",
       "        [0.3455, 0.3424, 0.3443,  ..., 0.0009, 0.0000, 0.0005],\n",
       "        [0.3455, 0.3425, 0.3444,  ..., 0.0006, 0.0005, 0.0000]],\n",
       "       dtype=torch.float64)"
      ]
     },
     "execution_count": 29,
     "metadata": {},
     "output_type": "execute_result"
    }
   ],
   "source": [
    "dist_matrix"
   ]
  },
  {
   "cell_type": "code",
   "execution_count": 30,
   "metadata": {},
   "outputs": [],
   "source": [
    "from sklearn.cluster import SpectralClustering, spectral_clustering"
   ]
  },
  {
   "cell_type": "code",
   "execution_count": 31,
   "metadata": {},
   "outputs": [],
   "source": [
    "def k_means(data, num_clusters, max_iters=100):\n",
    "    \"\"\"For data we'll use eigenvalues of the Laplacian of a graph\"\"\"\n",
    "    centroids = data[:num_clusters, :]\n",
    "    for _ in range(max_iters):\n",
    "        distances = torch.cdist(data, centroids, p=2)\n",
    "        cluster_assignments = torch.argmin(distances, dim=1)\n",
    "        new_centroids = torch.stack([data[cluster_assignments == i].mean(0) for i in range(num_clusters)])\n",
    "        if torch.equal(new_centroids, centroids):\n",
    "            break\n",
    "        centroids = new_centroids\n",
    "        \n",
    "    return centroids, cluster_assignments\n",
    "def spectral_clustering_labeebs(adjacency_matrix, num_clusters=2):\n",
    "    # Laplacian:\n",
    "    degree_matrix = torch.diag(torch.sum(adjacency_matrix, dim=1))\n",
    "    laplacian_matrix = degree_matrix - adjacency_matrix\n",
    "\n",
    "    # Eigenvalue Decomposition\n",
    "    eigenvalues, eigenvectors = torch.linalg.eigh(laplacian_matrix)\n",
    "    eigenvectors = eigenvectors[:, 1:num_clusters+1]  # Use the first num_clusters eigenvectors\n",
    "    eigenvectors = F.normalize(eigenvectors, p=2, dim=1)\n",
    "\n",
    "    # K-Means for clustering\n",
    "    centroids, cluster_assignments = k_means(eigenvectors, num_clusters)\n",
    "\n",
    "    return cluster_assignments"
   ]
  },
  {
   "cell_type": "code",
   "execution_count": 32,
   "metadata": {},
   "outputs": [],
   "source": [
    "\n",
    "def extract_edges(data, node_id):\n",
    "    \"\"\"\n",
    "    Extracts the edges from a graph and returns a list of edges\n",
    "    \"\"\"\n",
    "    #get the edges\n",
    "    subset = torch.tensor(node_id)\n",
    "    \n",
    "    edge_index, edge_attr  = pyg.utils.subgraph(subset=torch.tensor(node_id),\n",
    "                                                 edge_index=data.edge_index, edge_attr=data.edge_attr)\n",
    "    subg_data = data.x[torch.tensor(node_id)]\n",
    "    subgraph = pyg.data.Data(x = subg_data , edge_index=edge_index, edge_attr=edge_attr)\n",
    "\n",
    "    return subgraph\n",
    "\n"
   ]
  },
  {
   "cell_type": "code",
   "execution_count": null,
   "metadata": {},
   "outputs": [],
   "source": []
  },
  {
   "cell_type": "code",
   "execution_count": 33,
   "metadata": {},
   "outputs": [],
   "source": [
    "# cluster_classification = spectral_clustering(dist_matrix,\n",
    "#                                               n_clusters=2, assign_labels=\"cluster_qr\", random_state=0)\n",
    "cluster_classifcation = spectral_clustering_labeebs(dist_matrix, num_clusters=2)\n",
    "\n",
    "#nodes in cluster 1\n",
    "cluster_1 = np.where(cluster_classifcation == 0)[0]\n",
    "#nodes in cluster 2\n",
    "cluster_2 = np.where(cluster_classifcation == 1)[0]\n",
    "\n",
    "\n",
    "subgraph_1 = extract_edges(graph, cluster_1)\n",
    "subgraph_2 = extract_edges(graph, cluster_2)\n",
    "edges_length_1 = subgraph_1.edge_attr.numpy()\n",
    "edges_length_2 = subgraph_2.edge_attr.numpy()\n"
   ]
  },
  {
   "cell_type": "code",
   "execution_count": 34,
   "metadata": {},
   "outputs": [
    {
     "data": {
      "text/plain": [
       "tensor([1, 1, 0, 1, 0, 1, 1, 1, 1, 1, 1, 1, 1, 1, 1, 1, 1, 0, 1, 1, 0, 0, 1, 1,\n",
       "        1, 1, 1, 1, 1, 1, 0, 1, 1, 0, 1, 1, 1, 1, 1, 1, 1, 0, 1, 1, 1, 1, 0, 1,\n",
       "        1, 0, 1, 1, 1, 0, 0, 1, 1, 1, 0, 0, 1, 1, 1, 1, 1, 1, 1, 1, 1, 1, 0, 0,\n",
       "        1, 1, 0, 0, 0, 1, 1, 1, 1, 1, 0, 1, 0, 1, 1, 1, 1, 1, 1, 1, 1, 0, 1, 1,\n",
       "        1, 0, 1, 1, 1, 1, 0, 1, 1, 1, 0, 1, 1, 1, 1, 1, 1, 1, 1, 1, 0, 1, 0, 0,\n",
       "        1, 1, 0, 0, 1, 0, 1, 1, 1, 1, 0, 0, 0, 1, 1, 0, 1, 1, 1, 1, 0, 1, 0, 0,\n",
       "        0, 1, 0, 1, 0, 0, 1, 1, 0, 1, 1, 1, 1, 1, 0, 1, 1, 1, 0, 0, 0, 1, 1, 1,\n",
       "        0, 1, 0, 1, 1, 0, 1, 1, 1, 1, 1, 0, 0, 1, 0, 1, 1, 1, 0, 0, 0, 0, 1, 1,\n",
       "        1, 1, 1, 0, 1, 0, 1, 0, 1, 1, 1, 1, 1, 1, 1, 1, 1, 1, 1, 1, 1, 1, 1, 1,\n",
       "        1, 1, 0, 0, 0, 0, 0, 0, 1, 1, 1, 1, 1, 1, 1, 1, 1, 1, 1, 1, 1, 1, 1, 1,\n",
       "        1, 1, 1, 1, 1, 1, 1, 1, 1, 1, 1, 1, 1, 1, 1, 1, 1, 1, 1, 1, 0, 0, 0, 0,\n",
       "        0, 0, 0, 0, 0, 0, 0, 0, 0, 0, 0, 0, 0, 0, 0, 0, 0, 0, 0, 0, 0, 0, 0, 0,\n",
       "        0, 0, 1, 1, 1, 1, 1, 1, 1, 1, 1, 1, 1, 1, 0, 0, 0, 0, 0, 0, 0, 0, 0, 0,\n",
       "        0, 0, 0, 0, 0, 0, 0, 0, 0, 0, 0, 0, 0, 0, 1, 1, 1, 1, 1, 1, 1, 1, 1, 1,\n",
       "        1, 1, 1, 1, 1, 1, 1, 1, 1, 1, 1, 1, 1, 1, 1, 1, 1, 1, 1, 1, 0, 0, 0, 0,\n",
       "        0, 0, 0, 0, 0, 0, 0, 0, 0, 0, 0, 0, 0, 0, 1, 1, 1, 1, 1, 1, 1, 1, 1, 1,\n",
       "        1, 1, 0, 0, 0, 0, 0, 0, 0, 0, 0, 0, 0, 0, 0, 0, 0, 0, 0, 0, 0, 0, 0, 0,\n",
       "        0, 0, 0, 0, 0, 0, 0, 0, 0, 0, 0, 0, 0, 0, 0, 0, 0, 0, 0, 0, 1, 1, 1, 1,\n",
       "        1, 1, 1, 1, 1, 1, 1, 1, 1, 1, 1, 1, 1, 1, 1, 1, 1, 1, 1, 1, 1, 1, 1, 1,\n",
       "        1, 1, 1, 1, 1, 1, 1, 1, 1, 1, 1, 1, 1, 1, 1, 1, 1, 1, 1, 1, 0, 0, 0, 0,\n",
       "        0, 0, 1, 1, 1, 1, 1, 1, 1, 1, 1, 1, 1, 1, 1, 1, 1, 1, 1, 1, 1, 1, 1, 1,\n",
       "        1, 1, 1, 1, 1, 1, 1, 1])"
      ]
     },
     "execution_count": 34,
     "metadata": {},
     "output_type": "execute_result"
    }
   ],
   "source": [
    "cluster_classifcation"
   ]
  },
  {
   "cell_type": "code",
   "execution_count": 35,
   "metadata": {},
   "outputs": [
    {
     "data": {
      "text/plain": [
       "((186,), (326,))"
      ]
     },
     "execution_count": 35,
     "metadata": {},
     "output_type": "execute_result"
    }
   ],
   "source": [
    "cluster_1.shape, cluster_2.shape"
   ]
  },
  {
   "cell_type": "code",
   "execution_count": 36,
   "metadata": {},
   "outputs": [
    {
     "data": {
      "text/plain": [
       "<matplotlib.legend.Legend at 0x7fd2f9613d90>"
      ]
     },
     "execution_count": 36,
     "metadata": {},
     "output_type": "execute_result"
    },
    {
     "data": {
      "image/png": "[encoded data removed]",
      "text/plain": [
       "<Figure size 640x480 with 1 Axes>"
      ]
     },
     "metadata": {},
     "output_type": "display_data"
    }
   ],
   "source": [
    "#plot the two edges\n",
    "hist1, bins1 = np.histogram(edges_length_1, bins=20, density=True)\n",
    "hist2, bins2 = np.histogram(edges_length_2, bins=20, density=True)\n",
    "\n",
    "# Normalize the histograms\n",
    "hist1 /= hist1.sum()\n",
    "hist2 /= hist2.sum()\n",
    "\n",
    "# Calculate the bin centers\n",
    "bin_centers1 = (bins1[:-1] + bins1[1:]) / 2\n",
    "bin_centers2 = (bins2[:-1] + bins2[1:]) / 2\n",
    "\n",
    "# Plot the normalized histograms\n",
    "plt.bar(bin_centers1, hist1, width=(bin_centers1[1] - bin_centers1[0]), alpha=0.5, label='Dataset 1')\n",
    "plt.bar(bin_centers2, hist2, width=(bin_centers2[1] - bin_centers2[0]), alpha=0.5, label='Dataset 2')\n",
    "plt.xlabel(\"Edge Length\")\n",
    "plt.ylabel(\"Frequency\")\n",
    "\n",
    "plt.legend(loc='upper right')\n"
   ]
  },
  {
   "cell_type": "markdown",
   "metadata": {},
   "source": [
    "Training a ML model for it"
   ]
  },
  {
   "cell_type": "markdown",
   "metadata": {},
   "source": [
    "First thing: Use the adjancey matrix + the x values of the graph to come up with something"
   ]
  },
  {
   "cell_type": "code",
   "execution_count": 37,
   "metadata": {},
   "outputs": [],
   "source": [
    "def multiply_adj(x_val, adjaceny_matrix):\n",
    "    \"\"\"\n",
    "    x_val goes from [0, 512] for the 512 nodes in the graph\n",
    "    adjaceny_matrix is the adjacency matrix of the graph\n",
    "    we want to multiply each element of ajacney matrix by x_val. \n",
    "    for two of them we do x_val_i * x_val_j * adjaceny_matrix[i][j]\n",
    "    \"\"\"\n",
    "    #get the number of nodes\n",
    "    n = len(adjaceny_matrix)\n",
    "    #create a matrix of zeros\n",
    "    new_matrix = np.zeros((n,n))\n",
    "    #loop through the matrix and multiply each element by x_val\n",
    "    for i in range(n):\n",
    "        for j in range(n):\n",
    "            new_matrix[i][j] = x_val[i] * x_val[j] * adjaceny_matrix[i][j]\n",
    "    return new_matrix"
   ]
  },
  {
   "cell_type": "markdown",
   "metadata": {},
   "source": [
    "Now we can pass this as input to the Spectral Classification"
   ]
  },
  {
   "cell_type": "code",
   "execution_count": 38,
   "metadata": {},
   "outputs": [],
   "source": [
    "multiply_adj_matrix = multiply_adj(graph.x, dist_matrix.numpy())"
   ]
  },
  {
   "cell_type": "code",
   "execution_count": 39,
   "metadata": {},
   "outputs": [
    {
     "data": {
      "text/plain": [
       "(512, 512)"
      ]
     },
     "execution_count": 39,
     "metadata": {},
     "output_type": "execute_result"
    }
   ],
   "source": [
    "multiply_adj_matrix.shape"
   ]
  },
  {
   "cell_type": "code",
   "execution_count": 40,
   "metadata": {},
   "outputs": [],
   "source": [
    "#now get clustering for this matrix\n",
    "cluster_classification = spectral_clustering_labeebs(torch.tensor(multiply_adj_matrix), num_clusters=2)\n"
   ]
  },
  {
   "cell_type": "code",
   "execution_count": 41,
   "metadata": {},
   "outputs": [],
   "source": [
    "class SpectralClusteringClass(torch.autograd.Function):\n",
    "    @staticmethod\n",
    "    def forward(ctx, input, num_clusters=2,\n",
    "                dist_matrix=dist_matrix):\n",
    "        ctx.num_clusters = 2\n",
    "        multiply_adj_matrix = multiply_adj(input, dist_matrix.numpy())\n",
    "        return spectral_clustering_labeebs(multiply_adj_matrix, num_clusters=2)\n",
    "\n",
    "    @staticmethod\n",
    "    def backward(ctx, grad_output):\n",
    "  \n",
    "        return grad_output, None, None"
   ]
  },
  {
   "cell_type": "code",
   "execution_count": 42,
   "metadata": {},
   "outputs": [],
   "source": [
    "class GradApproxGraph(torch.autograd.Function):\n",
    "    def __init__(self, model, input_data, lambda_val=20,\n",
    "                 example_input=None):\n",
    "        \"\"\"\n",
    "        input_data here is a graph with the correct edges. and setup.\n",
    "        Doing this will let us pass the model through the graph itself.\n",
    "        \"\"\"\n",
    "        self.input_data = input_data # graph\n",
    "        self.input = None\n",
    "        self.output = None\n",
    "        self.prev_input = example_input\n",
    "        self.curr_output = None\n",
    "        self.lambda_val = lambda_val\n",
    "        self.model = model\n",
    "        \n",
    "    @staticmethod\n",
    "    def forward(ctx, combinatorial_solver_output, x, graph_obj):\n",
    "        \"\"\"\n",
    "        Combinatorial solver output is [num_nodes, 1]\n",
    "        gnn_output is [num_nodes, 1]\n",
    "\n",
    "        \"\"\"\n",
    "        ctx.save_for_backward(combinatorial_solver_output, x) \n",
    "        ctx.graph = graph_obj # save_for_backward doesn't work for non-tensors\n",
    "        \n",
    "        return combinatorial_solver_output\n",
    "\n",
    "\n",
    "    @staticmethod\n",
    "    def backward(ctx, grad_input):\n",
    "        lambda_val = 20\n",
    "        combinatorial_solver_output, x = ctx.saved_tensors\n",
    "        graph = ctx.graph\n",
    "\n",
    "        perturbed_gnn_weights = x + torch.multiply(lambda_val, grad_input)\n",
    "        perturbed_gnn_output = SpectralClusteringClass.apply(perturbed_gnn_weights, graph)\n",
    "        new_grads = - (1 / lambda_val) * (combinatorial_solver_output - perturbed_gnn_output)\n",
    "        import copy\n",
    "        new_grads_2 = copy.deepcopy(new_grads)\n",
    "        new_grads_2.requires_grad_(True).unsqueeze_(-1)\n",
    "        \n",
    "        return new_grads, new_grads_2, None"
   ]
  },
  {
   "cell_type": "code",
   "execution_count": 44,
   "metadata": {},
   "outputs": [],
   "source": [
    "from torch_geometric.nn import GCNConv\n",
    "device = torch.device('cuda' if torch.cuda.is_available() else 'cpu')\n",
    "class WarCraftModel(torch.nn.Module):\n",
    "    def __init__(self, cfg, ):\n",
    "        super(WarCraftModel, self).__init__()\n",
    "        self.cfg = cfg\n",
    "        self.conv1 = GCNConv(1, 32)\n",
    "        self.conv2 = GCNConv(32, 32)\n",
    "        self.conv3 = GCNConv(32, 1)\n",
    "        self.bn1 = torch.nn.BatchNorm1d(32)\n",
    "        self.bn2 = torch.nn.BatchNorm1d(32)\n",
    "        self.bn3 = torch.nn.BatchNorm1d(32)\n",
    "\n",
    "        self.combinatorial_solver = SpectralClusteringClass.apply\n",
    "        self.grad_approx = GradApproxGraph.apply\n",
    "\n",
    "    def forward(self, data, embedding_output=False,\n",
    "                additional_feat=True):\n",
    "        x, edge_index, edge_attr = data.mean_color, data.edge_index, data.edge_attr\n",
    "        edge_index = edge_index.to(torch.long).to(device)\n",
    "        edge_attr = edge_attr.to(torch.float).to(device)\n",
    "        x = x.to(torch.float).to(device)\n",
    "        #import pdb; pdb.set_trace()\n",
    "        x = self.conv1(x, edge_index, edge_attr.float())\n",
    "        x = self.bn1(x)\n",
    "        x = torch.nn.ReLU()(x)\n",
    "        x = self.conv2(x, edge_index, edge_attr.float())\n",
    "        x = self.bn2(x)\n",
    "        x = torch.nn.ReLU()(x)\n",
    "        x = self.conv3(x, edge_index, edge_attr.float())\n",
    "        #x = global_max_pool(x, data.batch) # This might not work (issues with shape?)\n",
    "        #gradients have issues here. \n",
    "        #x.shape here is [123, 1]. so maybe we unsqueeze here\n",
    "\n",
    "        combinatorial_solver_output = self.combinatorial_solver(x, data)\n",
    "        x = self.grad_approx(combinatorial_solver_output, x, data)\n",
    "\n",
    "        return x \n"
   ]
  },
  {
   "cell_type": "code",
   "execution_count": 46,
   "metadata": {},
   "outputs": [],
   "source": [
    "model = WarCraftModel(None)\n",
    "model = model.to(device)"
   ]
  },
  {
   "cell_type": "markdown",
   "metadata": {},
   "source": [
    "Lets get some Loss"
   ]
  },
  {
   "cell_type": "markdown",
   "metadata": {},
   "source": [
    "Loss will be the \"clustering\" approximator and then we use this "
   ]
  },
  {
   "cell_type": "code",
   "execution_count": 47,
   "metadata": {},
   "outputs": [],
   "source": [
    "cluster_1 = np.where(cluster_classifcation == 0)[0]\n",
    "#nodes in cluster 2\n",
    "cluster_2 = np.where(cluster_classifcation == 1)[0]\n",
    "\n",
    "\n",
    "subgraph_1 = extract_edges(graph, cluster_1)\n",
    "subgraph_2 = extract_edges(graph, cluster_2)\n",
    "edges_length_1 = subgraph_1.edge_attr.numpy()\n",
    "edges_length_2 = subgraph_2.edge_attr.numpy()\n"
   ]
  },
  {
   "cell_type": "code",
   "execution_count": 50,
   "metadata": {},
   "outputs": [
    {
     "data": {
      "text/plain": [
       "(52975, 1)"
      ]
     },
     "execution_count": 50,
     "metadata": {},
     "output_type": "execute_result"
    }
   ],
   "source": [
    "edges_length_1.shape  #these two are both generated by the same graph\n",
    "edges_length_2.shape"
   ]
  },
  {
   "cell_type": "markdown",
   "metadata": {},
   "source": [
    "Problem now is to get a differentiable form of getting classification to meaningful edges.\n",
    "shape of classifcation = [n, 1] \n",
    "then we get a mask of \"edges\".\n",
    "then we get a histogram of edges etc\n"
   ]
  },
  {
   "cell_type": "code",
   "execution_count": 51,
   "metadata": {},
   "outputs": [
    {
     "ename": "TypeError",
     "evalue": "histogram() received an invalid combination of arguments - got (numpy.ndarray, density=bool, bins=int), but expected one of:\n * (Tensor input, Tensor bins, *, Tensor weight, bool density, tuple of Tensors out)\n * (Tensor input, int bins, *, tuple of floats range, Tensor weight, bool density, tuple of Tensors out)\n",
     "output_type": "error",
     "traceback": [
      "\u001b[0;31m---------------------------------------------------------------------------\u001b[0m",
      "\u001b[0;31mTypeError\u001b[0m                                 Traceback (most recent call last)",
      "\u001b[1;32m/workspaces/masters_project/notebooks/spectral_graph.ipynb Cell 30\u001b[0m line \u001b[0;36m1\n\u001b[0;32m----> <a href='vscode-notebook-cell://codespaces%2Bpotential-disco-5p4vv5jv4772jrq/workspaces/masters_project/notebooks/spectral_graph.ipynb#X42sdnNjb2RlLXJlbW90ZQ%3D%3D?line=0'>1</a>\u001b[0m dist_1 \u001b[39m=\u001b[39m torch\u001b[39m.\u001b[39;49mhistogram(edges_length_1, bins\u001b[39m=\u001b[39;49m\u001b[39m20\u001b[39;49m, density\u001b[39m=\u001b[39;49m\u001b[39mTrue\u001b[39;49;00m)\n\u001b[1;32m      <a href='vscode-notebook-cell://codespaces%2Bpotential-disco-5p4vv5jv4772jrq/workspaces/masters_project/notebooks/spectral_graph.ipynb#X42sdnNjb2RlLXJlbW90ZQ%3D%3D?line=1'>2</a>\u001b[0m dist_2 \u001b[39m=\u001b[39m torch\u001b[39m.\u001b[39mhistogram(edges_length_2, bins\u001b[39m=\u001b[39m\u001b[39m20\u001b[39m, density\u001b[39m=\u001b[39m\u001b[39mTrue\u001b[39;00m)\n",
      "\u001b[0;31mTypeError\u001b[0m: histogram() received an invalid combination of arguments - got (numpy.ndarray, density=bool, bins=int), but expected one of:\n * (Tensor input, Tensor bins, *, Tensor weight, bool density, tuple of Tensors out)\n * (Tensor input, int bins, *, tuple of floats range, Tensor weight, bool density, tuple of Tensors out)\n"
     ]
    }
   ],
   "source": [
    "dist_1 = torch.histogram(edges_length_1, bins=20, density=True)\n",
    "dist_2 = torch.histogram(edges_length_2, bins=20, density=True)\n"
   ]
  },
  {
   "cell_type": "code",
   "execution_count": null,
   "metadata": {},
   "outputs": [],
   "source": []
  }
 ],
 "metadata": {
  "kernelspec": {
   "display_name": "Python 3",
   "language": "python",
   "name": "python3"
  },
  "language_info": {
   "codemirror_mode": {
    "name": "ipython",
    "version": 3
   },
   "file_extension": ".py",
   "mimetype": "text/x-python",
   "name": "python",
   "nbconvert_exporter": "python",
   "pygments_lexer": "ipython3",
   "version": "3.10.8"
  }
 },
 "nbformat": 4,
 "nbformat_minor": 2
}
