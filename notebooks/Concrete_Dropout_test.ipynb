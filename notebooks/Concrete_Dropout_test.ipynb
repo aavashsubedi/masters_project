{
  "cells": [
    {
      "cell_type": "code",
      "execution_count": 1,
      "metadata": {
        "id": "NOpYSH8Zt8JB"
      },
      "outputs": [],
      "source": [
        "import numpy as np\n",
        "import matplotlib.pyplot as plt\n",
        "import torch\n",
        "from itertools import chain"
      ]
    },
    {
      "cell_type": "code",
      "execution_count": 2,
      "metadata": {
        "id": "qYfX7vguvB0S"
      },
      "outputs": [],
      "source": [
        "def CDr(grad_input, weight_regulariser=1e-5, dropout_regulariser=1e-3, eps=1e1,\n",
        "        tmp=0.1, comparison=None):\n",
        "  # Concrete Dropout interpolation\n",
        "  init_min, init_max = 0.1, 0.1\n",
        "  init_min = np.log(init_min) - np.log(1.0 - init_min)\n",
        "  init_max = np.log(init_max) - np.log(1.0 - init_max)\n",
        "\n",
        "  p_logit = (torch.empty(1).uniform_(init_min, init_max))\n",
        "  p = torch.sigmoid(p_logit)\n",
        "\n",
        "  u_noise = torch.rand_like(grad_input)\n",
        "\n",
        "  drop_prob = (torch.log(p + eps) -\n",
        "                torch.log(1 - p + eps) +\n",
        "                torch.log(u_noise + eps) -\n",
        "                torch.log(1 - u_noise + eps))\n",
        "\n",
        "  drop_prob = torch.sigmoid(drop_prob / tmp)\n",
        "\n",
        "  random_tensor = 1 - drop_prob\n",
        "  retain_prob = 1 - p\n",
        "  new_grads = torch.mul(grad_input, random_tensor) / retain_prob\n",
        "\n",
        "  x1 = np.linspace(0, len(grad_input.numpy().flatten()),\n",
        "                   num=len(grad_input.numpy().flatten()))\n",
        "  x2 = np.linspace(0, len(new_grads.numpy().flatten()),\n",
        "                   num=len(new_grads.numpy().flatten()))\n",
        "\n",
        "  plt.step(x1, grad_input.numpy().flatten(), c='k', alpha=0.4)\n",
        "  plt.plot(x2, new_grads.numpy().flatten(), c='r', alpha=0.7)\n",
        "  if comparison != None:\n",
        "    plt.plot(x2, comparison.numpy().flatten(), '--', c='g', alpha=0.5)\n",
        "  plt.show()\n",
        "\n",
        "  return new_grads"
      ]
    },
    {
      "cell_type": "code",
      "execution_count": 12,
      "metadata": {
        "colab": {
          "base_uri": "https://localhost:8080/",
          "height": 589
        },
        "id": "ikjyOu37wtKy",
        "outputId": "112ee4fc-a090-43a0-8795-9fb179b80579"
      },
      "outputs": [
        {
          "data": {
            "image/png": "[encoded data removed]",
            "text/plain": [
              "<Figure size 640x480 with 1 Axes>"
            ]
          },
          "metadata": {},
          "output_type": "display_data"
        },
        {
          "data": {
            "text/plain": [
              "tensor([0.0000e+00, 0.0000e+00, 0.0000e+00, 0.0000e+00, 0.0000e+00, 1.1111e-02,\n",
              "        1.1111e-02, 1.1060e-02, 1.1111e-02, 1.1111e-02, 0.0000e+00, 0.0000e+00,\n",
              "        0.0000e+00, 0.0000e+00, 0.0000e+00, 8.7337e-05, 1.1058e-02, 1.0972e-02,\n",
              "        1.1111e-02, 1.1079e-02, 0.0000e+00, 0.0000e+00, 0.0000e+00, 0.0000e+00,\n",
              "        0.0000e+00, 1.1111e-02, 1.1111e-02, 1.1111e-02, 1.1111e-02, 1.1111e-02,\n",
              "        0.0000e+00, 0.0000e+00, 0.0000e+00, 0.0000e+00, 0.0000e+00, 1.1111e-02,\n",
              "        1.1111e-02, 1.1111e-02, 1.1111e-02, 1.1038e-02, 0.0000e+00, 0.0000e+00,\n",
              "        0.0000e+00, 0.0000e+00, 0.0000e+00, 1.1111e-02, 1.1111e-02, 1.1111e-02,\n",
              "        0.0000e+00, 1.1111e-02])"
            ]
          },
          "execution_count": 12,
          "metadata": {},
          "output_type": "execute_result"
        }
      ],
      "source": [
        "comp = torch.tensor([[-0.0000, -0.0000, -0.0000, -0.0000, -0.0000, -0.0000, -0.0000, -0.0000,\n",
        "         -0.0000, -0.0000, -0.0000, -0.0000],\n",
        "        [ 0.0500, -0.0500, -0.0000, -0.0000, -0.0000, -0.0000, -0.0000, -0.0000,\n",
        "         -0.0000, -0.0000, -0.0000, -0.0000],\n",
        "        [-0.0000,  0.0500, -0.0500, -0.0000, -0.0000, -0.0000, -0.0500, -0.0000,\n",
        "         -0.0000, -0.0000, -0.0000, -0.0000],\n",
        "        [-0.0000, -0.0000,  0.0500, -0.0500, -0.0000, -0.0500, -0.0000, -0.0500,\n",
        "         -0.0000, -0.0000, -0.0000, -0.0000],\n",
        "        [-0.0000, -0.0000, -0.0000,  0.0500, -0.0500, -0.0000, -0.0000, -0.0000,\n",
        "         -0.0500, -0.0000, -0.0000, -0.0000],\n",
        "        [-0.0000, -0.0000, -0.0000, -0.0000,  0.0500, -0.0000, -0.0000, -0.0000,\n",
        "         -0.0000, -0.0500, -0.0000, -0.0000],\n",
        "        [-0.0000, -0.0000, -0.0000, -0.0000, -0.0000,  0.0500, -0.0000, -0.0000,\n",
        "         -0.0000, -0.0000, -0.0500, -0.0000],\n",
        "        [-0.0000, -0.0000, -0.0000, -0.0000, -0.0000, -0.0000,  0.0500, -0.0000,\n",
        "         -0.0000, -0.0000, -0.0500, -0.0000],\n",
        "        [-0.0000, -0.0000, -0.0000, -0.0000, -0.0000, -0.0000, -0.0000,  0.0500,\n",
        "         -0.0000, -0.0000, -0.0500, -0.0000],\n",
        "        [-0.0000, -0.0000, -0.0000, -0.0000, -0.0000, -0.0000, -0.0000, -0.0000,\n",
        "          0.0500, -0.0000, -0.0500, -0.0000],\n",
        "        [-0.0000, -0.0000, -0.0000, -0.0000, -0.0000, -0.0000, -0.0000, -0.0000,\n",
        "         -0.0000,  0.0500, -0.0000, -0.0000],\n",
        "        [-0.0000, -0.0000, -0.0000, -0.0000, -0.0000, -0.0000, -0.0000, -0.0000,\n",
        "         -0.0000, -0.0000, -0.0000, -0.0000]])\n",
        "\n",
        "grad_input = torch.tensor([[-0.0000e+00, -0.0000e+00, -0.0000e+00, -0.0000e+00, -0.0000e+00,\n",
        "         -0.0000e+00, -0.0000e+00, -0.0000e+00, -0.0000e+00, -0.0000e+00,\n",
        "         -0.0000e+00, -0.0000e+00],\n",
        "        [-0.0000e+00, -0.0000e+00, -9.9206e-05, -9.9206e-05, -9.9206e-05,\n",
        "         -0.0000e+00, -0.0000e+00, -0.0000e+00, -0.0000e+00, -0.0000e+00,\n",
        "         -0.0000e+00, -0.0000e+00],\n",
        "        [-0.0000e+00, -0.0000e+00,  9.9206e-05, -0.0000e+00, -0.0000e+00,\n",
        "         -9.9206e-05,  9.9206e-05, -0.0000e+00, -0.0000e+00, -0.0000e+00,\n",
        "         -0.0000e+00, -0.0000e+00],\n",
        "        [-0.0000e+00, -0.0000e+00, -0.0000e+00,  9.9206e-05, -0.0000e+00,\n",
        "          9.9206e-05, -9.9206e-05,  9.9206e-05, -0.0000e+00, -0.0000e+00,\n",
        "         -0.0000e+00, -0.0000e+00],\n",
        "        [-0.0000e+00, -0.0000e+00, -0.0000e+00, -0.0000e+00,  9.9206e-05,\n",
        "         -0.0000e+00, -0.0000e+00, -9.9206e-05,  9.9206e-05, -0.0000e+00,\n",
        "         -0.0000e+00, -0.0000e+00],\n",
        "        [-0.0000e+00, -0.0000e+00, -0.0000e+00, -0.0000e+00, -0.0000e+00,\n",
        "         -0.0000e+00, -0.0000e+00, -0.0000e+00, -9.9206e-05,  9.9206e-05,\n",
        "         -0.0000e+00, -0.0000e+00],\n",
        "        [-0.0000e+00, -0.0000e+00, -0.0000e+00, -0.0000e+00, -0.0000e+00,\n",
        "         -0.0000e+00, -0.0000e+00, -0.0000e+00, -0.0000e+00, -9.9206e-05,\n",
        "          9.9206e-05, -0.0000e+00],\n",
        "        [-0.0000e+00, -0.0000e+00, -0.0000e+00, -0.0000e+00, -0.0000e+00,\n",
        "         -0.0000e+00, -0.0000e+00, -0.0000e+00, -0.0000e+00, -0.0000e+00,\n",
        "         -0.0000e+00, -0.0000e+00],\n",
        "        [-0.0000e+00, -0.0000e+00, -0.0000e+00, -0.0000e+00, -0.0000e+00,\n",
        "         -0.0000e+00, -0.0000e+00, -0.0000e+00, -0.0000e+00, -0.0000e+00,\n",
        "          9.9206e-05, -9.9206e-05],\n",
        "        [-0.0000e+00, -0.0000e+00, -0.0000e+00, -0.0000e+00, -0.0000e+00,\n",
        "         -0.0000e+00, -0.0000e+00, -0.0000e+00, -0.0000e+00, -0.0000e+00,\n",
        "          9.9206e-05, -9.9206e-05],\n",
        "        [-0.0000e+00, -0.0000e+00, -0.0000e+00, -0.0000e+00, -0.0000e+00,\n",
        "         -0.0000e+00, -0.0000e+00, -0.0000e+00, -0.0000e+00, -0.0000e+00,\n",
        "          9.9206e-05, -9.9206e-05],\n",
        "        [-0.0000e+00, -0.0000e+00, -0.0000e+00, -0.0000e+00, -0.0000e+00,\n",
        "         -0.0000e+00, -0.0000e+00, -0.0000e+00, -0.0000e+00, -0.0000e+00,\n",
        "         -0.0000e+00, -0.0000e+00]])\n",
        "grad_input = torch.tensor([[0.]*5 + [0.01]*5] * 5).flatten()\n",
        "CDr(grad_input, weight_regulariser=1e-5, dropout_regulariser=1e9, eps=1e-9, tmp=1e-1)#, comparison=comp)"
      ]
    }
  ],
  "metadata": {
    "colab": {
      "provenance": []
    },
    "kernelspec": {
      "display_name": "Python 3",
      "name": "python3"
    },
    "language_info": {
      "codemirror_mode": {
        "name": "ipython",
        "version": 3
      },
      "file_extension": ".py",
      "mimetype": "text/x-python",
      "name": "python",
      "nbconvert_exporter": "python",
      "pygments_lexer": "ipython3",
      "version": "3.9.17"
    }
  },
  "nbformat": 4,
  "nbformat_minor": 0
}
