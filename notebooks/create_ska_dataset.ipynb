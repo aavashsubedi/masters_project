{
 "cells": [
  {
   "cell_type": "code",
   "execution_count": 1,
   "metadata": {},
   "outputs": [],
   "source": [
    "import networkx as nx\n",
    "import matplotlib.pyplot as plt\n",
    "import torch_geometric as pyg\n",
    "import torch"
   ]
  },
  {
   "cell_type": "code",
   "execution_count": 1,
   "metadata": {},
   "outputs": [
    {
     "ename": "TypeError",
     "evalue": "generate_dataset() missing 1 required positional argument: 'numpy_array'",
     "output_type": "error",
     "traceback": [
      "\u001b[0;31m---------------------------------------------------------------------------\u001b[0m",
      "\u001b[0;31mTypeError\u001b[0m                                 Traceback (most recent call last)",
      "Cell \u001b[0;32mIn[1], line 47\u001b[0m\n\u001b[1;32m     43\u001b[0m     data\u001b[38;5;241m.\u001b[39mname \u001b[38;5;241m=\u001b[39m names\n\u001b[1;32m     45\u001b[0m     \u001b[38;5;28;01mreturn\u001b[39;00m \u001b[38;5;241m0\u001b[39m\n\u001b[0;32m---> 47\u001b[0m \u001b[43mgenerate_dataset\u001b[49m\u001b[43m(\u001b[49m\u001b[43m)\u001b[49m\n",
      "\u001b[0;31mTypeError\u001b[0m: generate_dataset() missing 1 required positional argument: 'numpy_array'"
     ]
    }
   ],
   "source": [
    "import torch\n",
    "import pandas as pd\n",
    "import numpy as np\n",
    "import networkx as nx\n",
    "from torch_geometric.data import Data\n",
    "from torch_geometric.utils import from_scipy_sparse_matrix\n",
    "from  torch_geometric.transforms.distance import Distance \n",
    "\n",
    "\n",
    "def generate_dataset(numpy_array):\n",
    "    #load the dataseT\n",
    "    \n",
    "    names = numpy_array[:, 0]\n",
    "    #nodes = [f\"{row[1]}-{row[0]}\" for row in numpy_array]\n",
    "    nodes = [f\"{row[1]}\" for row in numpy_array]\n",
    "    edges = set()\n",
    "    \n",
    "    for i in range(len(nodes)):\n",
    "        for j in range(i + 1, len(nodes)):\n",
    "            if i != j:\n",
    "                edge = (i, j) if i < j else (j, i)  # Ensure a consistent order\n",
    "                edges.add(edge)\n",
    "    edge_index = torch.tensor(list(edges), dtype=torch.long).t().contiguous()\n",
    "    # pos = []\n",
    "    # for row in numpy_array:\n",
    "    #     import pdb; pdb.set_trace()\n",
    "    #     pos.append([row[-2], row[-1]])\n",
    "    \n",
    "    pos = torch.tensor([[row[-2], row[-1]] for row in numpy_array], dtype=torch.float)\n",
    "    \n",
    "\n",
    "\n",
    "    #edges = [(i, j) for i in range(len(nodes)) for j in range(len(nodes)) if i != j]\n",
    "    #edge_index = torch.tensor(edges, dtype=torch.long).t().contiguous()\n",
    "    #pos = torch.tensor([[row[2], row[3]] for row in numpy_array], dtype=torch.float)\n",
    "    #create a torch tesnor of the positions which is a random initialization betweem 0 and 1\n",
    "    x = torch.tensor(np.random.rand(len(nodes)), dtype=torch.float) \n",
    "    data = Data(x=x, edge_index=edge_index)\n",
    "    data.pos = pos\n",
    "    #now compute the edge length \n",
    "    data = Distance(norm=False)(data)\n",
    "    torch.save(data, \"/workspaces/masters_project/data/graph_dataset.pt\")\n",
    "    data.name = names\n",
    "    \n",
    "    return 0\n",
    "\n"
   ]
  },
  {
   "cell_type": "code",
   "execution_count": null,
   "metadata": {},
   "outputs": [],
   "source": []
  }
 ],
 "metadata": {
  "kernelspec": {
   "display_name": "Python 3",
   "language": "python",
   "name": "python3"
  },
  "language_info": {
   "codemirror_mode": {
    "name": "ipython",
    "version": 3
   },
   "file_extension": ".py",
   "mimetype": "text/x-python",
   "name": "python",
   "nbconvert_exporter": "python",
   "pygments_lexer": "ipython3",
   "version": "3.10.8"
  }
 },
 "nbformat": 4,
 "nbformat_minor": 2
}
