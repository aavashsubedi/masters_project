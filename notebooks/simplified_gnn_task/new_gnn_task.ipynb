{
 "cells": [
  {
   "cell_type": "code",
   "execution_count": 24,
   "metadata": {},
   "outputs": [],
   "source": [
    "import torch\n",
    "import torch_geometric as pyg\n",
    "import numpy as np\n",
    "import matplotlib.pyplot as plt"
   ]
  },
  {
   "cell_type": "markdown",
   "metadata": {},
   "source": [
    "First goal is to sample x, y from gaussian distrivution and treat these as cordinates of a node"
   ]
  },
  {
   "cell_type": "code",
   "execution_count": 25,
   "metadata": {},
   "outputs": [
    {
     "data": {
      "image/png": "[encoded data removed]",
      "text/plain": [
       "<Figure size 640x480 with 1 Axes>"
      ]
     },
     "metadata": {},
     "output_type": "display_data"
    }
   ],
   "source": [
    "#create an array of [1 - 100] and then a row of x and y values randomly generated\n",
    "np.random.seed(42)\n",
    "NUM = 100\n",
    "index_num = np.arange(0, NUM, 1)\n",
    "x = np.random.normal(0, 1, NUM)\n",
    "y = np.random.normal(0, 1, NUM)\n",
    "\n",
    "#plot the x and y values\n",
    "plt.scatter(x, y)\n",
    "plt.show()\n"
   ]
  },
  {
   "cell_type": "code",
   "execution_count": 26,
   "metadata": {},
   "outputs": [
    {
     "data": {
      "text/plain": [
       "<matplotlib.collections.PathCollection at 0x7fb4897e2650>"
      ]
     },
     "execution_count": 26,
     "metadata": {},
     "output_type": "execute_result"
    },
    {
     "data": {
      "image/png": "[encoded data removed]",
      "text/plain": [
       "<Figure size 640x480 with 1 Axes>"
      ]
     },
     "metadata": {},
     "output_type": "display_data"
    }
   ],
   "source": [
    "#lets use the beta distribution\n",
    "np.random.seed(42)\n",
    "NUM = 100\n",
    "index_num = np.arange(0, NUM, 1)\n",
    "x = np.random.beta(1, 2, NUM)\n",
    "y = np.random.beta(1, 0.5, NUM)\n",
    "\n",
    "#plot the x and y values\n",
    "plt.scatter(x, y)"
   ]
  },
  {
   "cell_type": "code",
   "execution_count": 27,
   "metadata": {},
   "outputs": [
    {
     "data": {
      "text/plain": [
       "array([ 0,  1,  2,  3,  4,  5,  6,  7,  8,  9, 10, 11, 12, 13, 14, 15, 16,\n",
       "       17, 18, 19, 20, 21, 22, 23, 24, 25, 26, 27, 28, 29, 30, 31, 32, 33,\n",
       "       34, 35, 36, 37, 38, 39, 40, 41, 42, 43, 44, 45, 46, 47, 48, 49, 50,\n",
       "       51, 52, 53, 54, 55, 56, 57, 58, 59, 60, 61, 62, 63, 64, 65, 66, 67,\n",
       "       68, 69, 70, 71, 72, 73, 74, 75, 76, 77, 78, 79, 80, 81, 82, 83, 84,\n",
       "       85, 86, 87, 88, 89, 90, 91, 92, 93, 94, 95, 96, 97, 98, 99])"
      ]
     },
     "execution_count": 27,
     "metadata": {},
     "output_type": "execute_result"
    }
   ],
   "source": [
    "index_num"
   ]
  },
  {
   "cell_type": "code",
   "execution_count": 28,
   "metadata": {},
   "outputs": [
    {
     "data": {
      "text/plain": [
       "(100, 3)"
      ]
     },
     "execution_count": 28,
     "metadata": {},
     "output_type": "execute_result"
    }
   ],
   "source": [
    "#create a numpy list of [name, x, y] for each point\n",
    "data = np.array([index_num, x, y]).T\n",
    "data.shape"
   ]
  },
  {
   "cell_type": "code",
   "execution_count": 29,
   "metadata": {},
   "outputs": [],
   "source": [
    "import torch\n",
    "import pandas as pd\n",
    "import numpy as np\n",
    "import networkx as nx\n",
    "from torch_geometric.data import Data\n",
    "from torch_geometric.utils import from_scipy_sparse_matrix\n",
    "from  torch_geometric.transforms.distance import Distance \n",
    "\n",
    "\n",
    "def generate_dataset(numpy_array):\n",
    "    #load the dataseT\n",
    "    \n",
    "    names = numpy_array[:, 0]\n",
    "    #nodes = [f\"{row[1]}-{row[0]}\" for row in numpy_array]\n",
    "    nodes = [f\"{row[1]}\" for row in numpy_array]\n",
    "    edges = set()\n",
    "    \n",
    "    for i in range(len(nodes)):\n",
    "        for j in range(i + 1, len(nodes)):\n",
    "            if i != j:\n",
    "                edge = (i, j) if i < j else (j, i)  # Ensure a consistent order\n",
    "                edges.add(edge)\n",
    "    edge_index = torch.tensor(list(edges), dtype=torch.long).t().contiguous()\n",
    "    \n",
    "    # pos = []\n",
    "    # for row in numpy_array:\n",
    "    #     import pdb; pdb.set_trace()\n",
    "    #     pos.append([row[-2], row[-1]])\n",
    "    \n",
    "    pos = torch.tensor([[row[-2], row[-1]] for row in numpy_array], dtype=torch.float)\n",
    "\n",
    "\n",
    "    #edges = [(i, j) for i in range(len(nodes)) for j in range(len(nodes)) if i != j]\n",
    "    #edge_index = torch.tensor(edges, dtype=torch.long).t().contiguous()\n",
    "    #pos = torch.tensor([[row[2], row[3]] for row in numpy_array], dtype=torch.float)\n",
    "    #create a torch tesnor of the positions which is a random initialization betweem 0 and 1\n",
    "    x = torch.tensor(np.random.rand(len(nodes)), dtype=torch.float) \n",
    "    data = Data(x=x, edge_index=edge_index)\n",
    "    data.pos = pos\n",
    "    #now compute the edge length \n",
    "    data = Distance(norm=False)(data)\n",
    "#    torch.save(data, \"/workspaces/masters_project/data/new_graph_dataset.pt\")\n",
    "    data.name = names\n",
    "    \n",
    "    return data\n",
    "\n",
    "data = generate_dataset(data)"
   ]
  },
  {
   "cell_type": "code",
   "execution_count": 22,
   "metadata": {},
   "outputs": [
    {
     "data": {
      "text/plain": [
       "Data(x=[100], edge_index=[2, 4950], pos=[100, 2], edge_attr=[4950, 1], name=[100])"
      ]
     },
     "execution_count": 22,
     "metadata": {},
     "output_type": "execute_result"
    }
   ],
   "source": [
    "data"
   ]
  },
  {
   "cell_type": "markdown",
   "metadata": {},
   "source": [
    "Now we got the dataset. Lets produce random subgraphs for them of size 50"
   ]
  },
  {
   "cell_type": "code",
   "execution_count": 30,
   "metadata": {},
   "outputs": [],
   "source": [
    "def seperate_graph(graph):\n",
    "    #obtain two subgraphs from the original graph\n",
    "    #generate random integers from 0 -> number of nodes. Typically 50% of the nodes\n",
    "    total_nodes_list = np.arange(0, len(graph.x), 1)\n",
    "    random_nodes = np.random.choice(total_nodes_list, size=len(total_nodes_list)//2, replace=False)\n",
    "    random_nodes = np.sort(random_nodes)\n",
    "    second_nodes = np.setdiff1d(total_nodes_list, random_nodes) #this just gives indices\n",
    "    second_nodes = np.sort(second_nodes)\n",
    "    #get the elements of the total_nodes_list that are not in random_nodes\n",
    "    \n",
    "    #create the subgraphs\n",
    "    #print(np.shape(random_nodes), np.shape(cleaned_nodes))\n",
    "    random_nodes = torch.tensor(random_nodes, dtype=torch.long)\n",
    "    second_nodes = torch.tensor(second_nodes, dtype=torch.long)\n",
    "    edge_index_1, edge_attr_1 = pyg.utils.subgraph(random_nodes,\n",
    "                                                    graph.edge_index, graph.edge_attr,\n",
    "                                                     )\n",
    "    \n",
    "    \n",
    "    edge_index_2, edge_attr_2 = pyg.utils.subgraph(second_nodes,\n",
    "                                                    graph.edge_index, graph.edge_attr,\n",
    "                                                     )\n",
    "    # #create the subgraph data\n",
    "    data_1 = Data(x=graph.x[random_nodes], edge_index=edge_index_1, edge_attr=edge_attr_1)\n",
    "    data_1.pos = graph.pos[random_nodes]\n",
    "    data_1.name = graph.name[random_nodes]\n",
    "    \n",
    "    data_2 = Data(x=graph.x[second_nodes], edge_index=edge_index_2, edge_attr=edge_attr_2)\n",
    "    data_2.pos = graph.pos[second_nodes]\n",
    "    data_2.name = graph.name[second_nodes]\n",
    "    data_1.original_graph = torch.zeros(len(graph.x), dtype=torch.long)\n",
    "    data_2.original_graph = torch.ones(len(graph.x), dtype=torch.long)\n",
    "    return data_1,data_2"
   ]
  },
  {
   "cell_type": "code",
   "execution_count": 39,
   "metadata": {},
   "outputs": [],
   "source": [
    "def seperate_graph_gnn(graph):\n",
    "    #obtain two subgraphs from the original graph\n",
    "    #generate random integers from 0 -> number of nodes. Typically 50% of the nodes\n",
    "    total_nodes_list = np.arange(0, len(graph.x), 1)\n",
    "    random_nodes = np.random.choice(total_nodes_list, size=len(total_nodes_list)//2, replace=False)\n",
    "    random_nodes = np.sort(random_nodes)\n",
    "    second_nodes = np.setdiff1d(total_nodes_list, random_nodes) #this just gives indices\n",
    "    second_nodes = np.sort(second_nodes)\n",
    "    #get the elements of the total_nodes_list that are not in random_nodes\n",
    "    \n",
    "    #create the subgraphs\n",
    "    #print(np.shape(random_nodes), np.shape(cleaned_nodes))\n",
    "    random_nodes = torch.tensor(random_nodes, dtype=torch.long)\n",
    "    second_nodes = torch.tensor(second_nodes, dtype=torch.long)\n",
    "    edge_index_1, edge_attr_1 = pyg.utils.subgraph(random_nodes,\n",
    "                                                    graph.edge_index, graph.edge_attr,\n",
    "                                                     relabel_nodes=True)\n",
    "    if (edge_index_1.max() > len(random_nodes)) or (edge_index_1.min() < 0):\n",
    "        print(\"error\")\n",
    "    edge_index_2, edge_attr_2 = pyg.utils.subgraph(second_nodes,\n",
    "                                                    graph.edge_index, graph.edge_attr,\n",
    "                                                    relabel_nodes=True )\n",
    "    if (edge_index_2.max() > len(second_nodes)) or (edge_index_2.min() < 0):\n",
    "        print(\"error with 1\")\n",
    "    # #create the subgraph data\n",
    "    data_1 = Data(x=graph.x[random_nodes], edge_index=edge_index_1, edge_attr=edge_attr_1)\n",
    "    data_1.pos = graph.pos[random_nodes]\n",
    "    data_1.name = graph.name[random_nodes]\n",
    "    \n",
    "    data_2 = Data(x=graph.x[second_nodes], edge_index=edge_index_2, edge_attr=edge_attr_2)\n",
    "    data_2.pos = graph.pos[second_nodes]\n",
    "    data_2.name = graph.name[second_nodes]\n",
    "    data_1.original_graph = torch.zeros(len(graph.x), dtype=torch.long)\n",
    "    data_2.original_graph = torch.ones(len(graph.x), dtype=torch.long)\n",
    "\n",
    "    #create a new graph. object that contains the original graph and the two subgraphs\n",
    "    fin_graph = Data(x = data_1.x, edge_index = data_1.edge_index, edge_attr = data_1.edge_attr, pos_one = data_1.pos,\n",
    "                      name_one = data_1.name, original_graph = data_1.original_graph,\n",
    "                 x_two = data_2.x, edge_index_two = data_2.edge_index, edge_attr_two = data_2.edge_attr, pos_two = data_2.pos, name_two = data_2.name, original_graph_two = data_2.original_graph)\n",
    "\n",
    "    return fin_graph"
   ]
  },
  {
   "cell_type": "code",
   "execution_count": 40,
   "metadata": {},
   "outputs": [
    {
     "name": "stdout",
     "output_type": "stream",
     "text": [
      "torch.Size([50]) (50,)\n"
     ]
    },
    {
     "data": {
      "text/plain": [
       "(50, 2)"
      ]
     },
     "execution_count": 40,
     "metadata": {},
     "output_type": "execute_result"
    }
   ],
   "source": [
    "total_nodes_list = np.arange(0, 100, 1)\n",
    "random_nodes = np.random.choice(total_nodes_list, size=len(total_nodes_list)//2, replace=False)\n",
    "random_nodes = torch.tensor(np.sort(random_nodes))\n",
    "second_nodes = np.setdiff1d(total_nodes_list, random_nodes)\n",
    "second_nodes, random_nodes\n",
    "print(random_nodes.shape, second_nodes.shape)\n",
    "\n",
    "#generate random samples of 100 points\n",
    "random_test = np.random.rand(100, 2)\n",
    "\n",
    "random_test[second_nodes].shape"
   ]
  },
  {
   "cell_type": "code",
   "execution_count": 41,
   "metadata": {},
   "outputs": [],
   "source": [
    "NUM_TRAIN = 1000\n",
    "np.random.seed(42)\n",
    "data_vector = []\n",
    "\n",
    "for i in range(NUM_TRAIN):\n",
    "    x, y, names = np.random.beta(2, 2, NUM), np.random.normal(0, 0, NUM), np.arange(0, NUM, 1)\n",
    "    data = np.array([names, x, y]).T\n",
    "    data = generate_dataset(data)\n",
    "    # graph_1, graph_2 = seperate_graph(data)\n",
    "    # data_vector.append([graph_1, graph_2])\n",
    "    data_vector.append(seperate_graph_gnn(data))\n"
   ]
  },
  {
   "cell_type": "code",
   "execution_count": 46,
   "metadata": {},
   "outputs": [
    {
     "data": {
      "text/plain": [
       "(array([ 0.,  3.,  4.,  5.,  6.,  9., 13., 15., 18., 21., 22., 25., 27.,\n",
       "        28., 31., 32., 33., 34., 35., 36., 38., 39., 40., 41., 42., 44.,\n",
       "        48., 50., 51., 53., 54., 55., 57., 58., 60., 61., 64., 66., 67.,\n",
       "        69., 72., 73., 75., 76., 80., 81., 84., 86., 96., 99.]),\n",
       " array([ 1.,  2.,  7.,  8., 10., 11., 12., 14., 16., 17., 19., 20., 23.,\n",
       "        24., 26., 29., 30., 37., 43., 45., 46., 47., 49., 52., 56., 59.,\n",
       "        62., 63., 65., 68., 70., 71., 74., 77., 78., 79., 82., 83., 85.,\n",
       "        87., 88., 89., 90., 91., 92., 93., 94., 95., 97., 98.]))"
      ]
     },
     "execution_count": 46,
     "metadata": {},
     "output_type": "execute_result"
    }
   ],
   "source": [
    "data_vector[1][0].x == data_vector[1][1].x\n",
    "data_vector[1][0].name, data_vector[1][1].name  "
   ]
  },
  {
   "cell_type": "markdown",
   "metadata": {},
   "source": [
    "TESTING"
   ]
  },
  {
   "cell_type": "code",
   "execution_count": 16,
   "metadata": {},
   "outputs": [],
   "source": [
    "#save the data\n",
    "torch.save(data_vector, \"/workspaces/masters_project/notebooks/simplified_gnn_task/gnn_only_dataset.pt\")"
   ]
  },
  {
   "cell_type": "code",
   "execution_count": 54,
   "metadata": {},
   "outputs": [
    {
     "data": {
      "image/png": "[encoded data removed]",
      "text/plain": [
       "<Figure size 640x480 with 1 Axes>"
      ]
     },
     "metadata": {},
     "output_type": "display_data"
    }
   ],
   "source": [
    "#create a histogram from x, y values\n",
    "r = np.sqrt(x**2 + y**2)\n",
    "plt.hist(r, bins=5)\n",
    "\n",
    "x_temp = np.random.normal(0, 5, 100)\n",
    "y_temp = np.random.normal(0, 5, 100)\n",
    "r_temp = np.sqrt(x_temp**2 + y_temp**2)\n",
    "#plot the histogram alongside \n",
    "plt.hist(r_temp, bins=5)\n",
    "plt.show()"
   ]
  },
  {
   "cell_type": "code",
   "execution_count": 50,
   "metadata": {},
   "outputs": [
    {
     "data": {
      "text/plain": [
       "0.1911945033352437"
      ]
     },
     "execution_count": 50,
     "metadata": {},
     "output_type": "execute_result"
    }
   ],
   "source": [
    "from scipy.spatial.distance import jensenshannon\n",
    "def compute_jensen(value_1, value_2):\n",
    "    #convert the histogram to a probability distribution\n",
    "    #first compute the histogram\n",
    "    #change this. \n",
    "    hist_1, bin_edges_1 = np.histogram(value_1, bins=5, density=True)\n",
    "    hist_2, bin_edges_2 = np.histogram(value_2, bins=5, density=True)\n",
    "    #compute the jensen shannon divergence\n",
    "    hist_1 = hist_1 / np.sum(hist_1)\n",
    "    hist_2 = hist_2 / np.sum(hist_2)\n",
    "    return jensenshannon(hist_1, hist_2)\n",
    "\n",
    "compute_jensen(r, r_temp)"
   ]
  },
  {
   "cell_type": "code",
   "execution_count": null,
   "metadata": {},
   "outputs": [],
   "source": []
  }
 ],
 "metadata": {
  "kernelspec": {
   "display_name": "Python 3",
   "language": "python",
   "name": "python3"
  },
  "language_info": {
   "codemirror_mode": {
    "name": "ipython",
    "version": 3
   },
   "file_extension": ".py",
   "mimetype": "text/x-python",
   "name": "python",
   "nbconvert_exporter": "python",
   "pygments_lexer": "ipython3",
   "version": "3.10.8"
  }
 },
 "nbformat": 4,
 "nbformat_minor": 2
}
