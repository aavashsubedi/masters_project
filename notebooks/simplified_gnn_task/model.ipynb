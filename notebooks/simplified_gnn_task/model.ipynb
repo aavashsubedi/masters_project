{
 "cells": [
  {
   "cell_type": "code",
   "execution_count": 1,
   "metadata": {},
   "outputs": [],
   "source": [
    "import torch\n",
    "import torch_geometric as pyg \n",
    "import numpy as np\n",
    "import kornia"
   ]
  },
  {
   "cell_type": "code",
   "execution_count": 2,
   "metadata": {},
   "outputs": [],
   "source": [
    "data_list = torch.load(\"/workspaces/masters_project/notebooks/simplified_gnn_task/gnn_only_dataset.pt\")\n",
    "#turn this into a dataset\n",
    "data_loader = pyg.loader.DataLoader(data_list, batch_size=128,shuffle=True)"
   ]
  },
  {
   "cell_type": "code",
   "execution_count": 68,
   "metadata": {},
   "outputs": [
    {
     "data": {
      "text/plain": [
       "<torch_geometric.loader.dataloader.DataLoader at 0x7fa477a8bee0>"
      ]
     },
     "execution_count": 68,
     "metadata": {},
     "output_type": "execute_result"
    }
   ],
   "source": [
    "data_loader"
   ]
  },
  {
   "cell_type": "code",
   "execution_count": 69,
   "metadata": {},
   "outputs": [
    {
     "data": {
      "text/plain": [
       "Data(x=[50], edge_index=[2, 1225], edge_attr=[1225, 1], pos_one=[50, 2], name_one=[50], original_graph=[100], x_two=[50], edge_index_two=[2, 1225], edge_attr_two=[1225, 1], pos_two=[50, 2], name_two=[50], original_graph_two=[100])"
      ]
     },
     "execution_count": 69,
     "metadata": {},
     "output_type": "execute_result"
    }
   ],
   "source": [
    "main_graph = data_list[0]\n",
    "main_graph\n",
    "#join a, b as disconnected graph\n"
   ]
  },
  {
   "cell_type": "code",
   "execution_count": 70,
   "metadata": {},
   "outputs": [],
   "source": [
    "from torch_geometric.nn import SAGEConv, to_hetero, Linear\n",
    "import torch.nn.functional as F\n",
    "\n",
    "class GNNModel(torch.nn.Module):\n",
    "\n",
    "    def __init__(self, hidden_channels):\n",
    "        super().__init__()\n",
    "        self.conv1 = SAGEConv(hidden_channels, hidden_channels)\n",
    "        self.conv2 = SAGEConv(hidden_channels, hidden_channels)\n",
    "        self.lin = Linear( hidden_channels, 1)\n",
    "        self.embedding_layer = Linear(1, hidden_channels)\n",
    "    def forward(self, x, edge_index):\n",
    "        #embed x to hidden dim \n",
    "        x = self.embedding_layer(x.unsqueeze(-1))\n",
    "        #this is [500, 16]\n",
    "        #print(\"initial x: \", x.shape)\n",
    "        #print(\"initial, edge_index: \", edge_index.shape)\n",
    "        #print(\"initial_edge index max\", edge_index.max())\n",
    "        #initial, edge_index:  torch.Size([2, 12250])\n",
    "        #initial_edge index max tensor(549)\n",
    "\n",
    "        x = F.relu(self.conv1(x, edge_index))\n",
    "        #print(\"x after conv1: \", x.shape)\n",
    "        x = self.conv2(x, edge_index)\n",
    "        #print(\"x after conv2: \", x.shape)\n",
    "        edge_x = x[edge_index[0]] *  x[edge_index[1]]\n",
    "        #print(edge_x.shape)\n",
    "        return self.lin(edge_x)"
   ]
  },
  {
   "cell_type": "code",
   "execution_count": 71,
   "metadata": {},
   "outputs": [],
   "source": [
    "class DualNetwork(torch.nn.Module):\n",
    "    def __init__(self, hidden_channels):\n",
    "        super().__init__()\n",
    "        self.gnnone = GNNModel(hidden_channels)\n",
    "        self.gnntwo = GNNModel(hidden_channels)\n",
    "    def forward(self, data):\n",
    "        x1, edge_index1, edge_attr1 = data.x, data.edge_index, data.edge_attr\n",
    "        x2, edge_index2, edge_attr2 = data.x_two, data.edge_index_two, data.edge_attr_two\n",
    "        \n",
    "        output_1 = self.gnnone(x1, edge_index1)\n",
    "        output_2 = self.gnntwo(x2, edge_index2)\n",
    "\n",
    "        #now we will multiply it by the edge_attr\n",
    "        output_1 = output_1 * edge_attr1\n",
    "        output_2 = output_2 * edge_attr2\n",
    "        \n",
    "        return output_1, output_2"
   ]
  },
  {
   "cell_type": "code",
   "execution_count": 72,
   "metadata": {},
   "outputs": [],
   "source": [
    "dual_network = DualNetwork(16)"
   ]
  },
  {
   "cell_type": "code",
   "execution_count": 73,
   "metadata": {},
   "outputs": [],
   "source": [
    "class JSD(torch.nn.Module):\n",
    "    def __init__(self):\n",
    "        super(JSD, self).__init__()\n",
    "        self.kl = torch.nn.KLDivLoss(reduction='batchmean', log_target=True)\n",
    "\n",
    "    def forward(self, p: torch.tensor, q: torch.tensor):\n",
    "        p, q = p.view(-1, p.size(-1)), q.view(-1, q.size(-1))\n",
    "        m = (0.5 * (p + q)).log()\n",
    "        return 0.5 * (self.kl(m, p.log()) + self.kl(m, q.log()))"
   ]
  },
  {
   "cell_type": "code",
   "execution_count": 74,
   "metadata": {},
   "outputs": [],
   "source": [
    "#Our embedding \n",
    "kl_loss = torch.nn.KLDivLoss(reduction=\"batchmean\", log_target=True)\n",
    "optimizer = torch.optim.Adam(dual_network.parameters(), lr=0.01)"
   ]
  },
  {
   "cell_type": "code",
   "execution_count": 75,
   "metadata": {},
   "outputs": [],
   "source": [
    "loss = JSD()"
   ]
  },
  {
   "cell_type": "code",
   "execution_count": 76,
   "metadata": {},
   "outputs": [],
   "source": [
    "def evaluate_fn(model, val_set, test_set, criterion, \n",
    "                use_val_dataset=True ):\n",
    "    model.eval()\n",
    "    num_val = 0\n",
    "    if use_val_dataset:\n",
    "        dataset_used = val_set\n",
    "    with torch.no_grad():\n",
    "        val_loss = []\n",
    "        for data in dataset_used:\n",
    "            model_output_1, model_output_2 = model(data)\n",
    "            max_1 = torch.max(model_output_1)\n",
    "            max_2 = torch.max(model_output_2)\n",
    "            max_val = torch.max(max_1, max_2)\n",
    "            bins = torch.linspace(0, max_val.item(), 30)\n",
    "\n",
    "            #hist1 = torch.histogram(model_output_1, bins=bins).hist.requires_grad_()\n",
    "            #hist2 = torch.histogram(model_output_2, bins=bins).hist.requires_grad_()\n",
    "\n",
    "            hist1 = kornia.enhance.histogram(model_output_1, bins=bins, bandwidth=torch.tensor(0.9))\n",
    "            hist2 = kornia.enhance.histogram(model_output_2, bins=bins, bandwidth=torch.tensor(0.9))\n",
    "            loss_val = JSD()(hist1, hist2)\n",
    "            #hist1 = torch.log(hist1)\n",
    "            #hist2 = torch.log(hist2)\n",
    "            #loss_val = kl_loss(hist1, hist2)\n",
    "            val_loss.append(loss_val.item())\n",
    "            num_val += data.num_graphs\n",
    "    #compute the average\n",
    "        return np.mean(val_loss)\n",
    "        \n",
    "        \n"
   ]
  },
  {
   "cell_type": "code",
   "execution_count": 77,
   "metadata": {},
   "outputs": [
    {
     "data": {
      "text/plain": [
       "104"
      ]
     },
     "execution_count": 77,
     "metadata": {},
     "output_type": "execute_result"
    }
   ],
   "source": [
    "i.num_graphs"
   ]
  },
  {
   "cell_type": "code",
   "execution_count": 78,
   "metadata": {},
   "outputs": [],
   "source": [
    "loss_array = []\n",
    "val_loss_array = []\n",
    "for epoch in range(10):\n",
    "    val_loss_array.append(evaluate_fn(dual_network, data_loader, data_loader, kl_loss, use_val_dataset=True))\n",
    "\n",
    "    for i in data_loader:\n",
    "        optimizer.zero_grad()\n",
    "\n",
    "      #  print(i)\n",
    "        model_output = dual_network(i)\n",
    "        model_output_1, model_output_2 = model_output       \n",
    "        max_1 = torch.max(model_output_1)\n",
    "        max_2 = torch.max(model_output_2)\n",
    "        max_val = torch.max(max_1, max_2)\n",
    "        bins = torch.linspace(0, max_val.item(), 30)\n",
    "\n",
    "        #hist1 = torch.histogram(model_output_1, bins=bins).hist.requires_grad_()\n",
    "        #hist2 = torch.histogram(model_output_2, bins=bins).hist.requires_grad_()\n",
    "\n",
    "        hist1 = kornia.enhance.histogram(model_output_1, bins=bins, bandwidth=torch.tensor(0.9))\n",
    "        hist2 = kornia.enhance.histogram(model_output_2, bins=bins, bandwidth=torch.tensor(0.9))\n",
    "        loss_val = JSD()(hist1, hist2)\n",
    "        # hist1 = torch.log(hist1)\n",
    "        # hist2 = torch.log(hist2)\n",
    "        # loss_val = kl_loss(hist1, hist2)\n",
    "        loss_val.backward()\n",
    "        loss_array.append(loss_val.item())\n",
    "        optimizer.step()\n",
    "\n",
    "        # a, b = i[0][:, :, 0], i[0][:, :, 1]\n",
    "        # output_1 = model1(a)\n",
    "        # output_2 = model2(b)\n",
    "        \n",
    "        # model_output_1 = output_1 * a\n",
    "        # model_output_2 = output_2 * b\n",
    "\n",
    "        # #take the max of the two outputs\n",
    "        # max_1 = torch.max(model_output_1)\n",
    "        # max_2 = torch.max(model_output_2)\n",
    "        # max_val = torch.max(max_1, max_2)\n",
    "        # bins = torch.linspace(0, max_val.item(), 30)\n",
    "\n",
    "        # #hist1 = torch.histogram(model_output_1, bins=bins).hist.requires_grad_()\n",
    "        # #hist2 = torch.histogram(model_output_2, bins=bins).hist.requires_grad_()\n",
    "\n",
    "        # hist1 = kornia.enhance.histogram(model_output_1, bins=bins, bandwidth=torch.tensor(0.9))\n",
    "        # hist2 = kornia.enhance.histogram(model_output_2, bins=bins, bandwidth=torch.tensor(0.9))\n",
    "        # hist1 = torch.log(hist1)\n",
    "        # hist2 = torch.log(hist2)\n",
    "        # loss_val = kl_loss(hist1, hist2)\n",
    "        # loss_val.backward()\n",
    "        # loss_array.append(loss_val.item())\n",
    "        # optimizer.step()"
   ]
  },
  {
   "cell_type": "code",
   "execution_count": 79,
   "metadata": {},
   "outputs": [
    {
     "data": {
      "text/plain": [
       "[<matplotlib.lines.Line2D at 0x7fa47393a170>]"
      ]
     },
     "execution_count": 79,
     "metadata": {},
     "output_type": "execute_result"
    },
    {
     "data": {
      "image/png": "[encoded data removed]",
      "text/plain": [
       "<Figure size 640x480 with 1 Axes>"
      ]
     },
     "metadata": {},
     "output_type": "display_data"
    }
   ],
   "source": [
    "#plot the loss\n",
    "import matplotlib.pyplot as plt\n",
    "plt.plot(loss_array)\n"
   ]
  },
  {
   "cell_type": "code",
   "execution_count": 47,
   "metadata": {},
   "outputs": [
    {
     "data": {
      "text/plain": [
       "[<matplotlib.lines.Line2D at 0x7fa47447bfa0>]"
      ]
     },
     "execution_count": 47,
     "metadata": {},
     "output_type": "execute_result"
    },
    {
     "data": {
      "image/png": "[encoded data removed]",
      "text/plain": [
       "<Figure size 640x480 with 1 Axes>"
      ]
     },
     "metadata": {},
     "output_type": "display_data"
    }
   ],
   "source": [
    "plt.plot(val_loss_array)"
   ]
  },
  {
   "cell_type": "code",
   "execution_count": null,
   "metadata": {},
   "outputs": [],
   "source": []
  }
 ],
 "metadata": {
  "kernelspec": {
   "display_name": "Python 3",
   "language": "python",
   "name": "python3"
  },
  "language_info": {
   "codemirror_mode": {
    "name": "ipython",
    "version": 3
   },
   "file_extension": ".py",
   "mimetype": "text/x-python",
   "name": "python",
   "nbconvert_exporter": "python",
   "pygments_lexer": "ipython3",
   "version": "3.10.8"
  }
 },
 "nbformat": 4,
 "nbformat_minor": 2
}
