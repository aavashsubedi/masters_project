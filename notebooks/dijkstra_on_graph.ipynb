{
 "cells": [
  {
   "cell_type": "code",
   "execution_count": 2,
   "metadata": {},
   "outputs": [],
   "source": [
    "import torch\n",
    "import torch.nn.functional as F\n",
    "import itertools\n",
    "from functools import partial\n",
    "import heapq\n",
    "from collections import namedtuple, defaultdict\n",
    "import pandas as pd\n",
    "import numpy as np\n",
    "import networkx as nx\n",
    "from torch_geometric.data import Data\n",
    "from torch_geometric.utils import from_scipy_sparse_matrix\n",
    "from  torch_geometric.transforms.distance import Distance \n",
    "import matplotlib.pyplot as plt\n"
   ]
  },
  {
   "cell_type": "code",
   "execution_count": 2,
   "metadata": {},
   "outputs": [],
   "source": [
    "def neighbours_8(x, y, x_max, y_max):\n",
    "    deltas_x = (-1, 0, 1)\n",
    "    deltas_y = (-1, 0, 1)\n",
    "    for (dx, dy) in itertools.product(deltas_x, deltas_y):\n",
    "        x_new, y_new = x + dx, y + dy\n",
    "        if 0 <= x_new < x_max and 0 <= y_new < y_max and (dx, dy) != (0, 0):\n",
    "            yield x_new, y_new"
   ]
  },
  {
   "cell_type": "code",
   "execution_count": 3,
   "metadata": {},
   "outputs": [],
   "source": [
    "def Dijkstra(matrices, neighbourhood_fn=neighbours_8, request_transitions=False): # Shortest path finder\n",
    "        batch_size, height, width = matrices.size()\n",
    "        outputs = []\n",
    "\n",
    "        for batch_idx in range(batch_size):\n",
    "            matrix = matrices[batch_idx]  # Extract the current matrix\n",
    "            x_max, y_max = matrix.shape\n",
    "            neighbors_func = partial(neighbourhood_fn, x_max=x_max, y_max=y_max)\n",
    "\n",
    "            costs = torch.full_like(matrix, 1.0e10)\n",
    "            costs[0][0] = matrix[0][0]\n",
    "            num_path = torch.zeros_like(matrix)\n",
    "            num_path[0][0] = 1\n",
    "            priority_queue = [(matrix[0][0], (0, 0))]\n",
    "            certain = set()\n",
    "            transitions = defaultdict(tuple)\n",
    "\n",
    "            while priority_queue:\n",
    "                cur_cost, (cur_x, cur_y) = heapq.heappop(priority_queue)\n",
    "                if (cur_x, cur_y) in certain:\n",
    "                    pass\n",
    "\n",
    "                for x, y in neighbors_func(cur_x, cur_y):\n",
    "                    if (x, y) not in certain:\n",
    "                        if matrix[x][y] + costs[cur_x][cur_y] < costs[x][y]:\n",
    "                            costs[x][y] = matrix[x][y] + costs[cur_x][cur_y]\n",
    "                            heapq.heappush(priority_queue, (costs[x][y], (x, y)))\n",
    "                            transitions[(x, y)] = (cur_x, cur_y)\n",
    "                            num_path[x, y] = num_path[cur_x, cur_y]\n",
    "                        elif matrix[x][y] + costs[cur_x][cur_y] == costs[x][y]:\n",
    "                            num_path[x, y] += 1\n",
    "\n",
    "                certain.add((cur_x, cur_y))\n",
    "            \n",
    "            # Retrieve the path\n",
    "            cur_x, cur_y = x_max - 1, y_max - 1\n",
    "            on_path = torch.zeros_like(matrix)\n",
    "            on_path[-1][-1] = 1\n",
    "            while (cur_x, cur_y) != (0, 0):\n",
    "                cur_x, cur_y = transitions[(cur_x, cur_y)]\n",
    "                on_path[cur_x, cur_y] = 1.0\n",
    "\n",
    "            outputs.append(on_path.unsqueeze(0))\n",
    "\n",
    "        return torch.stack(outputs).squeeze(1).requires_grad_(True)"
   ]
  },
  {
   "cell_type": "markdown",
   "metadata": {},
   "source": [
    "Write a new function, Dijkstra_graph() that takes a Graph object as input. Previously, Dijkstra would calculate the shortest path using the output of the CNN that embeds the image. Now we are embedding the image with a GNN. Dijkstra will use these node embeddings."
   ]
  },
  {
   "cell_type": "code",
   "execution_count": 3,
   "metadata": {},
   "outputs": [
    {
     "name": "stdout",
     "output_type": "stream",
     "text": [
      "Data(edge_index=[2, 656], labels=[123, 1], pixel count=[123], total color=[123, 3], mean color=[123, 3], centroid=[123, 2], weight=[656], num_nodes=123, x=[123])\n"
     ]
    }
   ],
   "source": [
    "graph = torch.load(\"/home/duser/masters_project/data/new_g.pt\")\n",
    "graph.x = torch.randn(123)\n",
    "print(graph)"
   ]
  },
  {
   "cell_type": "code",
   "execution_count": 4,
   "metadata": {},
   "outputs": [
    {
     "name": "stdout",
     "output_type": "stream",
     "text": [
      "tensor([[120, 120, 120, 120, 121, 121, 121, 121, 122, 122],\n",
      "        [100, 111, 115, 118, 110, 113, 119, 122, 113, 121]])\n",
      "tensor([[86.2941, 91.4118],\n",
      "        [89.7692, 16.9538],\n",
      "        [87.3200, 27.7000],\n",
      "        [89.9467,  3.0133],\n",
      "        [90.0723, 10.0120],\n",
      "        [91.7857, 24.3857],\n",
      "        [91.2276, 73.6667],\n",
      "        [91.9293, 36.9192],\n",
      "        [92.5227, 85.0455],\n",
      "        [92.5000, 92.0000]], dtype=torch.float64)\n"
     ]
    }
   ],
   "source": [
    "print(graph.edge_index[:, -10:])\n",
    "print(graph.centroid[-10:])"
   ]
  },
  {
   "cell_type": "code",
   "execution_count": 5,
   "metadata": {},
   "outputs": [
    {
     "name": "stdout",
     "output_type": "stream",
     "text": [
      "[[0], [1], [2]]\n"
     ]
    },
    {
     "ename": "TypeError",
     "evalue": "'NoneType' object is not subscriptable",
     "output_type": "error",
     "traceback": [
      "\u001b[0;31m---------------------------------------------------------------------------\u001b[0m",
      "\u001b[0;31mTypeError\u001b[0m                                 Traceback (most recent call last)",
      "\u001b[1;32m/home/duser/masters_project/notebooks/dijkstra_on_graph.ipynb Cell 7\u001b[0m line \u001b[0;36m3\n\u001b[1;32m      <a href='vscode-notebook-cell://attached-container%2B7b22636f6e7461696e65724e616d65223a222f6c616265656261685f677075222c2273657474696e6773223a7b22686f7374223a227373683a2f2f666c6169722d6e6f64652d30312e726f626f74732e6f782e61632e756b227d7d/home/duser/masters_project/notebooks/dijkstra_on_graph.ipynb#W6sdnNjb2RlLXJlbW90ZQ%3D%3D?line=0'>1</a>\u001b[0m neighbours \u001b[39m=\u001b[39m [[i] \u001b[39mfor\u001b[39;00m i \u001b[39min\u001b[39;00m (graph\u001b[39m.\u001b[39medge_index[\u001b[39m0\u001b[39m] \u001b[39m==\u001b[39m \u001b[39m0\u001b[39m)\u001b[39m.\u001b[39mnonzero(as_tuple\u001b[39m=\u001b[39m\u001b[39mTrue\u001b[39;00m)[\u001b[39m0\u001b[39m]\u001b[39m.\u001b[39mtolist()] \u001b[39m# Checked this is correct\u001b[39;00m\n\u001b[1;32m      <a href='vscode-notebook-cell://attached-container%2B7b22636f6e7461696e65724e616d65223a222f6c616265656261685f677075222c2273657474696e6773223a7b22686f7374223a227373683a2f2f666c6169722d6e6f64652d30312e726f626f74732e6f782e61632e756b227d7d/home/duser/masters_project/notebooks/dijkstra_on_graph.ipynb#W6sdnNjb2RlLXJlbW90ZQ%3D%3D?line=1'>2</a>\u001b[0m \u001b[39mprint\u001b[39m(neighbours)\n\u001b[0;32m----> <a href='vscode-notebook-cell://attached-container%2B7b22636f6e7461696e65724e616d65223a222f6c616265656261685f677075222c2273657474696e6773223a7b22686f7374223a227373683a2f2f666c6169722d6e6f64652d30312e726f626f74732e6f782e61632e756b227d7d/home/duser/masters_project/notebooks/dijkstra_on_graph.ipynb#W6sdnNjb2RlLXJlbW90ZQ%3D%3D?line=2'>3</a>\u001b[0m \u001b[39mprint\u001b[39m(neighbours[np\u001b[39m.\u001b[39margmin([graph\u001b[39m.\u001b[39medge_attr[i]\u001b[39m.\u001b[39mitem() \u001b[39mfor\u001b[39;00m i \u001b[39min\u001b[39;00m neighbours])]) \u001b[39m# Index of neighbour with shortest dist\u001b[39;00m\n\u001b[1;32m      <a href='vscode-notebook-cell://attached-container%2B7b22636f6e7461696e65724e616d65223a222f6c616265656261685f677075222c2273657474696e6773223a7b22686f7374223a227373683a2f2f666c6169722d6e6f64652d30312e726f626f74732e6f782e61632e756b227d7d/home/duser/masters_project/notebooks/dijkstra_on_graph.ipynb#W6sdnNjb2RlLXJlbW90ZQ%3D%3D?line=3'>4</a>\u001b[0m \u001b[39mprint\u001b[39m(\u001b[39mmin\u001b[39m([graph\u001b[39m.\u001b[39medge_attr[i]\u001b[39m.\u001b[39mitem() \u001b[39mfor\u001b[39;00m i \u001b[39min\u001b[39;00m neighbours])) \u001b[39m# Dist from source node to nearest neighbor\u001b[39;00m\n\u001b[1;32m      <a href='vscode-notebook-cell://attached-container%2B7b22636f6e7461696e65724e616d65223a222f6c616265656261685f677075222c2273657474696e6773223a7b22686f7374223a227373683a2f2f666c6169722d6e6f64652d30312e726f626f74732e6f782e61632e756b227d7d/home/duser/masters_project/notebooks/dijkstra_on_graph.ipynb#W6sdnNjb2RlLXJlbW90ZQ%3D%3D?line=4'>5</a>\u001b[0m \u001b[39mprint\u001b[39m([graph\u001b[39m.\u001b[39medge_index[\u001b[39m1\u001b[39m][i]\u001b[39m.\u001b[39mitem() \u001b[39mfor\u001b[39;00m i \u001b[39min\u001b[39;00m neighbours])\n",
      "\u001b[1;32m/home/duser/masters_project/notebooks/dijkstra_on_graph.ipynb Cell 7\u001b[0m line \u001b[0;36m3\n\u001b[1;32m      <a href='vscode-notebook-cell://attached-container%2B7b22636f6e7461696e65724e616d65223a222f6c616265656261685f677075222c2273657474696e6773223a7b22686f7374223a227373683a2f2f666c6169722d6e6f64652d30312e726f626f74732e6f782e61632e756b227d7d/home/duser/masters_project/notebooks/dijkstra_on_graph.ipynb#W6sdnNjb2RlLXJlbW90ZQ%3D%3D?line=0'>1</a>\u001b[0m neighbours \u001b[39m=\u001b[39m [[i] \u001b[39mfor\u001b[39;00m i \u001b[39min\u001b[39;00m (graph\u001b[39m.\u001b[39medge_index[\u001b[39m0\u001b[39m] \u001b[39m==\u001b[39m \u001b[39m0\u001b[39m)\u001b[39m.\u001b[39mnonzero(as_tuple\u001b[39m=\u001b[39m\u001b[39mTrue\u001b[39;00m)[\u001b[39m0\u001b[39m]\u001b[39m.\u001b[39mtolist()] \u001b[39m# Checked this is correct\u001b[39;00m\n\u001b[1;32m      <a href='vscode-notebook-cell://attached-container%2B7b22636f6e7461696e65724e616d65223a222f6c616265656261685f677075222c2273657474696e6773223a7b22686f7374223a227373683a2f2f666c6169722d6e6f64652d30312e726f626f74732e6f782e61632e756b227d7d/home/duser/masters_project/notebooks/dijkstra_on_graph.ipynb#W6sdnNjb2RlLXJlbW90ZQ%3D%3D?line=1'>2</a>\u001b[0m \u001b[39mprint\u001b[39m(neighbours)\n\u001b[0;32m----> <a href='vscode-notebook-cell://attached-container%2B7b22636f6e7461696e65724e616d65223a222f6c616265656261685f677075222c2273657474696e6773223a7b22686f7374223a227373683a2f2f666c6169722d6e6f64652d30312e726f626f74732e6f782e61632e756b227d7d/home/duser/masters_project/notebooks/dijkstra_on_graph.ipynb#W6sdnNjb2RlLXJlbW90ZQ%3D%3D?line=2'>3</a>\u001b[0m \u001b[39mprint\u001b[39m(neighbours[np\u001b[39m.\u001b[39margmin([graph\u001b[39m.\u001b[39;49medge_attr[i]\u001b[39m.\u001b[39mitem() \u001b[39mfor\u001b[39;00m i \u001b[39min\u001b[39;00m neighbours])]) \u001b[39m# Index of neighbour with shortest dist\u001b[39;00m\n\u001b[1;32m      <a href='vscode-notebook-cell://attached-container%2B7b22636f6e7461696e65724e616d65223a222f6c616265656261685f677075222c2273657474696e6773223a7b22686f7374223a227373683a2f2f666c6169722d6e6f64652d30312e726f626f74732e6f782e61632e756b227d7d/home/duser/masters_project/notebooks/dijkstra_on_graph.ipynb#W6sdnNjb2RlLXJlbW90ZQ%3D%3D?line=3'>4</a>\u001b[0m \u001b[39mprint\u001b[39m(\u001b[39mmin\u001b[39m([graph\u001b[39m.\u001b[39medge_attr[i]\u001b[39m.\u001b[39mitem() \u001b[39mfor\u001b[39;00m i \u001b[39min\u001b[39;00m neighbours])) \u001b[39m# Dist from source node to nearest neighbor\u001b[39;00m\n\u001b[1;32m      <a href='vscode-notebook-cell://attached-container%2B7b22636f6e7461696e65724e616d65223a222f6c616265656261685f677075222c2273657474696e6773223a7b22686f7374223a227373683a2f2f666c6169722d6e6f64652d30312e726f626f74732e6f782e61632e756b227d7d/home/duser/masters_project/notebooks/dijkstra_on_graph.ipynb#W6sdnNjb2RlLXJlbW90ZQ%3D%3D?line=4'>5</a>\u001b[0m \u001b[39mprint\u001b[39m([graph\u001b[39m.\u001b[39medge_index[\u001b[39m1\u001b[39m][i]\u001b[39m.\u001b[39mitem() \u001b[39mfor\u001b[39;00m i \u001b[39min\u001b[39;00m neighbours])\n",
      "\u001b[0;31mTypeError\u001b[0m: 'NoneType' object is not subscriptable"
     ]
    }
   ],
   "source": [
    "neighbours = [[i] for i in (graph.edge_index[0] == 0).nonzero(as_tuple=True)[0].tolist()] # Checked this is correct\n",
    "print(neighbours)\n",
    "print(neighbours[np.argmin([graph.edge_attr[i].item() for i in neighbours])]) # Index of neighbour with shortest dist\n",
    "print(min([graph.edge_attr[i].item() for i in neighbours])) # Dist from source node to nearest neighbor\n",
    "print([graph.edge_index[1][i].item() for i in neighbours])"
   ]
  },
  {
   "cell_type": "code",
   "execution_count": 8,
   "metadata": {},
   "outputs": [
    {
     "data": {
      "text/plain": [
       "tensor([  0,  23,  26,  46,  60,  67,  76,  83,  99, 106, 119, 121, 122])"
      ]
     },
     "execution_count": 8,
     "metadata": {},
     "output_type": "execute_result"
    }
   ],
   "source": [
    "import torch_geometric as pyg \n",
    "import networkx as nx\n",
    "\n",
    "nx_graph = pyg.utils.to_networkx(graph)\n",
    "path = torch.tensor(nx.shortest_path(nx_graph, source=0, target=122))\n",
    "path"
   ]
  },
  {
   "cell_type": "code",
   "execution_count": null,
   "metadata": {},
   "outputs": [
    {
     "data": {
      "image/png": "[encoded data removed]",
      "text/plain": [
       "<Figure size 640x480 with 1 Axes>"
      ]
     },
     "metadata": {},
     "output_type": "display_data"
    }
   ],
   "source": [
    "# [0, 23, 26, 46, 60, 67, 76, 83, 99, 106, 119, 121, 122]\n",
    "grid = np.zeros((11,11))\n",
    "\n",
    "for ele in nx.shortest_path(nx_graph, source=0, target=122):\n",
    "    i = ele // 11 # This is the row \n",
    "    j = ele % 11 # This is the column  \n",
    "\n",
    "    if i % 2 != 0:\n",
    "        j=-j\n",
    "\n",
    "    try:\n",
    "        grid[i,j] = 1\n",
    "    except IndexError:\n",
    "        pass\n",
    "\n",
    "#plt.imshow(grid)\n",
    "#using the indices visualise the position of the centroids\n",
    "\n",
    "\n",
    "#image = \n",
    "plt.scatter(graph.centroid[path,0], graph.centroid[path,1])\n",
    "plt.grid(markevery=5)"
   ]
  },
  {
   "cell_type": "code",
   "execution_count": 7,
   "metadata": {},
   "outputs": [
    {
     "name": "stdout",
     "output_type": "stream",
     "text": [
      "> \u001b[0;32m/tmp/ipykernel_2667719/3568162201.py\u001b[0m(39)\u001b[0;36mDijkstra_graph\u001b[0;34m()\u001b[0m\n",
      "\u001b[0;32m     37 \u001b[0;31m\u001b[0;34m\u001b[0m\u001b[0m\n",
      "\u001b[0m\u001b[0;32m     38 \u001b[0;31m    \u001b[0;31m# Initialize distances and paths\u001b[0m\u001b[0;34m\u001b[0m\u001b[0;34m\u001b[0m\u001b[0m\n",
      "\u001b[0m\u001b[0;32m---> 39 \u001b[0;31m    \u001b[0mdistances\u001b[0m \u001b[0;34m=\u001b[0m \u001b[0;34m{\u001b[0m\u001b[0mnode\u001b[0m\u001b[0;34m:\u001b[0m \u001b[0mfloat\u001b[0m\u001b[0;34m(\u001b[0m\u001b[0;34m'inf'\u001b[0m\u001b[0;34m)\u001b[0m \u001b[0;32mfor\u001b[0m \u001b[0mnode\u001b[0m \u001b[0;32min\u001b[0m \u001b[0mrange\u001b[0m\u001b[0;34m(\u001b[0m\u001b[0mtarget\u001b[0m\u001b[0;34m)\u001b[0m\u001b[0;34m}\u001b[0m\u001b[0;34m\u001b[0m\u001b[0;34m\u001b[0m\u001b[0m\n",
      "\u001b[0m\u001b[0;32m     40 \u001b[0;31m    \u001b[0mpaths\u001b[0m \u001b[0;34m=\u001b[0m \u001b[0;34m{\u001b[0m\u001b[0mnode\u001b[0m\u001b[0;34m:\u001b[0m \u001b[0;34m[\u001b[0m\u001b[0;34m]\u001b[0m \u001b[0;32mfor\u001b[0m \u001b[0mnode\u001b[0m \u001b[0;32min\u001b[0m \u001b[0mrange\u001b[0m\u001b[0;34m(\u001b[0m\u001b[0mtarget\u001b[0m\u001b[0;34m)\u001b[0m\u001b[0;34m}\u001b[0m\u001b[0;34m\u001b[0m\u001b[0;34m\u001b[0m\u001b[0m\n",
      "\u001b[0m\u001b[0;32m     41 \u001b[0;31m\u001b[0;34m\u001b[0m\u001b[0m\n",
      "\u001b[0m\n"
     ]
    },
    {
     "ename": "",
     "evalue": "",
     "output_type": "error",
     "traceback": [
      "\u001b[1;31mThe Kernel crashed while executing code in the the current cell or a previous cell. Please review the code in the cell(s) to identify a possible cause of the failure. Click <a href='https://aka.ms/vscodeJupyterKernelCrash'>here</a> for more info. View Jupyter <a href='command:jupyter.viewOutput'>log</a> for further details."
     ]
    }
   ],
   "source": [
    "def Dijkstra_graph(graph_obj, source=0, target=123): # Shortest path finder with graph input\n",
    "\n",
    "    \"\"\"\n",
    "    edge_index = graph.edge_index\n",
    "    edge_attr = graph.edge_attr\n",
    "\n",
    "    \n",
    "    source = 1 # Node with label 1\n",
    "    destination = 123 # PERCEIVED destination node (must check)\n",
    "    cost = []\n",
    "    prev = []\n",
    "    Q = [] # Set of vertices that have the least dist[v] value\n",
    "\n",
    "    for node in graph.labels:\n",
    "        cost[node] = torch.inf\n",
    "        Q.append(node)\n",
    "    cost[source] = 0\n",
    "\n",
    "    while len(Q) != 0:\n",
    "        u = Q[0] # Will update per loop\n",
    "        # Need node u and the index of its neighbours according to their place in 'edge_index'\n",
    "        neighbours_index = (edge_index[0] == u).nonzero(as_tuple=True)[0].item\n",
    "        u = neighbours_index[torch.argmin([edge_attr[i] for i in neighbours_index])]\n",
    "        Q = Q[1:] # Remove u from Q\n",
    "\n",
    "        for v in neighbours_index:\n",
    "            if v in Q:\n",
    "                alt = min([graph.edge_attr[i].item() for i in neighbours_index])\n",
    "    \"\"\"\n",
    "\n",
    "    # Turn Graph object into adjacency list\n",
    "    # E.g: {'1': {neighbour1 : dist_to_neighbour1,\n",
    "    #             neighbour2 : dist_to_neighbour2....}\n",
    "    #       '2': {...}}\n",
    "    graph = {node: {graph_obj.edge_index[1][neighbor_index].item(): graph_obj.x[node].item() for neighbor_index in [[i] for i in (graph_obj.edge_index[0] == node).nonzero(as_tuple=True)[0].tolist()]} for node in range(target)}\n",
    "    import pdb; pdb.set_trace()\n",
    "\n",
    "    # Initialize distances and paths\n",
    "    distances = {node: float('inf') for node in range(target)}\n",
    "    paths = {node: [] for node in range(target)}\n",
    "\n",
    "    # Priority queue for Dijkstra's algorithm\n",
    "    priority_queue = [(0, source, [source])]\n",
    "    \n",
    "    while priority_queue:\n",
    "        current_distance, current_node, current_path = heapq.heappop(priority_queue)\n",
    "        \n",
    "        # Check if the current path is shorter than the known path to the current node\n",
    "        if current_distance < distances[current_node]:\n",
    "            distances[current_node] = current_distance\n",
    "            paths[current_node] = current_path\n",
    "            \n",
    "            # Explore neighbors\n",
    "            for neighbor, weight in graph[current_node].items():\n",
    "                heapq.heappush(priority_queue, (current_distance + weight, neighbor, current_path + [neighbor]))\n",
    "    \n",
    "    # Return all shortest paths to the target node\n",
    "    return distances[target], paths[target]\n",
    "\n",
    "\n",
    "\"\"\"# Example graph represented as an adjacency list\n",
    "graph = {\n",
    "    'A': {'B': 1, 'C': 4},\n",
    "    'B': {'A': 1, 'C': 2, 'D': 5},\n",
    "    'C': {'A': 4, 'B': 2, 'D': 1},\n",
    "    'D': {'B': 5, 'C': 1}\n",
    "}\n",
    "\n",
    "source_node = 'A'\n",
    "target_node = 'D'\"\"\"\n",
    "\n",
    "shortest_distance, shortest_paths = Dijkstra_graph(graph)\n",
    "\n",
    "print(f\"Shortest Distance from {1} to {122}: {shortest_distance}\")\n",
    "print(f\"All Shortest Paths: {shortest_paths}\")"
   ]
  },
  {
   "cell_type": "code",
   "execution_count": null,
   "metadata": {},
   "outputs": [],
   "source": [
    "plt.plot()"
   ]
  }
 ],
 "metadata": {
  "kernelspec": {
   "display_name": "venv",
   "language": "python",
   "name": "python3"
  },
  "language_info": {
   "codemirror_mode": {
    "name": "ipython",
    "version": 3
   },
   "file_extension": ".py",
   "mimetype": "text/x-python",
   "name": "python",
   "nbconvert_exporter": "python",
   "pygments_lexer": "ipython3",
   "version": "3.9.17"
  }
 },
 "nbformat": 4,
 "nbformat_minor": 2
}
