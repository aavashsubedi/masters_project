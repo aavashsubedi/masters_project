{
 "cells": [
  {
   "cell_type": "code",
   "execution_count": 1,
   "metadata": {},
   "outputs": [],
   "source": [
    "import torch\n",
    "import torch.nn.functional as F\n",
    "import itertools\n",
    "from functools import partial\n",
    "import heapq\n",
    "from collections import namedtuple, defaultdict\n",
    "import pandas as pd\n",
    "import numpy as np\n",
    "import networkx as nx\n",
    "from torch_geometric.data import Data\n",
    "from torch_geometric.utils import from_scipy_sparse_matrix\n",
    "from  torch_geometric.transforms.distance import Distance \n",
    "import matplotlib.pyplot as plt"
   ]
  },
  {
   "cell_type": "code",
   "execution_count": 3,
   "metadata": {},
   "outputs": [],
   "source": [
    "def neighbours_8(x, y, x_max, y_max):\n",
    "    deltas_x = (-1, 0, 1)\n",
    "    deltas_y = (-1, 0, 1)\n",
    "    for (dx, dy) in itertools.product(deltas_x, deltas_y):\n",
    "        x_new, y_new = x + dx, y + dy\n",
    "        if 0 <= x_new < x_max and 0 <= y_new < y_max and (dx, dy) != (0, 0):\n",
    "            yield x_new, y_new"
   ]
  },
  {
   "cell_type": "code",
   "execution_count": 4,
   "metadata": {},
   "outputs": [],
   "source": [
    "def Dijkstra(matrices, neighbourhood_fn=neighbours_8, request_transitions=False): # Shortest path finder\n",
    "        batch_size, height, width = matrices.size()\n",
    "        outputs = []\n",
    "\n",
    "        for batch_idx in range(batch_size):\n",
    "            matrix = matrices[batch_idx]  # Extract the current matrix\n",
    "            x_max, y_max = matrix.shape\n",
    "            neighbors_func = partial(neighbourhood_fn, x_max=x_max, y_max=y_max)\n",
    "\n",
    "            costs = torch.full_like(matrix, 1.0e10)\n",
    "            costs[0][0] = matrix[0][0]\n",
    "            num_path = torch.zeros_like(matrix)\n",
    "            num_path[0][0] = 1\n",
    "            priority_queue = [(matrix[0][0], (0, 0))]\n",
    "            certain = set()\n",
    "            transitions = defaultdict(tuple)\n",
    "\n",
    "            while priority_queue:\n",
    "                cur_cost, (cur_x, cur_y) = heapq.heappop(priority_queue)\n",
    "                if (cur_x, cur_y) in certain:\n",
    "                    pass\n",
    "\n",
    "                for x, y in neighbors_func(cur_x, cur_y):\n",
    "                    if (x, y) not in certain:\n",
    "                        if matrix[x][y] + costs[cur_x][cur_y] < costs[x][y]:\n",
    "                            costs[x][y] = matrix[x][y] + costs[cur_x][cur_y]\n",
    "                            heapq.heappush(priority_queue, (costs[x][y], (x, y)))\n",
    "                            transitions[(x, y)] = (cur_x, cur_y)\n",
    "                            num_path[x, y] = num_path[cur_x, cur_y]\n",
    "                        elif matrix[x][y] + costs[cur_x][cur_y] == costs[x][y]:\n",
    "                            num_path[x, y] += 1\n",
    "\n",
    "                certain.add((cur_x, cur_y))\n",
    "            \n",
    "            # Retrieve the path\n",
    "            cur_x, cur_y = x_max - 1, y_max - 1\n",
    "            on_path = torch.zeros_like(matrix)\n",
    "            on_path[-1][-1] = 1\n",
    "            while (cur_x, cur_y) != (0, 0):\n",
    "                cur_x, cur_y = transitions[(cur_x, cur_y)]\n",
    "                on_path[cur_x, cur_y] = 1.0\n",
    "\n",
    "            outputs.append(on_path.unsqueeze(0))\n",
    "\n",
    "        return torch.stack(outputs).squeeze(1).requires_grad_(True)"
   ]
  },
  {
   "cell_type": "markdown",
   "metadata": {},
   "source": [
    "Write a new function, Dijkstra_graph() that takes a Graph object as input. Previously, Dijkstra would calculate the shortest path using the output of the CNN that embeds the image. Now we are embedding the image with a GNN. Dijkstra will use these node embeddings."
   ]
  },
  {
   "cell_type": "code",
   "execution_count": 2,
   "metadata": {},
   "outputs": [
    {
     "name": "stdout",
     "output_type": "stream",
     "text": [
      "Data(edge_index=[2, 656], labels=[123, 1], pixel count=[123], total color=[123, 3], mean color=[123, 3], weight=[656], num_nodes=123, edge_attr=[656], x=[123])\n"
     ]
    }
   ],
   "source": [
    "graph = torch.load(\"/home/duser/masters_project/data/test_graph.pt\")\n",
    "graph.x = torch.randn(123)\n",
    "print(graph)"
   ]
  },
  {
   "cell_type": "code",
   "execution_count": 3,
   "metadata": {},
   "outputs": [
    {
     "name": "stdout",
     "output_type": "stream",
     "text": [
      "tensor([[120, 120, 120, 120, 121, 121, 121, 121, 122, 122],\n",
      "        [100, 111, 115, 118, 110, 113, 119, 122, 113, 121]])\n",
      "tensor([0.0077, 0.0219, 0.1461, 0.0996, 0.0132, 0.0064, 0.5102, 0.0062, 0.0006,\n",
      "        0.0062], dtype=torch.float64)\n",
      "tensor([-1.3126, -0.3864, -1.7624,  0.6923, -0.4066,  0.9946, -1.0944,  0.9513,\n",
      "        -0.3106, -0.5734])\n"
     ]
    }
   ],
   "source": [
    "print(graph.edge_index[:, -10:])\n",
    "print(graph.edge_attr[-10:])\n",
    "print(graph.x[-10:])"
   ]
  },
  {
   "cell_type": "code",
   "execution_count": 4,
   "metadata": {},
   "outputs": [
    {
     "name": "stdout",
     "output_type": "stream",
     "text": [
      "[[0], [1], [2]]\n",
      "[0]\n",
      "0.001629531327589027\n",
      "[1, 22, 23]\n"
     ]
    }
   ],
   "source": [
    "neighbours = [[i] for i in (graph.edge_index[0] == 0).nonzero(as_tuple=True)[0].tolist()] # Checked this is correct\n",
    "print(neighbours)\n",
    "print(neighbours[np.argmin([graph.edge_attr[i].item() for i in neighbours])]) # Index of neighbour with shortest dist\n",
    "print(min([graph.edge_attr[i].item() for i in neighbours])) # Dist from source node to nearest neighbor\n",
    "print([graph.edge_index[1][i].item() for i in neighbours])"
   ]
  },
  {
   "cell_type": "code",
   "execution_count": 15,
   "metadata": {},
   "outputs": [
    {
     "data": {
      "text/plain": [
       "[0, 23, 26, 46, 60, 67, 76, 83, 99, 106, 119, 121, 122]"
      ]
     },
     "execution_count": 15,
     "metadata": {},
     "output_type": "execute_result"
    }
   ],
   "source": [
    "import torch_geometric as pyg \n",
    "import networkx as nx\n",
    "\n",
    "nx_graph = pyg.utils.to_networkx(graph)\n",
    "nx.shortest_path(nx_graph, source=0, target=122)"
   ]
  },
  {
   "cell_type": "code",
   "execution_count": 25,
   "metadata": {},
   "outputs": [
    {
     "data": {
      "text/plain": [
       "<matplotlib.image.AxesImage at 0x7fc3f74f8490>"
      ]
     },
     "execution_count": 25,
     "metadata": {},
     "output_type": "execute_result"
    },
    {
     "data": {
      "image/png": "[encoded data removed]",
      "text/plain": [
       "<Figure size 640x480 with 1 Axes>"
      ]
     },
     "metadata": {},
     "output_type": "display_data"
    }
   ],
   "source": [
    "# [0, 23, 26, 46, 60, 67, 76, 83, 99, 106, 119, 121, 122]\n",
    "grid = np.zeros((11,11))\n",
    "\n",
    "for ele in nx.shortest_path(nx_graph, source=0, target=122):\n",
    "    i = ele // 11 # This is the row \n",
    "    j = ele % 11 # This is the column  \n",
    "\n",
    "    if i % 2 != 0:\n",
    "        j=-j\n",
    "\n",
    "    try:\n",
    "        grid[i,j] = 1\n",
    "    except IndexError:\n",
    "        pass\n",
    "\n",
    "plt.imshow(grid)"
   ]
  },
  {
   "cell_type": "code",
   "execution_count": 15,
   "metadata": {},
   "outputs": [
    {
     "name": "stdout",
     "output_type": "stream",
     "text": [
      "> \u001b[0;32m/tmp/ipykernel_2406747/3568162201.py\u001b[0m(39)\u001b[0;36mDijkstra_graph\u001b[0;34m()\u001b[0m\n",
      "\u001b[0;32m     37 \u001b[0;31m\u001b[0;34m\u001b[0m\u001b[0m\n",
      "\u001b[0m\u001b[0;32m     38 \u001b[0;31m    \u001b[0;31m# Initialize distances and paths\u001b[0m\u001b[0;34m\u001b[0m\u001b[0;34m\u001b[0m\u001b[0m\n",
      "\u001b[0m\u001b[0;32m---> 39 \u001b[0;31m    \u001b[0mdistances\u001b[0m \u001b[0;34m=\u001b[0m \u001b[0;34m{\u001b[0m\u001b[0mnode\u001b[0m\u001b[0;34m:\u001b[0m \u001b[0mfloat\u001b[0m\u001b[0;34m(\u001b[0m\u001b[0;34m'inf'\u001b[0m\u001b[0;34m)\u001b[0m \u001b[0;32mfor\u001b[0m \u001b[0mnode\u001b[0m \u001b[0;32min\u001b[0m \u001b[0mrange\u001b[0m\u001b[0;34m(\u001b[0m\u001b[0mtarget\u001b[0m\u001b[0;34m)\u001b[0m\u001b[0;34m}\u001b[0m\u001b[0;34m\u001b[0m\u001b[0;34m\u001b[0m\u001b[0m\n",
      "\u001b[0m\u001b[0;32m     40 \u001b[0;31m    \u001b[0mpaths\u001b[0m \u001b[0;34m=\u001b[0m \u001b[0;34m{\u001b[0m\u001b[0mnode\u001b[0m\u001b[0;34m:\u001b[0m \u001b[0;34m[\u001b[0m\u001b[0;34m]\u001b[0m \u001b[0;32mfor\u001b[0m \u001b[0mnode\u001b[0m \u001b[0;32min\u001b[0m \u001b[0mrange\u001b[0m\u001b[0;34m(\u001b[0m\u001b[0mtarget\u001b[0m\u001b[0;34m)\u001b[0m\u001b[0;34m}\u001b[0m\u001b[0;34m\u001b[0m\u001b[0;34m\u001b[0m\u001b[0m\n",
      "\u001b[0m\u001b[0;32m     41 \u001b[0;31m\u001b[0;34m\u001b[0m\u001b[0m\n",
      "\u001b[0m\n"
     ]
    },
    {
     "name": "stdout",
     "output_type": "stream",
     "text": [
      "{0: {1: 0.33722153306007385, 22: 0.33722153306007385, 23: 0.33722153306007385}, 1: {0: -0.27628815174102783, 2: -0.27628815174102783, 23: -0.27628815174102783, 13: -0.27628815174102783}, 2: {1: -0.394226998090744, 3: -0.394226998090744, 13: -0.394226998090744}, 3: {2: -0.0337224081158638, 4: -0.0337224081158638, 13: -0.0337224081158638, 16: -0.0337224081158638}, 4: {3: 0.902908980846405, 5: 0.902908980846405, 16: 0.902908980846405, 17: 0.902908980846405}, 5: {4: -0.8936281204223633, 6: -0.8936281204223633, 17: -0.8936281204223633, 18: -0.8936281204223633, 24: -0.8936281204223633}, 6: {5: 0.04699596017599106, 7: 0.04699596017599106, 18: 0.04699596017599106}, 7: {6: 1.6066697835922241, 8: 1.6066697835922241, 18: 1.6066697835922241, 19: 1.6066697835922241}, 8: {7: 0.6264039278030396, 9: 0.6264039278030396, 12: 0.6264039278030396, 19: 0.6264039278030396}, 9: {8: 0.3283235430717468, 10: 0.3283235430717468, 12: 0.3283235430717468, 20: 0.3283235430717468, 21: 0.3283235430717468}, 10: {9: -0.4846245348453522, 11: -0.4846245348453522, 14: -0.4846245348453522, 21: -0.4846245348453522}, 11: {10: 0.3626701533794403, 14: 0.3626701533794403, 15: 0.3626701533794403}, 12: {8: 0.5306146144866943, 9: 0.5306146144866943, 19: 0.5306146144866943, 20: 0.5306146144866943, 25: 0.5306146144866943, 32: 0.5306146144866943}, 13: {1: -1.524886131286621, 2: -1.524886131286621, 3: -1.524886131286621, 16: -1.524886131286621, 23: -1.524886131286621, 26: -1.524886131286621}, 14: {10: -0.9974660873413086, 11: -0.9974660873413086, 21: -0.9974660873413086, 15: -0.9974660873413086, 29: -0.9974660873413086, 33: -0.9974660873413086}, 15: {11: 1.0883036851882935, 14: 1.0883036851882935, 29: 1.0883036851882935}, 16: {3: -0.33200839161872864, 4: -0.33200839161872864, 13: -0.33200839161872864, 17: -0.33200839161872864, 26: -0.33200839161872864, 31: -0.33200839161872864}, 17: {4: 0.6139612197875977, 5: 0.6139612197875977, 16: 0.6139612197875977, 24: 0.6139612197875977, 27: 0.6139612197875977, 31: 0.6139612197875977}, 18: {5: -2.7810022830963135, 6: -2.7810022830963135, 7: -2.7810022830963135, 19: -2.7810022830963135, 24: -2.7810022830963135, 28: -2.7810022830963135}, 19: {7: 0.6592815518379211, 8: 0.6592815518379211, 12: 0.6592815518379211, 18: 0.6592815518379211, 25: 0.6592815518379211, 28: 0.6592815518379211}, 20: {9: -0.5482483506202698, 12: -0.5482483506202698, 21: -0.5482483506202698, 33: -0.5482483506202698, 32: -0.5482483506202698}, 21: {9: 0.2549203932285309, 10: 0.2549203932285309, 14: 0.2549203932285309, 20: 0.2549203932285309, 33: 0.2549203932285309}, 22: {0: 2.0133917331695557, 23: 2.0133917331695557, 30: 2.0133917331695557}, 23: {0: 0.512459933757782, 1: 0.512459933757782, 13: 0.512459933757782, 22: 0.512459933757782, 26: 0.512459933757782, 30: 0.512459933757782, 34: 0.512459933757782}, 24: {5: -0.12988953292369843, 17: -0.12988953292369843, 18: -0.12988953292369843, 27: -0.12988953292369843, 28: -0.12988953292369843, 37: -0.12988953292369843, 38: -0.12988953292369843}, 25: {12: 1.1107509136199951, 19: 1.1107509136199951, 32: 1.1107509136199951, 28: 1.1107509136199951, 35: 1.1107509136199951}, 26: {13: -0.7960941195487976, 16: -0.7960941195487976, 23: -0.7960941195487976, 34: -0.7960941195487976, 31: -0.7960941195487976, 41: -0.7960941195487976, 36: -0.7960941195487976, 46: -0.7960941195487976}, 27: {17: 1.7862417697906494, 24: 1.7862417697906494, 31: 1.7862417697906494, 36: 1.7862417697906494, 37: 1.7862417697906494}, 28: {18: 1.5451661348342896, 19: 1.5451661348342896, 24: 1.5451661348342896, 25: 1.5451661348342896, 35: 1.5451661348342896, 38: 1.5451661348342896}, 29: {14: -1.5265049934387207, 15: -1.5265049934387207, 33: -1.5265049934387207, 39: -1.5265049934387207, 40: -1.5265049934387207}, 30: {22: -0.40869665145874023, 23: -0.40869665145874023, 34: -0.40869665145874023, 42: -0.40869665145874023}, 31: {16: -0.3830864727497101, 17: -0.3830864727497101, 26: -0.3830864727497101, 27: -0.3830864727497101, 36: -0.3830864727497101}, 32: {12: 1.2547457218170166, 20: 1.2547457218170166, 25: 1.2547457218170166, 33: 1.2547457218170166, 35: 1.2547457218170166}, 33: {14: 0.6994499564170837, 20: 0.6994499564170837, 21: 0.6994499564170837, 29: 0.6994499564170837, 32: 0.6994499564170837, 39: 0.6994499564170837, 35: 0.6994499564170837, 44: 0.6994499564170837}, 34: {23: -0.4254712462425232, 26: -0.4254712462425232, 30: -0.4254712462425232, 41: -0.4254712462425232, 42: -0.4254712462425232, 45: -0.4254712462425232}, 35: {25: 0.42695412039756775, 28: 0.42695412039756775, 32: 0.42695412039756775, 33: 0.42695412039756775, 38: 0.42695412039756775, 44: 0.42695412039756775, 48: 0.42695412039756775}, 36: {26: 2.0843961238861084, 27: 2.0843961238861084, 31: 2.0843961238861084, 37: 2.0843961238861084, 46: 2.0843961238861084, 47: 2.0843961238861084}, 37: {24: -0.18557175993919373, 27: -0.18557175993919373, 36: -0.18557175993919373, 43: -0.18557175993919373, 38: -0.18557175993919373, 47: -0.18557175993919373, 53: -0.18557175993919373}, 38: {24: -0.5133580565452576, 28: -0.5133580565452576, 35: -0.5133580565452576, 37: -0.5133580565452576, 43: -0.5133580565452576, 48: -0.5133580565452576, 54: -0.5133580565452576}, 39: {29: -0.3107857406139374, 33: -0.3107857406139374, 40: -0.3107857406139374, 44: -0.3107857406139374, 49: -0.3107857406139374}, 40: {29: 0.799196183681488, 39: 0.799196183681488, 49: 0.799196183681488, 56: 0.799196183681488}, 41: {26: -1.704095482826233, 34: -1.704095482826233, 45: -1.704095482826233, 46: -1.704095482826233}, 42: {30: 0.0938120186328888, 34: 0.0938120186328888, 45: 0.0938120186328888, 51: 0.0938120186328888}, 43: {37: -0.6182063817977905, 38: -0.6182063817977905, 53: -0.6182063817977905, 54: -0.6182063817977905, 55: -0.6182063817977905}, 44: {33: 0.3015807867050171, 35: 0.3015807867050171, 39: 0.3015807867050171, 49: 0.3015807867050171, 48: 0.3015807867050171, 50: 0.3015807867050171, 57: 0.3015807867050171, 58: 0.3015807867050171}, 45: {34: 0.021700328215956688, 41: 0.021700328215956688, 42: 0.021700328215956688, 46: 0.021700328215956688, 51: 0.021700328215956688, 52: 0.021700328215956688, 59: 0.021700328215956688}, 46: {26: 1.2955634593963623, 36: 1.2955634593963623, 41: 1.2955634593963623, 45: 1.2955634593963623, 47: 1.2955634593963623, 52: 1.2955634593963623, 60: 1.2955634593963623}, 47: {36: 0.011898291297256947, 37: 0.011898291297256947, 46: 0.011898291297256947, 53: 0.011898291297256947, 60: 0.011898291297256947}, 48: {35: 0.7186840176582336, 38: 0.7186840176582336, 44: 0.7186840176582336, 50: 0.7186840176582336, 54: 0.7186840176582336, 62: 0.7186840176582336}, 49: {39: 0.4438701868057251, 40: 0.4438701868057251, 44: 0.4438701868057251, 56: 0.4438701868057251, 58: 0.4438701868057251}, 50: {44: -1.487205982208252, 48: -1.487205982208252, 62: -1.487205982208252, 63: -1.487205982208252, 57: -1.487205982208252}, 51: {42: -2.5573678016662598, 45: -2.5573678016662598, 59: -2.5573678016662598, 61: -2.5573678016662598}, 52: {45: 0.4531392753124237, 46: 0.4531392753124237, 59: 0.4531392753124237, 60: 0.4531392753124237, 65: 0.4531392753124237}, 53: {37: -0.5203130841255188, 43: -0.5203130841255188, 47: -0.5203130841255188, 55: -0.5203130841255188, 60: -0.5203130841255188, 64: -0.5203130841255188, 67: -0.5203130841255188}, 54: {38: -2.2631118297576904, 43: -2.2631118297576904, 48: -2.2631118297576904, 55: -2.2631118297576904, 62: -2.2631118297576904, 64: -2.2631118297576904}, 55: {43: 1.0185420513153076, 53: 1.0185420513153076, 54: 1.0185420513153076, 64: 1.0185420513153076}, 56: {40: 1.1167216300964355, 49: 1.1167216300964355, 58: 1.1167216300964355, 74: 1.1167216300964355}, 57: {44: -0.6502748131752014, 50: -0.6502748131752014, 58: -0.6502748131752014, 63: -0.6502748131752014, 68: -0.6502748131752014}, 58: {44: 1.8680638074874878, 49: 1.8680638074874878, 56: 1.8680638074874878, 57: 1.8680638074874878, 73: 1.8680638074874878, 74: 1.8680638074874878, 68: 1.8680638074874878}, 59: {45: 1.6749842166900635, 51: 1.6749842166900635, 52: 1.6749842166900635, 61: 1.6749842166900635, 65: 1.6749842166900635, 71: 1.6749842166900635, 75: 1.6749842166900635}, 60: {46: 0.4298677444458008, 47: 0.4298677444458008, 52: 0.4298677444458008, 53: 0.4298677444458008, 65: 0.4298677444458008, 66: 0.4298677444458008, 67: 0.4298677444458008}, 61: {51: -1.116201639175415, 59: -1.116201639175415, 71: -1.116201639175415}, 62: {48: -0.41921865940093994, 50: -0.41921865940093994, 54: -0.41921865940093994, 64: -0.41921865940093994, 63: -0.41921865940093994, 69: -0.41921865940093994, 70: -0.41921865940093994, 72: -0.41921865940093994, 77: -0.41921865940093994}, 63: {50: -1.9384287595748901, 57: -1.9384287595748901, 62: -1.9384287595748901, 70: -1.9384287595748901, 68: -1.9384287595748901}, 64: {53: -0.0924411341547966, 54: -0.0924411341547966, 55: -0.0924411341547966, 62: -0.0924411341547966, 67: -0.0924411341547966, 72: -0.0924411341547966, 76: -0.0924411341547966}, 65: {52: -0.4233001172542572, 59: -0.4233001172542572, 60: -0.4233001172542572, 66: -0.4233001172542572, 75: -0.4233001172542572, 78: -0.4233001172542572}, 66: {60: -0.599402129650116, 65: -0.599402129650116, 67: -0.599402129650116, 78: -0.599402129650116}, 67: {53: 0.8373956084251404, 60: 0.8373956084251404, 64: 0.8373956084251404, 66: 0.8373956084251404, 76: 0.8373956084251404, 72: 0.8373956084251404, 78: 0.8373956084251404}, 68: {57: 0.3353990614414215, 58: 0.3353990614414215, 63: 0.3353990614414215, 70: 0.3353990614414215, 79: 0.3353990614414215, 73: 0.3353990614414215, 80: 0.3353990614414215}, 69: {62: 0.34380078315734863, 70: 0.34380078315734863, 77: 0.34380078315734863, 80: 0.34380078315734863}, 70: {62: -2.55292010307312, 63: -2.55292010307312, 68: -2.55292010307312, 69: -2.55292010307312, 80: -2.55292010307312, 79: -2.55292010307312}, 71: {59: -0.42480164766311646, 61: -0.42480164766311646, 75: -0.42480164766311646}, 72: {62: 1.3739615678787231, 64: 1.3739615678787231, 67: 1.3739615678787231, 76: 1.3739615678787231, 77: 1.3739615678787231}, 73: {58: 1.155871033668518, 68: 1.155871033668518, 74: 1.155871033668518, 79: 1.155871033668518, 84: 1.155871033668518, 85: 1.155871033668518}, 74: {56: 0.03362438827753067, 58: 0.03362438827753067, 73: 0.03362438827753067, 85: 0.03362438827753067}, 75: {59: 1.2030073404312134, 65: 1.2030073404312134, 71: 1.2030073404312134, 78: 1.2030073404312134, 81: 1.2030073404312134, 82: 1.2030073404312134}, 76: {64: 0.7010243535041809, 67: 0.7010243535041809, 72: 0.7010243535041809, 78: 0.7010243535041809, 77: 0.7010243535041809, 83: 0.7010243535041809, 90: 0.7010243535041809}, 77: {62: -0.237782821059227, 69: -0.237782821059227, 72: -0.237782821059227, 76: -0.237782821059227, 80: -0.237782821059227, 83: -0.237782821059227, 87: -0.237782821059227, 88: -0.237782821059227}, 78: {65: 0.5477794408798218, 66: 0.5477794408798218, 67: 0.5477794408798218, 75: 0.5477794408798218, 76: 0.5477794408798218, 82: 0.5477794408798218, 86: 0.5477794408798218, 89: 0.5477794408798218, 90: 0.5477794408798218}, 79: {68: 1.0253868103027344, 70: 1.0253868103027344, 73: 1.0253868103027344, 80: 1.0253868103027344, 91: 1.0253868103027344, 84: 1.0253868103027344}, 80: {68: 1.1383657455444336, 69: 1.1383657455444336, 70: 1.1383657455444336, 77: 1.1383657455444336, 79: 1.1383657455444336, 88: 1.1383657455444336, 91: 1.1383657455444336, 92: 1.1383657455444336}, 81: {75: -2.5679636001586914, 82: -2.5679636001586914, 93: -2.5679636001586914}, 82: {75: 0.9178500771522522, 78: 0.9178500771522522, 81: 0.9178500771522522, 86: 0.9178500771522522, 93: 0.9178500771522522, 95: 0.9178500771522522}, 83: {76: -0.613617479801178, 77: -0.613617479801178, 87: -0.613617479801178, 90: -0.613617479801178, 99: -0.613617479801178, 100: -0.613617479801178}, 84: {73: -1.3594372272491455, 79: -1.3594372272491455, 85: -1.3594372272491455, 91: -1.3594372272491455, 94: -1.3594372272491455, 97: -1.3594372272491455, 98: -1.3594372272491455}, 85: {73: 0.6820243000984192, 74: 0.6820243000984192, 84: 0.6820243000984192, 94: 0.6820243000984192}, 86: {78: 0.4317181706428528, 82: 0.4317181706428528, 89: 0.4317181706428528, 95: 0.4317181706428528, 101: 0.4317181706428528}, 87: {77: 1.0032352209091187, 83: 1.0032352209091187, 88: 1.0032352209091187, 96: 1.0032352209091187, 99: 1.0032352209091187}, 88: {77: -0.556984543800354, 80: -0.556984543800354, 87: -0.556984543800354, 92: -0.556984543800354, 96: -0.556984543800354}, 89: {78: 0.41086050868034363, 86: 0.41086050868034363, 90: 0.41086050868034363, 101: 0.41086050868034363, 109: 0.41086050868034363}, 90: {76: 1.013322114944458, 78: 1.013322114944458, 83: 1.013322114944458, 89: 1.013322114944458, 100: 1.013322114944458, 102: 1.013322114944458, 109: 1.013322114944458}, 91: {79: 0.3020726144313812, 80: 0.3020726144313812, 84: 0.3020726144313812, 92: 0.3020726144313812, 97: 0.3020726144313812}, 92: {80: 0.10341441631317139, 88: 0.10341441631317139, 91: 0.10341441631317139, 96: 0.10341441631317139, 97: 0.10341441631317139, 106: 0.10341441631317139}, 93: {81: 0.26015397906303406, 82: 0.26015397906303406, 95: 0.26015397906303406, 103: 0.26015397906303406}, 94: {84: -0.22063536942005157, 85: -0.22063536942005157, 98: -0.22063536942005157, 105: -0.22063536942005157, 107: -0.22063536942005157}, 95: {82: 1.4243600368499756, 86: 1.4243600368499756, 93: 1.4243600368499756, 103: 1.4243600368499756, 101: 1.4243600368499756, 108: 1.4243600368499756}, 96: {87: 1.039514183998108, 88: 1.039514183998108, 92: 1.039514183998108, 99: 1.039514183998108, 106: 1.039514183998108}, 97: {84: 0.5822526216506958, 91: 0.5822526216506958, 92: 0.5822526216506958, 98: 0.5822526216506958, 104: 0.5822526216506958, 106: 0.5822526216506958}, 98: {84: 0.6254611611366272, 94: 0.6254611611366272, 97: 0.6254611611366272, 105: 0.6254611611366272, 104: 0.6254611611366272}, 99: {83: 0.2152150273323059, 87: 0.2152150273323059, 96: 0.2152150273323059, 100: 0.2152150273323059, 106: 0.2152150273323059, 111: 0.2152150273323059, 112: 0.2152150273323059}, 100: {83: 0.6783037185668945, 90: 0.6783037185668945, 99: 0.6783037185668945, 102: 0.6783037185668945, 111: 0.6783037185668945, 115: 0.6783037185668945, 120: 0.6783037185668945}, 101: {86: 0.656592845916748, 89: 0.656592845916748, 95: 0.656592845916748, 108: 0.656592845916748, 109: 0.656592845916748, 114: 0.656592845916748, 118: 0.656592845916748}, 102: {90: -0.3932717442512512, 100: -0.3932717442512512, 109: -0.3932717442512512, 115: -0.3932717442512512}, 103: {93: -0.06585269421339035, 95: -0.06585269421339035, 108: -0.06585269421339035, 116: -0.06585269421339035, 117: -0.06585269421339035}, 104: {97: 1.3073891401290894, 98: 1.3073891401290894, 105: 1.3073891401290894, 106: 1.3073891401290894, 110: 1.3073891401290894, 119: 1.3073891401290894}, 105: {94: -0.981023371219635, 98: -0.981023371219635, 104: -0.981023371219635, 107: -0.981023371219635, 110: -0.981023371219635, 113: -0.981023371219635}, 106: {92: -0.5792422294616699, 96: -0.5792422294616699, 97: -0.5792422294616699, 99: -0.5792422294616699, 104: -0.5792422294616699, 112: -0.5792422294616699, 119: -0.5792422294616699}, 107: {94: 1.0216926336288452, 105: 1.0216926336288452, 113: 1.0216926336288452}, 108: {95: 0.1407945305109024, 101: 0.1407945305109024, 103: 0.1407945305109024, 114: 0.1407945305109024, 116: 0.1407945305109024, 117: 0.1407945305109024}, 109: {89: 0.021897900849580765, 90: 0.021897900849580765, 101: 0.021897900849580765, 102: 0.021897900849580765, 115: 0.021897900849580765, 118: 0.021897900849580765}, 110: {104: -2.2973575592041016, 105: -2.2973575592041016, 113: -2.2973575592041016, 119: -2.2973575592041016, 121: -2.2973575592041016}, 111: {99: -0.33010590076446533, 100: -0.33010590076446533, 112: -0.33010590076446533, 120: -0.33010590076446533}, 112: {99: 0.13372060656547546, 106: 0.13372060656547546, 111: 0.13372060656547546, 119: 0.13372060656547546}, 113: {105: 1.4663002490997314, 107: 1.4663002490997314, 110: 1.4663002490997314, 121: 1.4663002490997314, 122: 1.4663002490997314}, 114: {101: 1.2952691316604614, 108: 1.2952691316604614, 118: 1.2952691316604614, 117: 1.2952691316604614}, 115: {100: -0.6717433333396912, 102: -0.6717433333396912, 109: -0.6717433333396912, 120: -0.6717433333396912, 118: -0.6717433333396912}, 116: {103: -1.2138783931732178, 108: -1.2138783931732178, 117: -1.2138783931732178}, 117: {103: -0.6529458165168762, 108: -0.6529458165168762, 114: -0.6529458165168762, 116: -0.6529458165168762}, 118: {101: 0.18705472350120544, 109: 0.18705472350120544, 114: 0.18705472350120544, 115: 0.18705472350120544, 120: 0.18705472350120544}, 119: {104: -1.1060806512832642, 106: -1.1060806512832642, 110: -1.1060806512832642, 112: -1.1060806512832642, 121: -1.1060806512832642}, 120: {100: 0.5725473761558533, 111: 0.5725473761558533, 115: 0.5725473761558533, 118: 0.5725473761558533}, 121: {110: 0.2779458463191986, 113: 0.2779458463191986, 119: 0.2779458463191986, 122: 0.2779458463191986}, 122: {113: 2.310875415802002, 121: 2.310875415802002}}\n",
      "--KeyboardInterrupt--\n",
      "\n",
      "KeyboardInterrupt: Interrupted by user\n"
     ]
    }
   ],
   "source": [
    "def Dijkstra_graph(graph_obj, source=0, target=123): # Shortest path finder with graph input\n",
    "\n",
    "    \"\"\"\n",
    "    edge_index = graph.edge_index\n",
    "    edge_attr = graph.edge_attr\n",
    "\n",
    "    \n",
    "    source = 1 # Node with label 1\n",
    "    destination = 123 # PERCEIVED destination node (must check)\n",
    "    cost = []\n",
    "    prev = []\n",
    "    Q = [] # Set of vertices that have the least dist[v] value\n",
    "\n",
    "    for node in graph.labels:\n",
    "        cost[node] = torch.inf\n",
    "        Q.append(node)\n",
    "    cost[source] = 0\n",
    "\n",
    "    while len(Q) != 0:\n",
    "        u = Q[0] # Will update per loop\n",
    "        # Need node u and the index of its neighbours according to their place in 'edge_index'\n",
    "        neighbours_index = (edge_index[0] == u).nonzero(as_tuple=True)[0].item\n",
    "        u = neighbours_index[torch.argmin([edge_attr[i] for i in neighbours_index])]\n",
    "        Q = Q[1:] # Remove u from Q\n",
    "\n",
    "        for v in neighbours_index:\n",
    "            if v in Q:\n",
    "                alt = min([graph.edge_attr[i].item() for i in neighbours_index])\n",
    "    \"\"\"\n",
    "\n",
    "    # Turn Graph object into adjacency list\n",
    "    # E.g: {'1': {neighbour1 : dist_to_neighbour1,\n",
    "    #             neighbour2 : dist_to_neighbour2....}\n",
    "    #       '2': {...}}\n",
    "    graph = {node: {graph_obj.edge_index[1][neighbor_index].item(): graph_obj.x[node].item() for neighbor_index in [[i] for i in (graph_obj.edge_index[0] == node).nonzero(as_tuple=True)[0].tolist()]} for node in range(target)}\n",
    "    import pdb; pdb.set_trace()\n",
    "\n",
    "    # Initialize distances and paths\n",
    "    distances = {node: float('inf') for node in range(target)}\n",
    "    paths = {node: [] for node in range(target)}\n",
    "\n",
    "    # Priority queue for Dijkstra's algorithm\n",
    "    priority_queue = [(0, source, [source])]\n",
    "    \n",
    "    while priority_queue:\n",
    "        current_distance, current_node, current_path = heapq.heappop(priority_queue)\n",
    "        \n",
    "        # Check if the current path is shorter than the known path to the current node\n",
    "        if current_distance < distances[current_node]:\n",
    "            distances[current_node] = current_distance\n",
    "            paths[current_node] = current_path\n",
    "            \n",
    "            # Explore neighbors\n",
    "            for neighbor, weight in graph[current_node].items():\n",
    "                heapq.heappush(priority_queue, (current_distance + weight, neighbor, current_path + [neighbor]))\n",
    "    \n",
    "    # Return all shortest paths to the target node\n",
    "    return distances[target], paths[target]\n",
    "\n",
    "\n",
    "\"\"\"# Example graph represented as an adjacency list\n",
    "graph = {\n",
    "    'A': {'B': 1, 'C': 4},\n",
    "    'B': {'A': 1, 'C': 2, 'D': 5},\n",
    "    'C': {'A': 4, 'B': 2, 'D': 1},\n",
    "    'D': {'B': 5, 'C': 1}\n",
    "}\n",
    "\n",
    "source_node = 'A'\n",
    "target_node = 'D'\"\"\"\n",
    "\n",
    "shortest_distance, shortest_paths = Dijkstra_graph(graph)\n",
    "\n",
    "print(f\"Shortest Distance from {1} to {122}: {shortest_distance}\")\n",
    "print(f\"All Shortest Paths: {shortest_paths}\")"
   ]
  },
  {
   "cell_type": "code",
   "execution_count": null,
   "metadata": {},
   "outputs": [],
   "source": [
    "plt.plot()"
   ]
  }
 ],
 "metadata": {
  "kernelspec": {
   "display_name": "venv",
   "language": "python",
   "name": "python3"
  },
  "language_info": {
   "codemirror_mode": {
    "name": "ipython",
    "version": 3
   },
   "file_extension": ".py",
   "mimetype": "text/x-python",
   "name": "python",
   "nbconvert_exporter": "python",
   "pygments_lexer": "ipython3",
   "version": "3.9.17"
  }
 },
 "nbformat": 4,
 "nbformat_minor": 2
}
